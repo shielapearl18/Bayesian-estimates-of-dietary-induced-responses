{
 "cells": [
  {
   "cell_type": "code",
   "execution_count": 3,
   "id": "4d1bed59",
   "metadata": {},
   "outputs": [],
   "source": [
    "import matplotlib.pyplot as plt\n",
    "import seaborn as sns\n",
    "import numpy as np\n",
    "import pandas as pd\n",
    "import arviz as az\n",
    "import pymc3 as pm\n",
    "import scipy.stats as stats\n",
    "import pickle\n",
    "\n",
    "\n",
    "sns.set(style=\"ticks\", context='poster', font_scale=0.9)\n",
    "%matplotlib inline\n",
    "\n",
    "RANDOM_SEED = 8927"
   ]
  },
  {
   "cell_type": "code",
   "execution_count": 2,
   "id": "2329bc06",
   "metadata": {
    "scrolled": true
   },
   "outputs": [
    {
     "name": "stdout",
     "output_type": "stream",
     "text": [
      "Name: pymc3\n",
      "Version: 3.11.2\n",
      "Summary: Probabilistic Programming in Python: Bayesian Modeling and Probabilistic Machine Learning with Theano\n",
      "Home-page: http://github.com/pymc-devs/pymc3\n",
      "Author: \n",
      "Author-email: \n",
      "License: Apache License, Version 2.0\n",
      "Location: /Users/squiobe/opt/anaconda3/lib/python3.9/site-packages\n",
      "Requires: cachetools, pandas, numpy, patsy, arviz, theano-pymc, semver, scipy, typing-extensions, dill, fastprogress\n",
      "Required-by: \n",
      "Note: you may need to restart the kernel to use updated packages.\n"
     ]
    }
   ],
   "source": [
    "pip show pymc3"
   ]
  },
  {
   "cell_type": "code",
   "execution_count": 45,
   "id": "b5577872",
   "metadata": {},
   "outputs": [],
   "source": [
    "WT= pd.read_csv('./WT_F1Rev.csv', sep=';', index_col=0)\n",
    "WT_reformatted = pd.DataFrame()\n",
    "for i in range(6):\n",
    "    obs = np.array(WT.iloc[:,i])/20.\n",
    "    temp = pd.DataFrame.from_dict({'id': np.arange(0, len(obs), 1), 'Generation': [i+1 for j in range(len(obs))], 'Eu': list(obs),'Grp': 'miR0'})\n",
    "    WT_reformatted = pd.concat([WT_reformatted, temp])"
   ]
  },
  {
   "cell_type": "code",
   "execution_count": 46,
   "id": "d76dbf8d",
   "metadata": {},
   "outputs": [],
   "source": [
    "def calculate_stat(eu_obs, tot):\n",
    "    G_samples = eu_obs\n",
    "    N_samples = [tot for i in range(len(G_samples))]\n",
    "    n_sets = len(G_samples)\n",
    "    group_idx = np.repeat(np.arange(len(N_samples)), N_samples)\n",
    "    data = []\n",
    "     # parameters of hyperprior ω\n",
    "    a=2 \n",
    "    b=2 ###1.2\n",
    "    for i in range(0, len(N_samples)):\n",
    "        data.extend(np.repeat([1, 0], [G_samples[i], N_samples[i]-G_samples[i]]))\n",
    "    with pm.Model() as model:\n",
    "        ω = pm.Beta('ω', a, b)\n",
    "        κ = pm.Gamma('κ', 3, 1)\n",
    "        θ = pm.Beta('θ', alpha=ω*(κ-2)+1, beta=(1-ω)*(κ-2)+1, shape=n_sets)\n",
    "        y = pm.Bernoulli('y', p=θ[group_idx], observed=data)\n",
    "        trace = pm.sample(tune=1000, draws=10000, target_accept=0.95, random_seed=RANDOM_SEED, return_inferencedata=True)\n",
    "        stat_result = az.summary(trace, round_to=3, hdi_prob=0.95)\n",
    "    return stat_result, trace"
   ]
  },
  {
   "cell_type": "code",
   "execution_count": 47,
   "id": "755f06e0",
   "metadata": {},
   "outputs": [
    {
     "name": "stderr",
     "output_type": "stream",
     "text": [
      "Auto-assigning NUTS sampler...\n",
      "Initializing NUTS using jitter+adapt_diag...\n",
      "Multiprocess sampling (4 chains in 4 jobs)\n",
      "NUTS: [θ, κ, ω]\n"
     ]
    },
    {
     "data": {
      "text/html": [
       "\n",
       "<style>\n",
       "    /* Turns off some styling */\n",
       "    progress {\n",
       "        /* gets rid of default border in Firefox and Opera. */\n",
       "        border: none;\n",
       "        /* Needs to be in here for Safari polyfill so background images work as expected. */\n",
       "        background-size: auto;\n",
       "    }\n",
       "    progress:not([value]), progress:not([value])::-webkit-progress-bar {\n",
       "        background: repeating-linear-gradient(45deg, #7e7e7e, #7e7e7e 10px, #5c5c5c 10px, #5c5c5c 20px);\n",
       "    }\n",
       "    .progress-bar-interrupted, .progress-bar-interrupted::-webkit-progress-bar {\n",
       "        background: #F44336;\n",
       "    }\n",
       "</style>\n"
      ],
      "text/plain": [
       "<IPython.core.display.HTML object>"
      ]
     },
     "metadata": {},
     "output_type": "display_data"
    },
    {
     "data": {
      "text/html": [
       "\n",
       "    <div>\n",
       "      <progress value='44000' class='' max='44000' style='width:300px; height:20px; vertical-align: middle;'></progress>\n",
       "      100.00% [44000/44000 00:22&lt;00:00 Sampling 4 chains, 0 divergences]\n",
       "    </div>\n",
       "    "
      ],
      "text/plain": [
       "<IPython.core.display.HTML object>"
      ]
     },
     "metadata": {},
     "output_type": "display_data"
    },
    {
     "name": "stderr",
     "output_type": "stream",
     "text": [
      "Sampling 4 chains for 1_000 tune and 10_000 draw iterations (4_000 + 40_000 draws total) took 56 seconds.\n"
     ]
    }
   ],
   "source": [
    "WT_F0 = WT[['F0']]\n",
    "WT_F0_res = dict()\n",
    "for tmp_gen in range(1):\n",
    "    tmp_data = WT_F0.iloc[:,tmp_gen]\n",
    "    tmp_data_no0 = tmp_data[tmp_data!=0]\n",
    "    WT_F0_res[tmp_gen] = calculate_stat(tmp_data_no0.tolist(), tot=20)"
   ]
  },
  {
   "cell_type": "code",
   "execution_count": 3,
   "id": "8845f10a",
   "metadata": {},
   "outputs": [],
   "source": [
    "def calculate_stat(eu_obs, tot):\n",
    "    G_samples = eu_obs\n",
    "    N_samples = [tot for i in range(len(G_samples))]\n",
    "    n_sets = len(G_samples)\n",
    "    group_idx = np.repeat(np.arange(len(N_samples)), N_samples)\n",
    "    data = []\n",
    "     # parameters of hyperprior ω\n",
    "    a=5 \n",
    "    b=2 ###1.2\n",
    "    for i in range(0, len(N_samples)):\n",
    "        data.extend(np.repeat([1, 0], [G_samples[i], N_samples[i]-G_samples[i]]))\n",
    "    with pm.Model() as model:\n",
    "        ω = pm.Beta('ω', a, b)\n",
    "        κ = pm.Gamma('κ', 3, 1)\n",
    "        θ = pm.Beta('θ', alpha=ω*(κ-2)+1, beta=(1-ω)*(κ-2)+1, shape=n_sets)\n",
    "        y = pm.Bernoulli('y', p=θ[group_idx], observed=data)\n",
    "        trace = pm.sample(tune=1000, draws=10000, target_accept=0.95, random_seed=RANDOM_SEED, return_inferencedata=True)\n",
    "        stat_result = az.summary(trace, round_to=3, hdi_prob=0.95)\n",
    "    return stat_result, trace"
   ]
  },
  {
   "cell_type": "code",
   "execution_count": 288,
   "id": "30abf964",
   "metadata": {},
   "outputs": [],
   "source": [
    "WT_F1N = WT[['F1']]\n",
    "WT_F1N_reformatted = pd.DataFrame()\n",
    "for i in range(1):\n",
    "    obs = np.array(WT_F1N.iloc[:,i])/20.\n",
    "    temp = pd.DataFrame.from_dict({'id': np.arange(0, len(obs), 1), 'Generation': [i+1 for j in range(len(obs))], 'Eu': list(obs),'Grp': 'miR0'})\n",
    "    WT_F1N_reformatted = pd.concat([WT_F1N_reformatted, temp])"
   ]
  },
  {
   "cell_type": "code",
   "execution_count": 5,
   "id": "71b5acc3",
   "metadata": {
    "scrolled": true
   },
   "outputs": [
    {
     "name": "stderr",
     "output_type": "stream",
     "text": [
      "Auto-assigning NUTS sampler...\n",
      "Initializing NUTS using jitter+adapt_diag...\n",
      "Multiprocess sampling (4 chains in 4 jobs)\n",
      "NUTS: [θ, κ, ω]\n"
     ]
    },
    {
     "data": {
      "text/html": [
       "\n",
       "<style>\n",
       "    /* Turns off some styling */\n",
       "    progress {\n",
       "        /* gets rid of default border in Firefox and Opera. */\n",
       "        border: none;\n",
       "        /* Needs to be in here for Safari polyfill so background images work as expected. */\n",
       "        background-size: auto;\n",
       "    }\n",
       "    progress:not([value]), progress:not([value])::-webkit-progress-bar {\n",
       "        background: repeating-linear-gradient(45deg, #7e7e7e, #7e7e7e 10px, #5c5c5c 10px, #5c5c5c 20px);\n",
       "    }\n",
       "    .progress-bar-interrupted, .progress-bar-interrupted::-webkit-progress-bar {\n",
       "        background: #F44336;\n",
       "    }\n",
       "</style>\n"
      ],
      "text/plain": [
       "<IPython.core.display.HTML object>"
      ]
     },
     "metadata": {},
     "output_type": "display_data"
    },
    {
     "data": {
      "text/html": [
       "\n",
       "    <div>\n",
       "      <progress value='44000' class='' max='44000' style='width:300px; height:20px; vertical-align: middle;'></progress>\n",
       "      100.00% [44000/44000 00:20&lt;00:00 Sampling 4 chains, 0 divergences]\n",
       "    </div>\n",
       "    "
      ],
      "text/plain": [
       "<IPython.core.display.HTML object>"
      ]
     },
     "metadata": {},
     "output_type": "display_data"
    },
    {
     "name": "stderr",
     "output_type": "stream",
     "text": [
      "Sampling 4 chains for 1_000 tune and 10_000 draw iterations (4_000 + 40_000 draws total) took 54 seconds.\n",
      "Auto-assigning NUTS sampler...\n",
      "Initializing NUTS using jitter+adapt_diag...\n",
      "Multiprocess sampling (4 chains in 4 jobs)\n",
      "NUTS: [θ, κ, ω]\n"
     ]
    },
    {
     "data": {
      "text/html": [
       "\n",
       "<style>\n",
       "    /* Turns off some styling */\n",
       "    progress {\n",
       "        /* gets rid of default border in Firefox and Opera. */\n",
       "        border: none;\n",
       "        /* Needs to be in here for Safari polyfill so background images work as expected. */\n",
       "        background-size: auto;\n",
       "    }\n",
       "    progress:not([value]), progress:not([value])::-webkit-progress-bar {\n",
       "        background: repeating-linear-gradient(45deg, #7e7e7e, #7e7e7e 10px, #5c5c5c 10px, #5c5c5c 20px);\n",
       "    }\n",
       "    .progress-bar-interrupted, .progress-bar-interrupted::-webkit-progress-bar {\n",
       "        background: #F44336;\n",
       "    }\n",
       "</style>\n"
      ],
      "text/plain": [
       "<IPython.core.display.HTML object>"
      ]
     },
     "metadata": {},
     "output_type": "display_data"
    },
    {
     "data": {
      "text/html": [
       "\n",
       "    <div>\n",
       "      <progress value='44000' class='' max='44000' style='width:300px; height:20px; vertical-align: middle;'></progress>\n",
       "      100.00% [44000/44000 00:31&lt;00:00 Sampling 4 chains, 0 divergences]\n",
       "    </div>\n",
       "    "
      ],
      "text/plain": [
       "<IPython.core.display.HTML object>"
      ]
     },
     "metadata": {},
     "output_type": "display_data"
    },
    {
     "name": "stderr",
     "output_type": "stream",
     "text": [
      "Sampling 4 chains for 1_000 tune and 10_000 draw iterations (4_000 + 40_000 draws total) took 60 seconds.\n",
      "Auto-assigning NUTS sampler...\n",
      "Initializing NUTS using jitter+adapt_diag...\n",
      "Multiprocess sampling (4 chains in 4 jobs)\n",
      "NUTS: [θ, κ, ω]\n"
     ]
    },
    {
     "data": {
      "text/html": [
       "\n",
       "<style>\n",
       "    /* Turns off some styling */\n",
       "    progress {\n",
       "        /* gets rid of default border in Firefox and Opera. */\n",
       "        border: none;\n",
       "        /* Needs to be in here for Safari polyfill so background images work as expected. */\n",
       "        background-size: auto;\n",
       "    }\n",
       "    progress:not([value]), progress:not([value])::-webkit-progress-bar {\n",
       "        background: repeating-linear-gradient(45deg, #7e7e7e, #7e7e7e 10px, #5c5c5c 10px, #5c5c5c 20px);\n",
       "    }\n",
       "    .progress-bar-interrupted, .progress-bar-interrupted::-webkit-progress-bar {\n",
       "        background: #F44336;\n",
       "    }\n",
       "</style>\n"
      ],
      "text/plain": [
       "<IPython.core.display.HTML object>"
      ]
     },
     "metadata": {},
     "output_type": "display_data"
    },
    {
     "data": {
      "text/html": [
       "\n",
       "    <div>\n",
       "      <progress value='44000' class='' max='44000' style='width:300px; height:20px; vertical-align: middle;'></progress>\n",
       "      100.00% [44000/44000 00:22&lt;00:00 Sampling 4 chains, 0 divergences]\n",
       "    </div>\n",
       "    "
      ],
      "text/plain": [
       "<IPython.core.display.HTML object>"
      ]
     },
     "metadata": {},
     "output_type": "display_data"
    },
    {
     "name": "stderr",
     "output_type": "stream",
     "text": [
      "Sampling 4 chains for 1_000 tune and 10_000 draw iterations (4_000 + 40_000 draws total) took 52 seconds.\n",
      "Auto-assigning NUTS sampler...\n",
      "Initializing NUTS using jitter+adapt_diag...\n",
      "Multiprocess sampling (4 chains in 4 jobs)\n",
      "NUTS: [θ, κ, ω]\n"
     ]
    },
    {
     "data": {
      "text/html": [
       "\n",
       "<style>\n",
       "    /* Turns off some styling */\n",
       "    progress {\n",
       "        /* gets rid of default border in Firefox and Opera. */\n",
       "        border: none;\n",
       "        /* Needs to be in here for Safari polyfill so background images work as expected. */\n",
       "        background-size: auto;\n",
       "    }\n",
       "    progress:not([value]), progress:not([value])::-webkit-progress-bar {\n",
       "        background: repeating-linear-gradient(45deg, #7e7e7e, #7e7e7e 10px, #5c5c5c 10px, #5c5c5c 20px);\n",
       "    }\n",
       "    .progress-bar-interrupted, .progress-bar-interrupted::-webkit-progress-bar {\n",
       "        background: #F44336;\n",
       "    }\n",
       "</style>\n"
      ],
      "text/plain": [
       "<IPython.core.display.HTML object>"
      ]
     },
     "metadata": {},
     "output_type": "display_data"
    },
    {
     "data": {
      "text/html": [
       "\n",
       "    <div>\n",
       "      <progress value='44000' class='' max='44000' style='width:300px; height:20px; vertical-align: middle;'></progress>\n",
       "      100.00% [44000/44000 00:26&lt;00:00 Sampling 4 chains, 0 divergences]\n",
       "    </div>\n",
       "    "
      ],
      "text/plain": [
       "<IPython.core.display.HTML object>"
      ]
     },
     "metadata": {},
     "output_type": "display_data"
    },
    {
     "name": "stderr",
     "output_type": "stream",
     "text": [
      "Sampling 4 chains for 1_000 tune and 10_000 draw iterations (4_000 + 40_000 draws total) took 58 seconds.\n"
     ]
    }
   ],
   "source": [
    "WT_F1Rev = WT[['R1','R2','R3','R4']]\n",
    "WT_F1Rev_res = dict()\n",
    "for tmp_gen in range(4):\n",
    "    tmp_data = WT_F1Rev.iloc[:,tmp_gen]\n",
    "    tmp_data_no0 = tmp_data[tmp_data!=0]\n",
    "    WT_F1Rev_res[tmp_gen] = calculate_stat(tmp_data_no0.tolist(), tot=20)"
   ]
  },
  {
   "cell_type": "code",
   "execution_count": null,
   "id": "45c491be",
   "metadata": {},
   "outputs": [],
   "source": []
  },
  {
   "cell_type": "code",
   "execution_count": 49,
   "id": "1cbc7056",
   "metadata": {},
   "outputs": [],
   "source": [
    "mir2= pd.read_csv('./tuDf9_F1Rev.csv', sep=';', index_col=0)\n",
    "mir2_reformatted = pd.DataFrame()\n",
    "for i in range(6):\n",
    "    obs = np.array(mir2.iloc[:,i])/20.\n",
    "    temp = pd.DataFrame.from_dict({'id': np.arange(0, len(obs), 1), 'Generation': [i+0.15 for j in range(len(obs))], 'Eu': list(obs),'Grp': 'miR0'})\n",
    "    mir2_reformatted = pd.concat([mir2_reformatted, temp])"
   ]
  },
  {
   "cell_type": "code",
   "execution_count": 265,
   "id": "fac3d976",
   "metadata": {},
   "outputs": [],
   "source": [
    "def calculate_stat(eu_obs, tot):\n",
    "    G_samples = eu_obs\n",
    "    N_samples = [tot for i in range(len(G_samples))]\n",
    "    n_sets = len(G_samples)\n",
    "    group_idx = np.repeat(np.arange(len(N_samples)), N_samples)\n",
    "    data = []\n",
    "     # parameters of hyperprior ω\n",
    "    a=2 \n",
    "    b=2 ###1.2\n",
    "    for i in range(0, len(N_samples)):\n",
    "        data.extend(np.repeat([1, 0], [G_samples[i], N_samples[i]-G_samples[i]]))\n",
    "    with pm.Model() as model:\n",
    "        ω = pm.Beta('ω', a, b)\n",
    "        κ = pm.Gamma('κ', 3, 1)\n",
    "        θ = pm.Beta('θ', alpha=ω*(κ-2)+1, beta=(1-ω)*(κ-2)+1, shape=n_sets)\n",
    "        y = pm.Bernoulli('y', p=θ[group_idx], observed=data)\n",
    "        trace = pm.sample(tune=1000, draws=10000, target_accept=0.95, random_seed=RANDOM_SEED, return_inferencedata=True)\n",
    "        stat_result = az.summary(trace, round_to=3, hdi_prob=0.95)\n",
    "    return stat_result, trace"
   ]
  },
  {
   "cell_type": "code",
   "execution_count": 50,
   "id": "aaf4c6cc",
   "metadata": {},
   "outputs": [
    {
     "name": "stderr",
     "output_type": "stream",
     "text": [
      "Auto-assigning NUTS sampler...\n",
      "Initializing NUTS using jitter+adapt_diag...\n",
      "Multiprocess sampling (4 chains in 4 jobs)\n",
      "NUTS: [θ, κ, ω]\n"
     ]
    },
    {
     "data": {
      "text/html": [
       "\n",
       "<style>\n",
       "    /* Turns off some styling */\n",
       "    progress {\n",
       "        /* gets rid of default border in Firefox and Opera. */\n",
       "        border: none;\n",
       "        /* Needs to be in here for Safari polyfill so background images work as expected. */\n",
       "        background-size: auto;\n",
       "    }\n",
       "    progress:not([value]), progress:not([value])::-webkit-progress-bar {\n",
       "        background: repeating-linear-gradient(45deg, #7e7e7e, #7e7e7e 10px, #5c5c5c 10px, #5c5c5c 20px);\n",
       "    }\n",
       "    .progress-bar-interrupted, .progress-bar-interrupted::-webkit-progress-bar {\n",
       "        background: #F44336;\n",
       "    }\n",
       "</style>\n"
      ],
      "text/plain": [
       "<IPython.core.display.HTML object>"
      ]
     },
     "metadata": {},
     "output_type": "display_data"
    },
    {
     "data": {
      "text/html": [
       "\n",
       "    <div>\n",
       "      <progress value='44000' class='' max='44000' style='width:300px; height:20px; vertical-align: middle;'></progress>\n",
       "      100.00% [44000/44000 00:19&lt;00:00 Sampling 4 chains, 0 divergences]\n",
       "    </div>\n",
       "    "
      ],
      "text/plain": [
       "<IPython.core.display.HTML object>"
      ]
     },
     "metadata": {},
     "output_type": "display_data"
    },
    {
     "name": "stderr",
     "output_type": "stream",
     "text": [
      "Sampling 4 chains for 1_000 tune and 10_000 draw iterations (4_000 + 40_000 draws total) took 51 seconds.\n"
     ]
    }
   ],
   "source": [
    "mir2_F0 = mir2[['F0']]\n",
    "mir2_F0_res = dict()\n",
    "for tmp_gen in range(1):\n",
    "    tmp_data = mir2_F0.iloc[:,tmp_gen]\n",
    "    tmp_data_no0 = tmp_data[tmp_data!=0]\n",
    "    mir2_F0_res[tmp_gen] = calculate_stat(tmp_data_no0.tolist(), tot=20)"
   ]
  },
  {
   "cell_type": "code",
   "execution_count": 287,
   "id": "789b43da",
   "metadata": {},
   "outputs": [],
   "source": [
    "mir2_F1N = mir2[['F1']]\n",
    "mir2_F1N_reformatted = pd.DataFrame()\n",
    "for i in range(1):\n",
    "    obs = np.array(mir2_F1N.iloc[:,i])/20.\n",
    "    temp = pd.DataFrame.from_dict({'id': np.arange(0, len(obs), 1), 'Generation': [i+1.15 for j in range(len(obs))], 'Eu': list(obs),'Grp': 'miR0'})\n",
    "    mir2_F1N_reformatted = pd.concat([mir2_F1N_reformatted, temp])"
   ]
  },
  {
   "cell_type": "code",
   "execution_count": 10,
   "id": "acaeef68",
   "metadata": {},
   "outputs": [],
   "source": [
    "def calculate_stat(eu_obs, tot):\n",
    "    G_samples = eu_obs\n",
    "    N_samples = [tot for i in range(len(G_samples))]\n",
    "    n_sets = len(G_samples)\n",
    "    group_idx = np.repeat(np.arange(len(N_samples)), N_samples)\n",
    "    data = []\n",
    "     # parameters of hyperprior ω\n",
    "    a=5 \n",
    "    b=4 ###1.2\n",
    "    for i in range(0, len(N_samples)):\n",
    "        data.extend(np.repeat([1, 0], [G_samples[i], N_samples[i]-G_samples[i]]))\n",
    "    with pm.Model() as model:\n",
    "        ω = pm.Beta('ω', a, b)\n",
    "        κ = pm.Gamma('κ', 3, 1)\n",
    "        θ = pm.Beta('θ', alpha=ω*(κ-2)+1, beta=(1-ω)*(κ-2)+1, shape=n_sets)\n",
    "        y = pm.Bernoulli('y', p=θ[group_idx], observed=data)\n",
    "        trace = pm.sample(tune=1000, draws=10000, target_accept=0.95, random_seed=RANDOM_SEED, return_inferencedata=True)\n",
    "        stat_result = az.summary(trace, round_to=3, hdi_prob=0.95)\n",
    "    return stat_result, trace"
   ]
  },
  {
   "cell_type": "code",
   "execution_count": 9,
   "id": "e9a25685",
   "metadata": {},
   "outputs": [
    {
     "name": "stderr",
     "output_type": "stream",
     "text": [
      "Auto-assigning NUTS sampler...\n",
      "Initializing NUTS using jitter+adapt_diag...\n",
      "Multiprocess sampling (4 chains in 4 jobs)\n",
      "NUTS: [θ, κ, ω]\n"
     ]
    },
    {
     "data": {
      "text/html": [
       "\n",
       "<style>\n",
       "    /* Turns off some styling */\n",
       "    progress {\n",
       "        /* gets rid of default border in Firefox and Opera. */\n",
       "        border: none;\n",
       "        /* Needs to be in here for Safari polyfill so background images work as expected. */\n",
       "        background-size: auto;\n",
       "    }\n",
       "    progress:not([value]), progress:not([value])::-webkit-progress-bar {\n",
       "        background: repeating-linear-gradient(45deg, #7e7e7e, #7e7e7e 10px, #5c5c5c 10px, #5c5c5c 20px);\n",
       "    }\n",
       "    .progress-bar-interrupted, .progress-bar-interrupted::-webkit-progress-bar {\n",
       "        background: #F44336;\n",
       "    }\n",
       "</style>\n"
      ],
      "text/plain": [
       "<IPython.core.display.HTML object>"
      ]
     },
     "metadata": {},
     "output_type": "display_data"
    },
    {
     "data": {
      "text/html": [
       "\n",
       "    <div>\n",
       "      <progress value='44000' class='' max='44000' style='width:300px; height:20px; vertical-align: middle;'></progress>\n",
       "      100.00% [44000/44000 00:20&lt;00:00 Sampling 4 chains, 0 divergences]\n",
       "    </div>\n",
       "    "
      ],
      "text/plain": [
       "<IPython.core.display.HTML object>"
      ]
     },
     "metadata": {},
     "output_type": "display_data"
    },
    {
     "name": "stderr",
     "output_type": "stream",
     "text": [
      "Sampling 4 chains for 1_000 tune and 10_000 draw iterations (4_000 + 40_000 draws total) took 49 seconds.\n"
     ]
    }
   ],
   "source": [
    "mir2_F1R_1 = mir2[['R1']]\n",
    "mir2_F1R_1_res = dict()\n",
    "for tmp_gen in range(1):\n",
    "    tmp_data = mir2_F1R_1.iloc[:,tmp_gen]\n",
    "    tmp_data_no0 = tmp_data[tmp_data!=0]\n",
    "    mir2_F1R_1_res[tmp_gen] = calculate_stat(tmp_data_no0.tolist(), tot=20)"
   ]
  },
  {
   "cell_type": "code",
   "execution_count": 11,
   "id": "81a3c37d",
   "metadata": {},
   "outputs": [
    {
     "name": "stderr",
     "output_type": "stream",
     "text": [
      "Auto-assigning NUTS sampler...\n",
      "Initializing NUTS using jitter+adapt_diag...\n",
      "Multiprocess sampling (4 chains in 4 jobs)\n",
      "NUTS: [θ, κ, ω]\n"
     ]
    },
    {
     "data": {
      "text/html": [
       "\n",
       "<style>\n",
       "    /* Turns off some styling */\n",
       "    progress {\n",
       "        /* gets rid of default border in Firefox and Opera. */\n",
       "        border: none;\n",
       "        /* Needs to be in here for Safari polyfill so background images work as expected. */\n",
       "        background-size: auto;\n",
       "    }\n",
       "    progress:not([value]), progress:not([value])::-webkit-progress-bar {\n",
       "        background: repeating-linear-gradient(45deg, #7e7e7e, #7e7e7e 10px, #5c5c5c 10px, #5c5c5c 20px);\n",
       "    }\n",
       "    .progress-bar-interrupted, .progress-bar-interrupted::-webkit-progress-bar {\n",
       "        background: #F44336;\n",
       "    }\n",
       "</style>\n"
      ],
      "text/plain": [
       "<IPython.core.display.HTML object>"
      ]
     },
     "metadata": {},
     "output_type": "display_data"
    },
    {
     "data": {
      "text/html": [
       "\n",
       "    <div>\n",
       "      <progress value='44000' class='' max='44000' style='width:300px; height:20px; vertical-align: middle;'></progress>\n",
       "      100.00% [44000/44000 00:19&lt;00:00 Sampling 4 chains, 0 divergences]\n",
       "    </div>\n",
       "    "
      ],
      "text/plain": [
       "<IPython.core.display.HTML object>"
      ]
     },
     "metadata": {},
     "output_type": "display_data"
    },
    {
     "name": "stderr",
     "output_type": "stream",
     "text": [
      "Sampling 4 chains for 1_000 tune and 10_000 draw iterations (4_000 + 40_000 draws total) took 48 seconds.\n",
      "Auto-assigning NUTS sampler...\n",
      "Initializing NUTS using jitter+adapt_diag...\n",
      "Multiprocess sampling (4 chains in 4 jobs)\n",
      "NUTS: [θ, κ, ω]\n"
     ]
    },
    {
     "data": {
      "text/html": [
       "\n",
       "<style>\n",
       "    /* Turns off some styling */\n",
       "    progress {\n",
       "        /* gets rid of default border in Firefox and Opera. */\n",
       "        border: none;\n",
       "        /* Needs to be in here for Safari polyfill so background images work as expected. */\n",
       "        background-size: auto;\n",
       "    }\n",
       "    progress:not([value]), progress:not([value])::-webkit-progress-bar {\n",
       "        background: repeating-linear-gradient(45deg, #7e7e7e, #7e7e7e 10px, #5c5c5c 10px, #5c5c5c 20px);\n",
       "    }\n",
       "    .progress-bar-interrupted, .progress-bar-interrupted::-webkit-progress-bar {\n",
       "        background: #F44336;\n",
       "    }\n",
       "</style>\n"
      ],
      "text/plain": [
       "<IPython.core.display.HTML object>"
      ]
     },
     "metadata": {},
     "output_type": "display_data"
    },
    {
     "data": {
      "text/html": [
       "\n",
       "    <div>\n",
       "      <progress value='44000' class='' max='44000' style='width:300px; height:20px; vertical-align: middle;'></progress>\n",
       "      100.00% [44000/44000 00:18&lt;00:00 Sampling 4 chains, 0 divergences]\n",
       "    </div>\n",
       "    "
      ],
      "text/plain": [
       "<IPython.core.display.HTML object>"
      ]
     },
     "metadata": {},
     "output_type": "display_data"
    },
    {
     "name": "stderr",
     "output_type": "stream",
     "text": [
      "Sampling 4 chains for 1_000 tune and 10_000 draw iterations (4_000 + 40_000 draws total) took 47 seconds.\n",
      "Auto-assigning NUTS sampler...\n",
      "Initializing NUTS using jitter+adapt_diag...\n",
      "Multiprocess sampling (4 chains in 4 jobs)\n",
      "NUTS: [θ, κ, ω]\n"
     ]
    },
    {
     "data": {
      "text/html": [
       "\n",
       "<style>\n",
       "    /* Turns off some styling */\n",
       "    progress {\n",
       "        /* gets rid of default border in Firefox and Opera. */\n",
       "        border: none;\n",
       "        /* Needs to be in here for Safari polyfill so background images work as expected. */\n",
       "        background-size: auto;\n",
       "    }\n",
       "    progress:not([value]), progress:not([value])::-webkit-progress-bar {\n",
       "        background: repeating-linear-gradient(45deg, #7e7e7e, #7e7e7e 10px, #5c5c5c 10px, #5c5c5c 20px);\n",
       "    }\n",
       "    .progress-bar-interrupted, .progress-bar-interrupted::-webkit-progress-bar {\n",
       "        background: #F44336;\n",
       "    }\n",
       "</style>\n"
      ],
      "text/plain": [
       "<IPython.core.display.HTML object>"
      ]
     },
     "metadata": {},
     "output_type": "display_data"
    },
    {
     "data": {
      "text/html": [
       "\n",
       "    <div>\n",
       "      <progress value='44000' class='' max='44000' style='width:300px; height:20px; vertical-align: middle;'></progress>\n",
       "      100.00% [44000/44000 00:18&lt;00:00 Sampling 4 chains, 0 divergences]\n",
       "    </div>\n",
       "    "
      ],
      "text/plain": [
       "<IPython.core.display.HTML object>"
      ]
     },
     "metadata": {},
     "output_type": "display_data"
    },
    {
     "name": "stderr",
     "output_type": "stream",
     "text": [
      "Sampling 4 chains for 1_000 tune and 10_000 draw iterations (4_000 + 40_000 draws total) took 47 seconds.\n"
     ]
    }
   ],
   "source": [
    "mir2_F1R_2 = mir2[['R2','R3','R4']]\n",
    "mir2_F1R_2_res = dict()\n",
    "for tmp_gen in range(3):\n",
    "    tmp_data = mir2_F1R_2.iloc[:,tmp_gen]\n",
    "    tmp_data_no0 = tmp_data[tmp_data!=0]\n",
    "    mir2_F1R_2_res[tmp_gen] = calculate_stat(tmp_data_no0.tolist(), tot=20)"
   ]
  },
  {
   "cell_type": "code",
   "execution_count": null,
   "id": "fb335e28",
   "metadata": {},
   "outputs": [],
   "source": []
  },
  {
   "cell_type": "code",
   "execution_count": 51,
   "id": "33455100",
   "metadata": {},
   "outputs": [],
   "source": [
    "mir1= pd.read_csv('./tuDf10_F1Rev.csv', sep=';', index_col=0)\n",
    "mir1_reformatted = pd.DataFrame()\n",
    "for i in range(6):\n",
    "    obs = np.array(mir1.iloc[:,i])/20.\n",
    "    temp = pd.DataFrame.from_dict({'id': np.arange(0, len(obs), 1), 'Generation': [i+0.30 for j in range(len(obs))], 'Eu': list(obs),'Grp': 'miR0'})\n",
    "    mir1_reformatted = pd.concat([mir1_reformatted, temp])"
   ]
  },
  {
   "cell_type": "code",
   "execution_count": 268,
   "id": "e222f754",
   "metadata": {},
   "outputs": [],
   "source": [
    "def calculate_stat(eu_obs, tot):\n",
    "    G_samples = eu_obs\n",
    "    N_samples = [tot for i in range(len(G_samples))]\n",
    "    n_sets = len(G_samples)\n",
    "    group_idx = np.repeat(np.arange(len(N_samples)), N_samples)\n",
    "    data = []\n",
    "     # parameters of hyperprior ω\n",
    "    a=2 \n",
    "    b=2 ###1.2\n",
    "    for i in range(0, len(N_samples)):\n",
    "        data.extend(np.repeat([1, 0], [G_samples[i], N_samples[i]-G_samples[i]]))\n",
    "    with pm.Model() as model:\n",
    "        ω = pm.Beta('ω', a, b)\n",
    "        κ = pm.Gamma('κ', 3, 1)\n",
    "        θ = pm.Beta('θ', alpha=ω*(κ-2)+1, beta=(1-ω)*(κ-2)+1, shape=n_sets)\n",
    "        y = pm.Bernoulli('y', p=θ[group_idx], observed=data)\n",
    "        trace = pm.sample(tune=1000, draws=10000, target_accept=0.95, random_seed=RANDOM_SEED, return_inferencedata=True)\n",
    "        stat_result = az.summary(trace, round_to=3, hdi_prob=0.95)\n",
    "    return stat_result, trace"
   ]
  },
  {
   "cell_type": "code",
   "execution_count": 52,
   "id": "1aceb566",
   "metadata": {},
   "outputs": [
    {
     "name": "stderr",
     "output_type": "stream",
     "text": [
      "Auto-assigning NUTS sampler...\n",
      "Initializing NUTS using jitter+adapt_diag...\n",
      "Multiprocess sampling (4 chains in 4 jobs)\n",
      "NUTS: [θ, κ, ω]\n"
     ]
    },
    {
     "data": {
      "text/html": [
       "\n",
       "<style>\n",
       "    /* Turns off some styling */\n",
       "    progress {\n",
       "        /* gets rid of default border in Firefox and Opera. */\n",
       "        border: none;\n",
       "        /* Needs to be in here for Safari polyfill so background images work as expected. */\n",
       "        background-size: auto;\n",
       "    }\n",
       "    progress:not([value]), progress:not([value])::-webkit-progress-bar {\n",
       "        background: repeating-linear-gradient(45deg, #7e7e7e, #7e7e7e 10px, #5c5c5c 10px, #5c5c5c 20px);\n",
       "    }\n",
       "    .progress-bar-interrupted, .progress-bar-interrupted::-webkit-progress-bar {\n",
       "        background: #F44336;\n",
       "    }\n",
       "</style>\n"
      ],
      "text/plain": [
       "<IPython.core.display.HTML object>"
      ]
     },
     "metadata": {},
     "output_type": "display_data"
    },
    {
     "data": {
      "text/html": [
       "\n",
       "    <div>\n",
       "      <progress value='44000' class='' max='44000' style='width:300px; height:20px; vertical-align: middle;'></progress>\n",
       "      100.00% [44000/44000 00:20&lt;00:00 Sampling 4 chains, 0 divergences]\n",
       "    </div>\n",
       "    "
      ],
      "text/plain": [
       "<IPython.core.display.HTML object>"
      ]
     },
     "metadata": {},
     "output_type": "display_data"
    },
    {
     "name": "stderr",
     "output_type": "stream",
     "text": [
      "Sampling 4 chains for 1_000 tune and 10_000 draw iterations (4_000 + 40_000 draws total) took 50 seconds.\n"
     ]
    }
   ],
   "source": [
    "mir1_F0 = mir1[['F0']]\n",
    "mir1_F0_res = dict()\n",
    "for tmp_gen in range(1):\n",
    "    tmp_data = mir1_F0.iloc[:,tmp_gen]\n",
    "    tmp_data_no0 = tmp_data[tmp_data!=0]\n",
    "    mir1_F0_res[tmp_gen] = calculate_stat(tmp_data_no0.tolist(), tot=20)"
   ]
  },
  {
   "cell_type": "code",
   "execution_count": 289,
   "id": "112eeedc",
   "metadata": {},
   "outputs": [],
   "source": [
    "mir1_F1N = mir2[['F1']]\n",
    "mir1_F1N_reformatted = pd.DataFrame()\n",
    "for i in range(1):\n",
    "    obs = np.array(mir1_F1N.iloc[:,i])/20.\n",
    "    temp = pd.DataFrame.from_dict({'id': np.arange(0, len(obs), 1), 'Generation': [i+1.30 for j in range(len(obs))], 'Eu': list(obs),'Grp': 'miR0'})\n",
    "    mir1_F1N_reformatted = pd.concat([mir1_F1N_reformatted, temp])"
   ]
  },
  {
   "cell_type": "code",
   "execution_count": 119,
   "id": "cdc3e353",
   "metadata": {},
   "outputs": [],
   "source": [
    "def calculate_stat(eu_obs, tot):\n",
    "    G_samples = eu_obs\n",
    "    N_samples = [tot for i in range(len(G_samples))]\n",
    "    n_sets = len(G_samples)\n",
    "    group_idx = np.repeat(np.arange(len(N_samples)), N_samples)\n",
    "    data = []\n",
    "     # parameters of hyperprior ω\n",
    "    a=3 \n",
    "    b=2 ###1.2\n",
    "    for i in range(0, len(N_samples)):\n",
    "        data.extend(np.repeat([1, 0], [G_samples[i], N_samples[i]-G_samples[i]]))\n",
    "    with pm.Model() as model:\n",
    "        ω = pm.Beta('ω', a, b)\n",
    "        κ = pm.Gamma('κ', 3, 1)\n",
    "        θ = pm.Beta('θ', alpha=ω*(κ-2)+1, beta=(1-ω)*(κ-2)+1, shape=n_sets)\n",
    "        y = pm.Bernoulli('y', p=θ[group_idx], observed=data)\n",
    "        trace = pm.sample(tune=1000, draws=10000, target_accept=0.95, random_seed=RANDOM_SEED, return_inferencedata=True)\n",
    "        stat_result = az.summary(trace, round_to=3, hdi_prob=0.95)\n",
    "    return stat_result, trace"
   ]
  },
  {
   "cell_type": "code",
   "execution_count": 35,
   "id": "7f1846a9",
   "metadata": {},
   "outputs": [
    {
     "name": "stderr",
     "output_type": "stream",
     "text": [
      "Auto-assigning NUTS sampler...\n",
      "Initializing NUTS using jitter+adapt_diag...\n",
      "Multiprocess sampling (4 chains in 4 jobs)\n",
      "NUTS: [θ, κ, ω]\n"
     ]
    },
    {
     "data": {
      "text/html": [
       "\n",
       "<style>\n",
       "    /* Turns off some styling */\n",
       "    progress {\n",
       "        /* gets rid of default border in Firefox and Opera. */\n",
       "        border: none;\n",
       "        /* Needs to be in here for Safari polyfill so background images work as expected. */\n",
       "        background-size: auto;\n",
       "    }\n",
       "    progress:not([value]), progress:not([value])::-webkit-progress-bar {\n",
       "        background: repeating-linear-gradient(45deg, #7e7e7e, #7e7e7e 10px, #5c5c5c 10px, #5c5c5c 20px);\n",
       "    }\n",
       "    .progress-bar-interrupted, .progress-bar-interrupted::-webkit-progress-bar {\n",
       "        background: #F44336;\n",
       "    }\n",
       "</style>\n"
      ],
      "text/plain": [
       "<IPython.core.display.HTML object>"
      ]
     },
     "metadata": {},
     "output_type": "display_data"
    },
    {
     "data": {
      "text/html": [
       "\n",
       "    <div>\n",
       "      <progress value='44000' class='' max='44000' style='width:300px; height:20px; vertical-align: middle;'></progress>\n",
       "      100.00% [44000/44000 00:23&lt;00:00 Sampling 4 chains, 0 divergences]\n",
       "    </div>\n",
       "    "
      ],
      "text/plain": [
       "<IPython.core.display.HTML object>"
      ]
     },
     "metadata": {},
     "output_type": "display_data"
    },
    {
     "name": "stderr",
     "output_type": "stream",
     "text": [
      "Sampling 4 chains for 1_000 tune and 10_000 draw iterations (4_000 + 40_000 draws total) took 52 seconds.\n",
      "Auto-assigning NUTS sampler...\n",
      "Initializing NUTS using jitter+adapt_diag...\n",
      "Multiprocess sampling (4 chains in 4 jobs)\n",
      "NUTS: [θ, κ, ω]\n"
     ]
    },
    {
     "data": {
      "text/html": [
       "\n",
       "<style>\n",
       "    /* Turns off some styling */\n",
       "    progress {\n",
       "        /* gets rid of default border in Firefox and Opera. */\n",
       "        border: none;\n",
       "        /* Needs to be in here for Safari polyfill so background images work as expected. */\n",
       "        background-size: auto;\n",
       "    }\n",
       "    progress:not([value]), progress:not([value])::-webkit-progress-bar {\n",
       "        background: repeating-linear-gradient(45deg, #7e7e7e, #7e7e7e 10px, #5c5c5c 10px, #5c5c5c 20px);\n",
       "    }\n",
       "    .progress-bar-interrupted, .progress-bar-interrupted::-webkit-progress-bar {\n",
       "        background: #F44336;\n",
       "    }\n",
       "</style>\n"
      ],
      "text/plain": [
       "<IPython.core.display.HTML object>"
      ]
     },
     "metadata": {},
     "output_type": "display_data"
    },
    {
     "data": {
      "text/html": [
       "\n",
       "    <div>\n",
       "      <progress value='44000' class='' max='44000' style='width:300px; height:20px; vertical-align: middle;'></progress>\n",
       "      100.00% [44000/44000 00:22&lt;00:00 Sampling 4 chains, 0 divergences]\n",
       "    </div>\n",
       "    "
      ],
      "text/plain": [
       "<IPython.core.display.HTML object>"
      ]
     },
     "metadata": {},
     "output_type": "display_data"
    },
    {
     "name": "stderr",
     "output_type": "stream",
     "text": [
      "Sampling 4 chains for 1_000 tune and 10_000 draw iterations (4_000 + 40_000 draws total) took 51 seconds.\n"
     ]
    }
   ],
   "source": [
    "mir1_F1R_1 = mir1[['R1','R2']]\n",
    "mir1_F1R_1_res = dict()\n",
    "for tmp_gen in range(2):\n",
    "    tmp_data = mir1_F1R_1.iloc[:,tmp_gen]\n",
    "    tmp_data_no0 = tmp_data[tmp_data!=0]\n",
    "    mir1_F1R_1_res[tmp_gen] = calculate_stat(tmp_data_no0.tolist(), tot=20)"
   ]
  },
  {
   "cell_type": "code",
   "execution_count": null,
   "id": "4ff95435",
   "metadata": {},
   "outputs": [],
   "source": []
  },
  {
   "cell_type": "code",
   "execution_count": 120,
   "id": "6a386a28",
   "metadata": {},
   "outputs": [
    {
     "name": "stderr",
     "output_type": "stream",
     "text": [
      "Auto-assigning NUTS sampler...\n",
      "Initializing NUTS using jitter+adapt_diag...\n",
      "Multiprocess sampling (4 chains in 4 jobs)\n",
      "NUTS: [θ, κ, ω]\n"
     ]
    },
    {
     "data": {
      "text/html": [
       "\n",
       "<style>\n",
       "    /* Turns off some styling */\n",
       "    progress {\n",
       "        /* gets rid of default border in Firefox and Opera. */\n",
       "        border: none;\n",
       "        /* Needs to be in here for Safari polyfill so background images work as expected. */\n",
       "        background-size: auto;\n",
       "    }\n",
       "    progress:not([value]), progress:not([value])::-webkit-progress-bar {\n",
       "        background: repeating-linear-gradient(45deg, #7e7e7e, #7e7e7e 10px, #5c5c5c 10px, #5c5c5c 20px);\n",
       "    }\n",
       "    .progress-bar-interrupted, .progress-bar-interrupted::-webkit-progress-bar {\n",
       "        background: #F44336;\n",
       "    }\n",
       "</style>\n"
      ],
      "text/plain": [
       "<IPython.core.display.HTML object>"
      ]
     },
     "metadata": {},
     "output_type": "display_data"
    },
    {
     "data": {
      "text/html": [
       "\n",
       "    <div>\n",
       "      <progress value='44000' class='' max='44000' style='width:300px; height:20px; vertical-align: middle;'></progress>\n",
       "      100.00% [44000/44000 00:20&lt;00:00 Sampling 4 chains, 0 divergences]\n",
       "    </div>\n",
       "    "
      ],
      "text/plain": [
       "<IPython.core.display.HTML object>"
      ]
     },
     "metadata": {},
     "output_type": "display_data"
    },
    {
     "name": "stderr",
     "output_type": "stream",
     "text": [
      "Sampling 4 chains for 1_000 tune and 10_000 draw iterations (4_000 + 40_000 draws total) took 51 seconds.\n",
      "Auto-assigning NUTS sampler...\n",
      "Initializing NUTS using jitter+adapt_diag...\n",
      "Multiprocess sampling (4 chains in 4 jobs)\n",
      "NUTS: [θ, κ, ω]\n"
     ]
    },
    {
     "data": {
      "text/html": [
       "\n",
       "<style>\n",
       "    /* Turns off some styling */\n",
       "    progress {\n",
       "        /* gets rid of default border in Firefox and Opera. */\n",
       "        border: none;\n",
       "        /* Needs to be in here for Safari polyfill so background images work as expected. */\n",
       "        background-size: auto;\n",
       "    }\n",
       "    progress:not([value]), progress:not([value])::-webkit-progress-bar {\n",
       "        background: repeating-linear-gradient(45deg, #7e7e7e, #7e7e7e 10px, #5c5c5c 10px, #5c5c5c 20px);\n",
       "    }\n",
       "    .progress-bar-interrupted, .progress-bar-interrupted::-webkit-progress-bar {\n",
       "        background: #F44336;\n",
       "    }\n",
       "</style>\n"
      ],
      "text/plain": [
       "<IPython.core.display.HTML object>"
      ]
     },
     "metadata": {},
     "output_type": "display_data"
    },
    {
     "data": {
      "text/html": [
       "\n",
       "    <div>\n",
       "      <progress value='44000' class='' max='44000' style='width:300px; height:20px; vertical-align: middle;'></progress>\n",
       "      100.00% [44000/44000 00:19&lt;00:00 Sampling 4 chains, 0 divergences]\n",
       "    </div>\n",
       "    "
      ],
      "text/plain": [
       "<IPython.core.display.HTML object>"
      ]
     },
     "metadata": {},
     "output_type": "display_data"
    },
    {
     "name": "stderr",
     "output_type": "stream",
     "text": [
      "Sampling 4 chains for 1_000 tune and 10_000 draw iterations (4_000 + 40_000 draws total) took 51 seconds.\n"
     ]
    }
   ],
   "source": [
    "mir1_F1R_2 = mir1[['R3','R4']]\n",
    "mir1_F1R_2_res = dict()\n",
    "for tmp_gen in range(2):\n",
    "    tmp_data = mir1_F1R_2.iloc[:,tmp_gen]\n",
    "    tmp_data_no0 = tmp_data[tmp_data!=0]\n",
    "    mir1_F1R_2_res[tmp_gen] = calculate_stat(tmp_data_no0.tolist(), tot=20)"
   ]
  },
  {
   "cell_type": "code",
   "execution_count": null,
   "id": "e1097449",
   "metadata": {},
   "outputs": [],
   "source": []
  },
  {
   "cell_type": "code",
   "execution_count": 55,
   "id": "44da2b19",
   "metadata": {},
   "outputs": [],
   "source": [
    "mir0= pd.read_csv('./tuDf11_F1Rev', sep=';', index_col=0)\n",
    "mir0_reformatted = pd.DataFrame()\n",
    "for i in range(6):\n",
    "    obs = np.array(mir0.iloc[:,i])/20.\n",
    "    temp = pd.DataFrame.from_dict({'id': np.arange(0, len(obs), 1), 'Generation': [i+0.45 for j in range(len(obs))], 'Eu': list(obs),'Grp': 'miR0'})\n",
    "    mir0_reformatted = pd.concat([mir0_reformatted, temp])"
   ]
  },
  {
   "cell_type": "code",
   "execution_count": 56,
   "id": "5fc40e3c",
   "metadata": {},
   "outputs": [],
   "source": [
    "def calculate_stat(eu_obs, tot):\n",
    "    G_samples = eu_obs\n",
    "    N_samples = [tot for i in range(len(G_samples))]\n",
    "    n_sets = len(G_samples)\n",
    "    group_idx = np.repeat(np.arange(len(N_samples)), N_samples)\n",
    "    data = []\n",
    "     # parameters of hyperprior ω\n",
    "    a=2 \n",
    "    b=2 ###1.2\n",
    "    for i in range(0, len(N_samples)):\n",
    "        data.extend(np.repeat([1, 0], [G_samples[i], N_samples[i]-G_samples[i]]))\n",
    "    with pm.Model() as model:\n",
    "        ω = pm.Beta('ω', a, b)\n",
    "        κ = pm.Gamma('κ', 3, 1)\n",
    "        θ = pm.Beta('θ', alpha=ω*(κ-2)+1, beta=(1-ω)*(κ-2)+1, shape=n_sets)\n",
    "        y = pm.Bernoulli('y', p=θ[group_idx], observed=data)\n",
    "        trace = pm.sample(tune=1000, draws=10000, target_accept=0.95, random_seed=RANDOM_SEED, return_inferencedata=True)\n",
    "        stat_result = az.summary(trace, round_to=3, hdi_prob=0.95)\n",
    "    return stat_result, trace"
   ]
  },
  {
   "cell_type": "code",
   "execution_count": 57,
   "id": "8716f57b",
   "metadata": {},
   "outputs": [
    {
     "name": "stderr",
     "output_type": "stream",
     "text": [
      "Auto-assigning NUTS sampler...\n",
      "Initializing NUTS using jitter+adapt_diag...\n",
      "Multiprocess sampling (4 chains in 4 jobs)\n",
      "NUTS: [θ, κ, ω]\n"
     ]
    },
    {
     "data": {
      "text/html": [
       "\n",
       "<style>\n",
       "    /* Turns off some styling */\n",
       "    progress {\n",
       "        /* gets rid of default border in Firefox and Opera. */\n",
       "        border: none;\n",
       "        /* Needs to be in here for Safari polyfill so background images work as expected. */\n",
       "        background-size: auto;\n",
       "    }\n",
       "    progress:not([value]), progress:not([value])::-webkit-progress-bar {\n",
       "        background: repeating-linear-gradient(45deg, #7e7e7e, #7e7e7e 10px, #5c5c5c 10px, #5c5c5c 20px);\n",
       "    }\n",
       "    .progress-bar-interrupted, .progress-bar-interrupted::-webkit-progress-bar {\n",
       "        background: #F44336;\n",
       "    }\n",
       "</style>\n"
      ],
      "text/plain": [
       "<IPython.core.display.HTML object>"
      ]
     },
     "metadata": {},
     "output_type": "display_data"
    },
    {
     "data": {
      "text/html": [
       "\n",
       "    <div>\n",
       "      <progress value='44000' class='' max='44000' style='width:300px; height:20px; vertical-align: middle;'></progress>\n",
       "      100.00% [44000/44000 00:21&lt;00:00 Sampling 4 chains, 0 divergences]\n",
       "    </div>\n",
       "    "
      ],
      "text/plain": [
       "<IPython.core.display.HTML object>"
      ]
     },
     "metadata": {},
     "output_type": "display_data"
    },
    {
     "name": "stderr",
     "output_type": "stream",
     "text": [
      "Sampling 4 chains for 1_000 tune and 10_000 draw iterations (4_000 + 40_000 draws total) took 51 seconds.\n"
     ]
    }
   ],
   "source": [
    "mir0_F0 = mir0[['F0']]\n",
    "mir0_F0_res = dict()\n",
    "for tmp_gen in range(1):\n",
    "    tmp_data = mir0_F0.iloc[:,tmp_gen]\n",
    "    tmp_data_no0 = tmp_data[tmp_data!=0]\n",
    "    mir0_F0_res[tmp_gen] = calculate_stat(tmp_data_no0.tolist(), tot=20)"
   ]
  },
  {
   "cell_type": "code",
   "execution_count": 290,
   "id": "0e9357e6",
   "metadata": {},
   "outputs": [],
   "source": [
    "mir0_F1N = mir0[['F1']]\n",
    "mir0_F1N_reformatted = pd.DataFrame()\n",
    "for i in range(1):\n",
    "    obs = np.array(mir0_F1N.iloc[:,i])/20.\n",
    "    temp = pd.DataFrame.from_dict({'id': np.arange(0, len(obs), 1), 'Generation': [i+1.45 for j in range(len(obs))], 'Eu': list(obs),'Grp': 'miR0'})\n",
    "    mir0_F1N_reformatted = pd.concat([mir0_F1N_reformatted, temp])"
   ]
  },
  {
   "cell_type": "code",
   "execution_count": 111,
   "id": "135d0d1d",
   "metadata": {},
   "outputs": [],
   "source": [
    "def calculate_stat(eu_obs, tot):\n",
    "    G_samples = eu_obs\n",
    "    N_samples = [tot for i in range(len(G_samples))]\n",
    "    n_sets = len(G_samples)\n",
    "    group_idx = np.repeat(np.arange(len(N_samples)), N_samples)\n",
    "    data = []\n",
    "     # parameters of hyperprior ω\n",
    "    a=3 \n",
    "    b=2 ###1.2\n",
    "    for i in range(0, len(N_samples)):\n",
    "        data.extend(np.repeat([1, 0], [G_samples[i], N_samples[i]-G_samples[i]]))\n",
    "    with pm.Model() as model:\n",
    "        ω = pm.Beta('ω', a, b)\n",
    "        κ = pm.Gamma('κ', 3, 1)\n",
    "        θ = pm.Beta('θ', alpha=ω*(κ-2)+1, beta=(1-ω)*(κ-2)+1, shape=n_sets)\n",
    "        y = pm.Bernoulli('y', p=θ[group_idx], observed=data)\n",
    "        trace = pm.sample(tune=1000, draws=10000, target_accept=0.95, random_seed=RANDOM_SEED, return_inferencedata=True)\n",
    "        stat_result = az.summary(trace, round_to=3, hdi_prob=0.95)\n",
    "    return stat_result, trace"
   ]
  },
  {
   "cell_type": "code",
   "execution_count": 91,
   "id": "047b3f9a",
   "metadata": {
    "scrolled": true
   },
   "outputs": [
    {
     "name": "stderr",
     "output_type": "stream",
     "text": [
      "Auto-assigning NUTS sampler...\n",
      "Initializing NUTS using jitter+adapt_diag...\n",
      "Multiprocess sampling (4 chains in 4 jobs)\n",
      "NUTS: [θ, κ, ω]\n"
     ]
    },
    {
     "data": {
      "text/html": [
       "\n",
       "<style>\n",
       "    /* Turns off some styling */\n",
       "    progress {\n",
       "        /* gets rid of default border in Firefox and Opera. */\n",
       "        border: none;\n",
       "        /* Needs to be in here for Safari polyfill so background images work as expected. */\n",
       "        background-size: auto;\n",
       "    }\n",
       "    progress:not([value]), progress:not([value])::-webkit-progress-bar {\n",
       "        background: repeating-linear-gradient(45deg, #7e7e7e, #7e7e7e 10px, #5c5c5c 10px, #5c5c5c 20px);\n",
       "    }\n",
       "    .progress-bar-interrupted, .progress-bar-interrupted::-webkit-progress-bar {\n",
       "        background: #F44336;\n",
       "    }\n",
       "</style>\n"
      ],
      "text/plain": [
       "<IPython.core.display.HTML object>"
      ]
     },
     "metadata": {},
     "output_type": "display_data"
    },
    {
     "data": {
      "text/html": [
       "\n",
       "    <div>\n",
       "      <progress value='44000' class='' max='44000' style='width:300px; height:20px; vertical-align: middle;'></progress>\n",
       "      100.00% [44000/44000 00:23&lt;00:00 Sampling 4 chains, 0 divergences]\n",
       "    </div>\n",
       "    "
      ],
      "text/plain": [
       "<IPython.core.display.HTML object>"
      ]
     },
     "metadata": {},
     "output_type": "display_data"
    },
    {
     "name": "stderr",
     "output_type": "stream",
     "text": [
      "Sampling 4 chains for 1_000 tune and 10_000 draw iterations (4_000 + 40_000 draws total) took 53 seconds.\n"
     ]
    }
   ],
   "source": [
    "mir0_F1R_1 = mir0[['R1']]\n",
    "mir0_F1R_1_res = dict()\n",
    "for tmp_gen in range(1):\n",
    "    tmp_data = mir0_F1R_1.iloc[:,tmp_gen]\n",
    "    tmp_data_no0 = tmp_data[tmp_data!=0]\n",
    "    mir0_F1R_1_res[tmp_gen] = calculate_stat(tmp_data_no0.tolist(), tot=20)"
   ]
  },
  {
   "cell_type": "code",
   "execution_count": 208,
   "id": "876418dc",
   "metadata": {},
   "outputs": [
    {
     "data": {
      "text/html": [
       "<div>\n",
       "<style scoped>\n",
       "    .dataframe tbody tr th:only-of-type {\n",
       "        vertical-align: middle;\n",
       "    }\n",
       "\n",
       "    .dataframe tbody tr th {\n",
       "        vertical-align: top;\n",
       "    }\n",
       "\n",
       "    .dataframe thead th {\n",
       "        text-align: right;\n",
       "    }\n",
       "</style>\n",
       "<table border=\"1\" class=\"dataframe\">\n",
       "  <thead>\n",
       "    <tr style=\"text-align: right;\">\n",
       "      <th></th>\n",
       "      <th>mean</th>\n",
       "      <th>sd</th>\n",
       "      <th>hdi_2.5%</th>\n",
       "      <th>hdi_97.5%</th>\n",
       "      <th>mcse_mean</th>\n",
       "      <th>mcse_sd</th>\n",
       "      <th>ess_bulk</th>\n",
       "      <th>ess_tail</th>\n",
       "      <th>r_hat</th>\n",
       "    </tr>\n",
       "  </thead>\n",
       "  <tbody>\n",
       "    <tr>\n",
       "      <th>ω</th>\n",
       "      <td>0.99</td>\n",
       "      <td>0.01</td>\n",
       "      <td>0.97</td>\n",
       "      <td>1.00</td>\n",
       "      <td>0.00</td>\n",
       "      <td>0.00</td>\n",
       "      <td>27372.37</td>\n",
       "      <td>17990.74</td>\n",
       "      <td>1.0</td>\n",
       "    </tr>\n",
       "    <tr>\n",
       "      <th>κ</th>\n",
       "      <td>9.98</td>\n",
       "      <td>2.73</td>\n",
       "      <td>5.07</td>\n",
       "      <td>15.43</td>\n",
       "      <td>0.01</td>\n",
       "      <td>0.01</td>\n",
       "      <td>41334.40</td>\n",
       "      <td>28430.83</td>\n",
       "      <td>1.0</td>\n",
       "    </tr>\n",
       "    <tr>\n",
       "      <th>θ[0]</th>\n",
       "      <td>0.96</td>\n",
       "      <td>0.03</td>\n",
       "      <td>0.90</td>\n",
       "      <td>1.00</td>\n",
       "      <td>0.00</td>\n",
       "      <td>0.00</td>\n",
       "      <td>33764.14</td>\n",
       "      <td>18706.50</td>\n",
       "      <td>1.0</td>\n",
       "    </tr>\n",
       "    <tr>\n",
       "      <th>θ[1]</th>\n",
       "      <td>0.96</td>\n",
       "      <td>0.03</td>\n",
       "      <td>0.89</td>\n",
       "      <td>1.00</td>\n",
       "      <td>0.00</td>\n",
       "      <td>0.00</td>\n",
       "      <td>30070.96</td>\n",
       "      <td>17416.32</td>\n",
       "      <td>1.0</td>\n",
       "    </tr>\n",
       "    <tr>\n",
       "      <th>θ[2]</th>\n",
       "      <td>0.93</td>\n",
       "      <td>0.05</td>\n",
       "      <td>0.84</td>\n",
       "      <td>1.00</td>\n",
       "      <td>0.00</td>\n",
       "      <td>0.00</td>\n",
       "      <td>33261.24</td>\n",
       "      <td>20913.19</td>\n",
       "      <td>1.0</td>\n",
       "    </tr>\n",
       "    <tr>\n",
       "      <th>θ[3]</th>\n",
       "      <td>0.96</td>\n",
       "      <td>0.03</td>\n",
       "      <td>0.90</td>\n",
       "      <td>1.00</td>\n",
       "      <td>0.00</td>\n",
       "      <td>0.00</td>\n",
       "      <td>34291.93</td>\n",
       "      <td>18506.23</td>\n",
       "      <td>1.0</td>\n",
       "    </tr>\n",
       "    <tr>\n",
       "      <th>θ[4]</th>\n",
       "      <td>0.96</td>\n",
       "      <td>0.03</td>\n",
       "      <td>0.90</td>\n",
       "      <td>1.00</td>\n",
       "      <td>0.00</td>\n",
       "      <td>0.00</td>\n",
       "      <td>32351.92</td>\n",
       "      <td>17732.13</td>\n",
       "      <td>1.0</td>\n",
       "    </tr>\n",
       "    <tr>\n",
       "      <th>θ[5]</th>\n",
       "      <td>0.96</td>\n",
       "      <td>0.03</td>\n",
       "      <td>0.90</td>\n",
       "      <td>1.00</td>\n",
       "      <td>0.00</td>\n",
       "      <td>0.00</td>\n",
       "      <td>33127.75</td>\n",
       "      <td>19082.35</td>\n",
       "      <td>1.0</td>\n",
       "    </tr>\n",
       "    <tr>\n",
       "      <th>θ[6]</th>\n",
       "      <td>0.96</td>\n",
       "      <td>0.03</td>\n",
       "      <td>0.90</td>\n",
       "      <td>1.00</td>\n",
       "      <td>0.00</td>\n",
       "      <td>0.00</td>\n",
       "      <td>35714.20</td>\n",
       "      <td>19309.45</td>\n",
       "      <td>1.0</td>\n",
       "    </tr>\n",
       "    <tr>\n",
       "      <th>θ[7]</th>\n",
       "      <td>0.96</td>\n",
       "      <td>0.03</td>\n",
       "      <td>0.89</td>\n",
       "      <td>1.00</td>\n",
       "      <td>0.00</td>\n",
       "      <td>0.00</td>\n",
       "      <td>30991.83</td>\n",
       "      <td>18285.52</td>\n",
       "      <td>1.0</td>\n",
       "    </tr>\n",
       "    <tr>\n",
       "      <th>θ[8]</th>\n",
       "      <td>0.96</td>\n",
       "      <td>0.03</td>\n",
       "      <td>0.90</td>\n",
       "      <td>1.00</td>\n",
       "      <td>0.00</td>\n",
       "      <td>0.00</td>\n",
       "      <td>32901.56</td>\n",
       "      <td>19188.32</td>\n",
       "      <td>1.0</td>\n",
       "    </tr>\n",
       "    <tr>\n",
       "      <th>θ[9]</th>\n",
       "      <td>0.96</td>\n",
       "      <td>0.03</td>\n",
       "      <td>0.90</td>\n",
       "      <td>1.00</td>\n",
       "      <td>0.00</td>\n",
       "      <td>0.00</td>\n",
       "      <td>29994.12</td>\n",
       "      <td>17461.82</td>\n",
       "      <td>1.0</td>\n",
       "    </tr>\n",
       "  </tbody>\n",
       "</table>\n",
       "</div>"
      ],
      "text/plain": [
       "      mean    sd  hdi_2.5%  hdi_97.5%  mcse_mean  mcse_sd  ess_bulk  ess_tail  \\\n",
       "ω     0.99  0.01      0.97       1.00       0.00     0.00  27372.37  17990.74   \n",
       "κ     9.98  2.73      5.07      15.43       0.01     0.01  41334.40  28430.83   \n",
       "θ[0]  0.96  0.03      0.90       1.00       0.00     0.00  33764.14  18706.50   \n",
       "θ[1]  0.96  0.03      0.89       1.00       0.00     0.00  30070.96  17416.32   \n",
       "θ[2]  0.93  0.05      0.84       1.00       0.00     0.00  33261.24  20913.19   \n",
       "θ[3]  0.96  0.03      0.90       1.00       0.00     0.00  34291.93  18506.23   \n",
       "θ[4]  0.96  0.03      0.90       1.00       0.00     0.00  32351.92  17732.13   \n",
       "θ[5]  0.96  0.03      0.90       1.00       0.00     0.00  33127.75  19082.35   \n",
       "θ[6]  0.96  0.03      0.90       1.00       0.00     0.00  35714.20  19309.45   \n",
       "θ[7]  0.96  0.03      0.89       1.00       0.00     0.00  30991.83  18285.52   \n",
       "θ[8]  0.96  0.03      0.90       1.00       0.00     0.00  32901.56  19188.32   \n",
       "θ[9]  0.96  0.03      0.90       1.00       0.00     0.00  29994.12  17461.82   \n",
       "\n",
       "      r_hat  \n",
       "ω       1.0  \n",
       "κ       1.0  \n",
       "θ[0]    1.0  \n",
       "θ[1]    1.0  \n",
       "θ[2]    1.0  \n",
       "θ[3]    1.0  \n",
       "θ[4]    1.0  \n",
       "θ[5]    1.0  \n",
       "θ[6]    1.0  \n",
       "θ[7]    1.0  \n",
       "θ[8]    1.0  \n",
       "θ[9]    1.0  "
      ]
     },
     "execution_count": 208,
     "metadata": {},
     "output_type": "execute_result"
    }
   ],
   "source": [
    "mir0_F1R_HDI=az.summary(mir0_F1R_1_res[0][1], round_to=2, hdi_prob=0.95)\n",
    "mir0_F1R_HDI"
   ]
  },
  {
   "cell_type": "code",
   "execution_count": 210,
   "id": "a8bec286",
   "metadata": {},
   "outputs": [
    {
     "data": {
      "text/plain": [
       "hdi_97.5%    1.0\n",
       "dtype: float64"
      ]
     },
     "execution_count": 210,
     "metadata": {},
     "output_type": "execute_result"
    }
   ],
   "source": [
    "mir0_F1R_HDI.iloc[2:12,[3]].mean()\n"
   ]
  },
  {
   "cell_type": "code",
   "execution_count": 112,
   "id": "d9bc451e",
   "metadata": {},
   "outputs": [
    {
     "name": "stderr",
     "output_type": "stream",
     "text": [
      "Auto-assigning NUTS sampler...\n",
      "Initializing NUTS using jitter+adapt_diag...\n",
      "Multiprocess sampling (4 chains in 4 jobs)\n",
      "NUTS: [θ, κ, ω]\n"
     ]
    },
    {
     "data": {
      "text/html": [
       "\n",
       "<style>\n",
       "    /* Turns off some styling */\n",
       "    progress {\n",
       "        /* gets rid of default border in Firefox and Opera. */\n",
       "        border: none;\n",
       "        /* Needs to be in here for Safari polyfill so background images work as expected. */\n",
       "        background-size: auto;\n",
       "    }\n",
       "    progress:not([value]), progress:not([value])::-webkit-progress-bar {\n",
       "        background: repeating-linear-gradient(45deg, #7e7e7e, #7e7e7e 10px, #5c5c5c 10px, #5c5c5c 20px);\n",
       "    }\n",
       "    .progress-bar-interrupted, .progress-bar-interrupted::-webkit-progress-bar {\n",
       "        background: #F44336;\n",
       "    }\n",
       "</style>\n"
      ],
      "text/plain": [
       "<IPython.core.display.HTML object>"
      ]
     },
     "metadata": {},
     "output_type": "display_data"
    },
    {
     "data": {
      "text/html": [
       "\n",
       "    <div>\n",
       "      <progress value='44000' class='' max='44000' style='width:300px; height:20px; vertical-align: middle;'></progress>\n",
       "      100.00% [44000/44000 00:20&lt;00:00 Sampling 4 chains, 0 divergences]\n",
       "    </div>\n",
       "    "
      ],
      "text/plain": [
       "<IPython.core.display.HTML object>"
      ]
     },
     "metadata": {},
     "output_type": "display_data"
    },
    {
     "name": "stderr",
     "output_type": "stream",
     "text": [
      "Sampling 4 chains for 1_000 tune and 10_000 draw iterations (4_000 + 40_000 draws total) took 49 seconds.\n",
      "Auto-assigning NUTS sampler...\n",
      "Initializing NUTS using jitter+adapt_diag...\n",
      "Multiprocess sampling (4 chains in 4 jobs)\n",
      "NUTS: [θ, κ, ω]\n"
     ]
    },
    {
     "data": {
      "text/html": [
       "\n",
       "<style>\n",
       "    /* Turns off some styling */\n",
       "    progress {\n",
       "        /* gets rid of default border in Firefox and Opera. */\n",
       "        border: none;\n",
       "        /* Needs to be in here for Safari polyfill so background images work as expected. */\n",
       "        background-size: auto;\n",
       "    }\n",
       "    progress:not([value]), progress:not([value])::-webkit-progress-bar {\n",
       "        background: repeating-linear-gradient(45deg, #7e7e7e, #7e7e7e 10px, #5c5c5c 10px, #5c5c5c 20px);\n",
       "    }\n",
       "    .progress-bar-interrupted, .progress-bar-interrupted::-webkit-progress-bar {\n",
       "        background: #F44336;\n",
       "    }\n",
       "</style>\n"
      ],
      "text/plain": [
       "<IPython.core.display.HTML object>"
      ]
     },
     "metadata": {},
     "output_type": "display_data"
    },
    {
     "data": {
      "text/html": [
       "\n",
       "    <div>\n",
       "      <progress value='44000' class='' max='44000' style='width:300px; height:20px; vertical-align: middle;'></progress>\n",
       "      100.00% [44000/44000 00:18&lt;00:00 Sampling 4 chains, 0 divergences]\n",
       "    </div>\n",
       "    "
      ],
      "text/plain": [
       "<IPython.core.display.HTML object>"
      ]
     },
     "metadata": {},
     "output_type": "display_data"
    },
    {
     "name": "stderr",
     "output_type": "stream",
     "text": [
      "Sampling 4 chains for 1_000 tune and 10_000 draw iterations (4_000 + 40_000 draws total) took 47 seconds.\n",
      "Auto-assigning NUTS sampler...\n",
      "Initializing NUTS using jitter+adapt_diag...\n",
      "Multiprocess sampling (4 chains in 4 jobs)\n",
      "NUTS: [θ, κ, ω]\n"
     ]
    },
    {
     "data": {
      "text/html": [
       "\n",
       "<style>\n",
       "    /* Turns off some styling */\n",
       "    progress {\n",
       "        /* gets rid of default border in Firefox and Opera. */\n",
       "        border: none;\n",
       "        /* Needs to be in here for Safari polyfill so background images work as expected. */\n",
       "        background-size: auto;\n",
       "    }\n",
       "    progress:not([value]), progress:not([value])::-webkit-progress-bar {\n",
       "        background: repeating-linear-gradient(45deg, #7e7e7e, #7e7e7e 10px, #5c5c5c 10px, #5c5c5c 20px);\n",
       "    }\n",
       "    .progress-bar-interrupted, .progress-bar-interrupted::-webkit-progress-bar {\n",
       "        background: #F44336;\n",
       "    }\n",
       "</style>\n"
      ],
      "text/plain": [
       "<IPython.core.display.HTML object>"
      ]
     },
     "metadata": {},
     "output_type": "display_data"
    },
    {
     "data": {
      "text/html": [
       "\n",
       "    <div>\n",
       "      <progress value='44000' class='' max='44000' style='width:300px; height:20px; vertical-align: middle;'></progress>\n",
       "      100.00% [44000/44000 00:18&lt;00:00 Sampling 4 chains, 0 divergences]\n",
       "    </div>\n",
       "    "
      ],
      "text/plain": [
       "<IPython.core.display.HTML object>"
      ]
     },
     "metadata": {},
     "output_type": "display_data"
    },
    {
     "name": "stderr",
     "output_type": "stream",
     "text": [
      "Sampling 4 chains for 1_000 tune and 10_000 draw iterations (4_000 + 40_000 draws total) took 48 seconds.\n"
     ]
    }
   ],
   "source": [
    "mir0_F1R_2 = mir0[['R2','R3','R4']]\n",
    "mir0_F1R_2_res = dict()\n",
    "for tmp_gen in range(3):\n",
    "    tmp_data = mir0_F1R_2.iloc[:,tmp_gen]\n",
    "    tmp_data_no0 = tmp_data[tmp_data!=0]\n",
    "    mir0_F1R_2_res[tmp_gen] = calculate_stat(tmp_data_no0.tolist(), tot=20)"
   ]
  },
  {
   "cell_type": "code",
   "execution_count": 214,
   "id": "36fed6f5",
   "metadata": {},
   "outputs": [
    {
     "data": {
      "text/html": [
       "<div>\n",
       "<style scoped>\n",
       "    .dataframe tbody tr th:only-of-type {\n",
       "        vertical-align: middle;\n",
       "    }\n",
       "\n",
       "    .dataframe tbody tr th {\n",
       "        vertical-align: top;\n",
       "    }\n",
       "\n",
       "    .dataframe thead th {\n",
       "        text-align: right;\n",
       "    }\n",
       "</style>\n",
       "<table border=\"1\" class=\"dataframe\">\n",
       "  <thead>\n",
       "    <tr style=\"text-align: right;\">\n",
       "      <th></th>\n",
       "      <th>mean</th>\n",
       "      <th>sd</th>\n",
       "      <th>hdi_2.5%</th>\n",
       "      <th>hdi_97.5%</th>\n",
       "      <th>mcse_mean</th>\n",
       "      <th>mcse_sd</th>\n",
       "      <th>ess_bulk</th>\n",
       "      <th>ess_tail</th>\n",
       "      <th>r_hat</th>\n",
       "    </tr>\n",
       "  </thead>\n",
       "  <tbody>\n",
       "    <tr>\n",
       "      <th>ω</th>\n",
       "      <td>0.55</td>\n",
       "      <td>0.11</td>\n",
       "      <td>0.33</td>\n",
       "      <td>0.76</td>\n",
       "      <td>0.00</td>\n",
       "      <td>0.00</td>\n",
       "      <td>22613.37</td>\n",
       "      <td>14660.37</td>\n",
       "      <td>1.0</td>\n",
       "    </tr>\n",
       "    <tr>\n",
       "      <th>κ</th>\n",
       "      <td>6.07</td>\n",
       "      <td>2.27</td>\n",
       "      <td>2.13</td>\n",
       "      <td>10.48</td>\n",
       "      <td>0.01</td>\n",
       "      <td>0.01</td>\n",
       "      <td>26383.57</td>\n",
       "      <td>23840.64</td>\n",
       "      <td>1.0</td>\n",
       "    </tr>\n",
       "    <tr>\n",
       "      <th>θ[0]</th>\n",
       "      <td>0.47</td>\n",
       "      <td>0.10</td>\n",
       "      <td>0.28</td>\n",
       "      <td>0.66</td>\n",
       "      <td>0.00</td>\n",
       "      <td>0.00</td>\n",
       "      <td>53735.57</td>\n",
       "      <td>30710.57</td>\n",
       "      <td>1.0</td>\n",
       "    </tr>\n",
       "    <tr>\n",
       "      <th>θ[1]</th>\n",
       "      <td>0.51</td>\n",
       "      <td>0.10</td>\n",
       "      <td>0.32</td>\n",
       "      <td>0.70</td>\n",
       "      <td>0.00</td>\n",
       "      <td>0.00</td>\n",
       "      <td>43334.20</td>\n",
       "      <td>31118.61</td>\n",
       "      <td>1.0</td>\n",
       "    </tr>\n",
       "    <tr>\n",
       "      <th>θ[2]</th>\n",
       "      <td>0.47</td>\n",
       "      <td>0.10</td>\n",
       "      <td>0.28</td>\n",
       "      <td>0.66</td>\n",
       "      <td>0.00</td>\n",
       "      <td>0.00</td>\n",
       "      <td>50868.58</td>\n",
       "      <td>31132.55</td>\n",
       "      <td>1.0</td>\n",
       "    </tr>\n",
       "    <tr>\n",
       "      <th>θ[3]</th>\n",
       "      <td>0.51</td>\n",
       "      <td>0.10</td>\n",
       "      <td>0.32</td>\n",
       "      <td>0.70</td>\n",
       "      <td>0.00</td>\n",
       "      <td>0.00</td>\n",
       "      <td>43645.55</td>\n",
       "      <td>30450.31</td>\n",
       "      <td>1.0</td>\n",
       "    </tr>\n",
       "    <tr>\n",
       "      <th>θ[4]</th>\n",
       "      <td>0.51</td>\n",
       "      <td>0.10</td>\n",
       "      <td>0.31</td>\n",
       "      <td>0.70</td>\n",
       "      <td>0.00</td>\n",
       "      <td>0.00</td>\n",
       "      <td>50186.90</td>\n",
       "      <td>31331.49</td>\n",
       "      <td>1.0</td>\n",
       "    </tr>\n",
       "    <tr>\n",
       "      <th>θ[5]</th>\n",
       "      <td>0.47</td>\n",
       "      <td>0.10</td>\n",
       "      <td>0.27</td>\n",
       "      <td>0.65</td>\n",
       "      <td>0.00</td>\n",
       "      <td>0.00</td>\n",
       "      <td>47861.20</td>\n",
       "      <td>30125.83</td>\n",
       "      <td>1.0</td>\n",
       "    </tr>\n",
       "    <tr>\n",
       "      <th>θ[6]</th>\n",
       "      <td>0.47</td>\n",
       "      <td>0.10</td>\n",
       "      <td>0.28</td>\n",
       "      <td>0.66</td>\n",
       "      <td>0.00</td>\n",
       "      <td>0.00</td>\n",
       "      <td>48417.79</td>\n",
       "      <td>30438.70</td>\n",
       "      <td>1.0</td>\n",
       "    </tr>\n",
       "    <tr>\n",
       "      <th>θ[7]</th>\n",
       "      <td>0.62</td>\n",
       "      <td>0.10</td>\n",
       "      <td>0.44</td>\n",
       "      <td>0.81</td>\n",
       "      <td>0.00</td>\n",
       "      <td>0.00</td>\n",
       "      <td>43591.54</td>\n",
       "      <td>30164.82</td>\n",
       "      <td>1.0</td>\n",
       "    </tr>\n",
       "    <tr>\n",
       "      <th>θ[8]</th>\n",
       "      <td>0.62</td>\n",
       "      <td>0.09</td>\n",
       "      <td>0.44</td>\n",
       "      <td>0.80</td>\n",
       "      <td>0.00</td>\n",
       "      <td>0.00</td>\n",
       "      <td>43527.78</td>\n",
       "      <td>28104.83</td>\n",
       "      <td>1.0</td>\n",
       "    </tr>\n",
       "    <tr>\n",
       "      <th>θ[9]</th>\n",
       "      <td>0.58</td>\n",
       "      <td>0.10</td>\n",
       "      <td>0.40</td>\n",
       "      <td>0.77</td>\n",
       "      <td>0.00</td>\n",
       "      <td>0.00</td>\n",
       "      <td>53808.50</td>\n",
       "      <td>31355.11</td>\n",
       "      <td>1.0</td>\n",
       "    </tr>\n",
       "  </tbody>\n",
       "</table>\n",
       "</div>"
      ],
      "text/plain": [
       "      mean    sd  hdi_2.5%  hdi_97.5%  mcse_mean  mcse_sd  ess_bulk  ess_tail  \\\n",
       "ω     0.55  0.11      0.33       0.76       0.00     0.00  22613.37  14660.37   \n",
       "κ     6.07  2.27      2.13      10.48       0.01     0.01  26383.57  23840.64   \n",
       "θ[0]  0.47  0.10      0.28       0.66       0.00     0.00  53735.57  30710.57   \n",
       "θ[1]  0.51  0.10      0.32       0.70       0.00     0.00  43334.20  31118.61   \n",
       "θ[2]  0.47  0.10      0.28       0.66       0.00     0.00  50868.58  31132.55   \n",
       "θ[3]  0.51  0.10      0.32       0.70       0.00     0.00  43645.55  30450.31   \n",
       "θ[4]  0.51  0.10      0.31       0.70       0.00     0.00  50186.90  31331.49   \n",
       "θ[5]  0.47  0.10      0.27       0.65       0.00     0.00  47861.20  30125.83   \n",
       "θ[6]  0.47  0.10      0.28       0.66       0.00     0.00  48417.79  30438.70   \n",
       "θ[7]  0.62  0.10      0.44       0.81       0.00     0.00  43591.54  30164.82   \n",
       "θ[8]  0.62  0.09      0.44       0.80       0.00     0.00  43527.78  28104.83   \n",
       "θ[9]  0.58  0.10      0.40       0.77       0.00     0.00  53808.50  31355.11   \n",
       "\n",
       "      r_hat  \n",
       "ω       1.0  \n",
       "κ       1.0  \n",
       "θ[0]    1.0  \n",
       "θ[1]    1.0  \n",
       "θ[2]    1.0  \n",
       "θ[3]    1.0  \n",
       "θ[4]    1.0  \n",
       "θ[5]    1.0  \n",
       "θ[6]    1.0  \n",
       "θ[7]    1.0  \n",
       "θ[8]    1.0  \n",
       "θ[9]    1.0  "
      ]
     },
     "execution_count": 214,
     "metadata": {},
     "output_type": "execute_result"
    }
   ],
   "source": [
    "mir0_F1R_HDI=az.summary(mir0_F1R_2_res[1][1], round_to=2, hdi_prob=0.95)\n",
    "mir0_F1R_HDI"
   ]
  },
  {
   "cell_type": "code",
   "execution_count": 216,
   "id": "487b6b08",
   "metadata": {},
   "outputs": [
    {
     "data": {
      "text/plain": [
       "hdi_97.5%    0.711\n",
       "dtype: float64"
      ]
     },
     "execution_count": 216,
     "metadata": {},
     "output_type": "execute_result"
    }
   ],
   "source": [
    "\n",
    "mir0_F1R_HDI.iloc[2:12,[3]].mean()\n"
   ]
  },
  {
   "cell_type": "code",
   "execution_count": 296,
   "id": "dbbd6713",
   "metadata": {},
   "outputs": [
    {
     "data": {
      "image/png": "[encoded data removed]",
      "text/plain": [
       "<Figure size 576x432 with 1 Axes>"
      ]
     },
     "metadata": {
      "needs_background": "light"
     },
     "output_type": "display_data"
    }
   ],
   "source": [
    "fig, ax = plt.subplots(\n",
    "    nrows=1,\n",
    "    ncols=1,\n",
    "    figsize=(8,6),\n",
    "    constrained_layout=True)\n",
    "\n",
    "\n",
    "\n",
    "import seaborn as sns\n",
    "\n",
    "#            \n",
    "col3=sns.color_palette(\"pastel\")[7]\n",
    "sns.stripplot(data= WT_reformatted, x='Generation', y='Eu', ax=ax, s=13, edgecolors='silver', color='silver', alpha=0.4, linewidths=2, zorder=2, jitter=False)\n",
    "plt.scatter(data= WT_F1N_reformatted, x='Generation', y='Eu', s=200, edgecolors=col3, color='white', linewidths=4, zorder=2)\n",
    "\n",
    "for i in range(1):\n",
    "    inf_summ = az.summary(WT_F0_res[i][1], hdi_prob=0.95)\n",
    "    inf_mean = np.array(inf_summ['mean'][2:])\n",
    "    l_hdi =  np.array(inf_summ['hdi_2.5%'][2:])\n",
    "    h_hdi = np.array(inf_summ['hdi_97.5%'][2:])\n",
    "    plt.vlines(i, np.mean(l_hdi), np.mean(h_hdi),  colors=col3, linestyles='-', linewidth=4, capstyle='round', label='95% HDI',clip_on=False, zorder=4)\n",
    "    plt.scatter(i, np.mean(inf_mean), s=200, edgecolors=col3, color='white', linewidths=4, zorder=4)\n",
    "\n",
    "for i in range(4):\n",
    "    inf_summ = az.summary(WT_F1Rev_res[i][1], hdi_prob=0.95)\n",
    "    inf_mean = np.array(inf_summ['mean'][2:])\n",
    "    l_hdi =  np.array(inf_summ['hdi_2.5%'][2:])\n",
    "    h_hdi = np.array(inf_summ['hdi_97.5%'][2:])\n",
    "    plt.vlines(i+2, np.mean(l_hdi), np.mean(h_hdi),  colors=col3, linestyles='-', linewidth=4, capstyle='round', label='95% HDI',clip_on=False, zorder=4)\n",
    "    plt.scatter(i+2, np.mean(inf_mean), s=200, edgecolors=col3, color='white', linewidths=4, zorder=4)\n",
    "\n",
    "##\n",
    "col1= sns.color_palette(\"muted\")[7]\n",
    "\n",
    "plt.scatter(data= mir2_reformatted, x='Generation', y='Eu', s=115, edgecolors='silver', color='silver', linewidths=2, zorder=2)\n",
    "plt.scatter(data= mir2_F1N_reformatted, x='Generation', y='Eu', s=200, edgecolors='#3498DB', color='white', linewidths=4, zorder=2)\n",
    "\n",
    "for i in range(1):\n",
    "    inf_summ = az.summary(mir2_F0_res[i][1], hdi_prob=0.95)\n",
    "    inf_mean = np.array(inf_summ['mean'][2:])\n",
    "    l_hdi =  np.array(inf_summ['hdi_2.5%'][2:])\n",
    "    h_hdi = np.array(inf_summ['hdi_97.5%'][2:])\n",
    "    plt.vlines(i+0.15, np.mean(l_hdi), np.mean(h_hdi),  colors='#3498DB', linestyles='-', linewidth=4, capstyle='round', label='95% HDI',clip_on=False, zorder=4)\n",
    "    plt.scatter(i+0.15, np.mean(inf_mean), s=200, edgecolors='#3498DB', color='white', linewidths=4, zorder=4)\n",
    "\n",
    "for i in range(1):\n",
    "    inf_summ = az.summary(mir2_F1R_1_res[i][1], hdi_prob=0.95)\n",
    "    inf_mean = np.array(inf_summ['mean'][2:])\n",
    "    l_hdi =  np.array(inf_summ['hdi_2.5%'][2:])\n",
    "    h_hdi = np.array(inf_summ['hdi_97.5%'][2:])\n",
    "    plt.vlines(i+2.15, np.mean(l_hdi), np.mean(h_hdi),  colors='#3498DB', linestyles='-', linewidth=4, capstyle='round', label='95% HDI',clip_on=False, zorder=3)\n",
    "    plt.scatter(i+2.15, np.mean(inf_mean), s=200, edgecolors='#3498DB', color='white', linewidths=4, zorder=4)\n",
    "\n",
    "for i in range(3):\n",
    "    inf_summ = az.summary(mir2_F1R_2_res[i][1], hdi_prob=0.95)\n",
    "    inf_mean = np.array(inf_summ['mean'][2:])\n",
    "    l_hdi =  np.array(inf_summ['hdi_2.5%'][2:])\n",
    "    h_hdi = np.array(inf_summ['hdi_97.5%'][2:])\n",
    "    plt.vlines(i+3.15, np.mean(l_hdi), np.mean(h_hdi),  colors='#3498DB', linestyles='-', linewidth=4, capstyle='round', label='95% HDI',clip_on=False, zorder=3)\n",
    "    plt.scatter(i+3.15, np.mean(inf_mean), s=200, edgecolors='#3498DB', color='white', linewidths=4, zorder=4)\n",
    "\n",
    "##\n",
    "col2=sns.color_palette(\"muted\")[8]\n",
    "\n",
    "plt.scatter(data= mir1_reformatted, x='Generation', y='Eu', s=115, edgecolors='silver', color='silver', linewidths=2, zorder=2)\n",
    "plt.scatter(data= mir1_F1N_reformatted, x='Generation', y='Eu', s=200, edgecolors='#2ECC71', color='white', linewidths=4, zorder=2)\n",
    "\n",
    "for i in range(1):\n",
    "    inf_summ = az.summary(mir1_F0_res[i][1], hdi_prob=0.95)\n",
    "    inf_mean = np.array(inf_summ['mean'][2:])\n",
    "    l_hdi =  np.array(inf_summ['hdi_2.5%'][2:])\n",
    "    h_hdi = np.array(inf_summ['hdi_97.5%'][2:])\n",
    "    plt.vlines(i+0.3, np.mean(l_hdi), np.mean(h_hdi),  colors='#2ECC71', linestyles='-', linewidth=4, capstyle='round', label='95% HDI',clip_on=False, zorder=4)\n",
    "    plt.scatter(i+0.3, np.mean(inf_mean), s=200, edgecolors='#2ECC71', color='white', linewidths=4, zorder=4)\n",
    "\n",
    "\n",
    "for i in range(2):\n",
    "    inf_summ = az.summary(mir1_F1R_1_res[i][1], hdi_prob=0.95)\n",
    "    inf_mean = np.array(inf_summ['mean'][2:])\n",
    "    l_hdi =  np.array(inf_summ['hdi_2.5%'][2:])\n",
    "    h_hdi = np.array(inf_summ['hdi_97.5%'][2:])\n",
    "    plt.vlines(i+2.3, np.mean(l_hdi), np.mean(h_hdi),  colors='#2ECC71', linestyles='-', linewidth=4, capstyle='round', label='95% HDI',clip_on=False, zorder=3)\n",
    "    plt.scatter(i+2.3, np.mean(inf_mean), s=200, edgecolors='#2ECC71', color='white', linewidths=4, zorder=4)\n",
    "\n",
    "for i in range(2):\n",
    "    inf_summ = az.summary(mir1_F1R_2_res[i][1], hdi_prob=0.95)\n",
    "    inf_mean = np.array(inf_summ['mean'][2:])\n",
    "    l_hdi =  np.array(inf_summ['hdi_2.5%'][2:])\n",
    "    h_hdi = np.array(inf_summ['hdi_97.5%'][2:])\n",
    "    plt.vlines(i+4.3, np.mean(l_hdi), np.mean(h_hdi),  colors='#2ECC71', linestyles='-', linewidth=4, capstyle='round', label='95% HDI',clip_on=False, zorder=3)\n",
    "    plt.scatter(i+4.3, np.mean(inf_mean), s=200, edgecolors='#2ECC71', color='white', linewidths=4, zorder=4)\n",
    "\n",
    "##\n",
    "col=sns.color_palette(\"muted\")[9]\n",
    "plt.scatter(data= mir0_reformatted, x='Generation', y='Eu', s=115, edgecolors='silver', color='silver', linewidths=2, zorder=2)\n",
    "plt.scatter(data= mir0_F1N_reformatted, x='Generation', y='Eu', s=200, edgecolors='#D35400', color='white', linewidths=4, zorder=2)\n",
    "\n",
    "for i in range(1):\n",
    "    inf_summ = az.summary(mir0_F0_res[i][1], hdi_prob=0.95)\n",
    "    inf_mean = np.array(inf_summ['mean'][2:])\n",
    "    l_hdi =  np.array(inf_summ['hdi_2.5%'][2:])\n",
    "    h_hdi = np.array(inf_summ['hdi_97.5%'][2:])\n",
    "    plt.vlines(i+0.45, np.mean(l_hdi), np.mean(h_hdi),  colors='#D35400', linestyles='-', linewidth=4, capstyle='round', label='95% HDI',clip_on=False, zorder=4)\n",
    "    plt.scatter(i+0.45, np.mean(inf_mean), s=200, edgecolors='#D35400', color='white', linewidths=4, zorder=4)\n",
    "\n",
    "for i in range(1):\n",
    "    inf_summ = az.summary(mir0_F1R_1_res[i][1], hdi_prob=0.95)\n",
    "    inf_mean = np.array(inf_summ['mean'][2:])\n",
    "    l_hdi =  np.array(inf_summ['hdi_2.5%'][2:])\n",
    "    h_hdi = np.array(inf_summ['hdi_97.5%'][2:])\n",
    "    plt.vlines(i+2.45, np.mean(l_hdi), np.mean(h_hdi),  colors='#D35400', linestyles='-', linewidth=4, capstyle='round', label='95% HDI',clip_on=False, zorder=4)\n",
    "    plt.scatter(i+2.45, np.mean(inf_mean), s=200, edgecolors='#D35400', color='white', linewidths=4, zorder=4)\n",
    "\n",
    "for i in range(3):\n",
    "    inf_summ = az.summary(mir0_F1R_2_res[i][1], hdi_prob=0.95)\n",
    "    inf_mean = np.array(inf_summ['mean'][2:])\n",
    "    l_hdi =  np.array(inf_summ['hdi_2.5%'][2:])\n",
    "    h_hdi = np.array(inf_summ['hdi_97.5%'][2:])\n",
    "    plt.vlines(i+3.45, np.mean(l_hdi), np.mean(h_hdi),  colors='#D35400', linestyles='-', linewidth=4, capstyle='round', label='95% HDI',clip_on=False, zorder=4)\n",
    "    plt.scatter(i+3.45, np.mean(inf_mean), s=200, edgecolors='#D35400', color='white', linewidths=4, zorder=4)\n",
    "\n",
    "\n",
    "plt.ylabel(r'$\\%$Predatory adults (Eu)', fontsize=25)\n",
    "plt.xlabel('Generation', fontsize=25)\n",
    "plt.xticks(fontsize=25)\n",
    "plt.yticks(fontsize=25)\n",
    "\n",
    "ax.set(ylabel=r'$\\%$Predatory adults (Eu)', xlabel='Generations', ylim=(-0.05, 1.05), xlim=(-0.5, 6), xticklabels=[0,1, 'R1', 'R2', 'R3','R4'], yticks=np.linspace(0,1,5), yticklabels=[0, 0.25, 0.5, 0.75, 1]);\n",
    "\n",
    "col = 'moccasin'\n",
    "x = np.linspace(-0.5, 7)\n",
    "ax.fill_between(x, [0.1111 for i in x], [0.438 for i in x], color=col, alpha=1, edgecolor=col, zorder=1)\n",
    "\n",
    "plt.savefig('miR_F1Rev.pdf',  bbox_inches='tight',\n",
    "           dpi=600, transparent=True)"
   ]
  },
  {
   "cell_type": "code",
   "execution_count": null,
   "id": "1d024503",
   "metadata": {},
   "outputs": [],
   "source": []
  },
  {
   "cell_type": "code",
   "execution_count": 299,
   "id": "b2c60d95",
   "metadata": {},
   "outputs": [],
   "source": [
    "WT_F3= pd.read_csv('./WT_F3Rev.csv', sep=';', index_col=0)\n",
    "WT_F3_reformatted = pd.DataFrame()\n",
    "for i in range(8):\n",
    "    obs = np.array(WT_F3.iloc[:,i])/20.\n",
    "    temp = pd.DataFrame.from_dict({'id': np.arange(0, len(obs), 1), 'Generation': [i+1 for j in range(len(obs))], 'Eu': list(obs),'Grp': 'miR0'})\n",
    "    WT_F3_reformatted = pd.concat([WT_F3_reformatted, temp])"
   ]
  },
  {
   "cell_type": "code",
   "execution_count": 125,
   "id": "3751b274",
   "metadata": {},
   "outputs": [],
   "source": [
    "def calculate_stat(eu_obs, tot):\n",
    "    G_samples = eu_obs\n",
    "    N_samples = [tot for i in range(len(G_samples))]\n",
    "    n_sets = len(G_samples)\n",
    "    group_idx = np.repeat(np.arange(len(N_samples)), N_samples)\n",
    "    data = []\n",
    "     # parameters of hyperprior ω\n",
    "    a=2 \n",
    "    b=2 ###1.2\n",
    "    for i in range(0, len(N_samples)):\n",
    "        data.extend(np.repeat([1, 0], [G_samples[i], N_samples[i]-G_samples[i]]))\n",
    "    with pm.Model() as model:\n",
    "        ω = pm.Beta('ω', a, b)\n",
    "        κ = pm.Gamma('κ', 3, 1)\n",
    "        θ = pm.Beta('θ', alpha=ω*(κ-2)+1, beta=(1-ω)*(κ-2)+1, shape=n_sets)\n",
    "        y = pm.Bernoulli('y', p=θ[group_idx], observed=data)\n",
    "        trace = pm.sample(tune=1000, draws=10000, target_accept=0.95, random_seed=RANDOM_SEED, return_inferencedata=True)\n",
    "        stat_result = az.summary(trace, round_to=3, hdi_prob=0.95)\n",
    "    return stat_result, trace"
   ]
  },
  {
   "cell_type": "code",
   "execution_count": 300,
   "id": "3bd6df32",
   "metadata": {},
   "outputs": [],
   "source": [
    "WT_F3N = WT_F3[['F1','F2','F3']]\n",
    "WT_F3N_reformatted = pd.DataFrame()\n",
    "for i in range(3):\n",
    "    obs = np.array(WT_F3N.iloc[:,i])/20.\n",
    "    temp = pd.DataFrame.from_dict({'id': np.arange(0, len(obs), 1), 'Generation': [i+1 for j in range(len(obs))], 'Eu': list(obs),'Grp': 'miR0'})\n",
    "    WT_F3N_reformatted = pd.concat([WT_F3N_reformatted, temp])"
   ]
  },
  {
   "cell_type": "code",
   "execution_count": 127,
   "id": "bc3dc070",
   "metadata": {},
   "outputs": [
    {
     "name": "stderr",
     "output_type": "stream",
     "text": [
      "Auto-assigning NUTS sampler...\n",
      "Initializing NUTS using jitter+adapt_diag...\n",
      "Multiprocess sampling (4 chains in 4 jobs)\n",
      "NUTS: [θ, κ, ω]\n"
     ]
    },
    {
     "data": {
      "text/html": [
       "\n",
       "<style>\n",
       "    /* Turns off some styling */\n",
       "    progress {\n",
       "        /* gets rid of default border in Firefox and Opera. */\n",
       "        border: none;\n",
       "        /* Needs to be in here for Safari polyfill so background images work as expected. */\n",
       "        background-size: auto;\n",
       "    }\n",
       "    progress:not([value]), progress:not([value])::-webkit-progress-bar {\n",
       "        background: repeating-linear-gradient(45deg, #7e7e7e, #7e7e7e 10px, #5c5c5c 10px, #5c5c5c 20px);\n",
       "    }\n",
       "    .progress-bar-interrupted, .progress-bar-interrupted::-webkit-progress-bar {\n",
       "        background: #F44336;\n",
       "    }\n",
       "</style>\n"
      ],
      "text/plain": [
       "<IPython.core.display.HTML object>"
      ]
     },
     "metadata": {},
     "output_type": "display_data"
    },
    {
     "data": {
      "text/html": [
       "\n",
       "    <div>\n",
       "      <progress value='44000' class='' max='44000' style='width:300px; height:20px; vertical-align: middle;'></progress>\n",
       "      100.00% [44000/44000 00:20&lt;00:00 Sampling 4 chains, 0 divergences]\n",
       "    </div>\n",
       "    "
      ],
      "text/plain": [
       "<IPython.core.display.HTML object>"
      ]
     },
     "metadata": {},
     "output_type": "display_data"
    },
    {
     "name": "stderr",
     "output_type": "stream",
     "text": [
      "Sampling 4 chains for 1_000 tune and 10_000 draw iterations (4_000 + 40_000 draws total) took 49 seconds.\n",
      "Auto-assigning NUTS sampler...\n",
      "Initializing NUTS using jitter+adapt_diag...\n",
      "Multiprocess sampling (4 chains in 4 jobs)\n",
      "NUTS: [θ, κ, ω]\n"
     ]
    },
    {
     "data": {
      "text/html": [
       "\n",
       "<style>\n",
       "    /* Turns off some styling */\n",
       "    progress {\n",
       "        /* gets rid of default border in Firefox and Opera. */\n",
       "        border: none;\n",
       "        /* Needs to be in here for Safari polyfill so background images work as expected. */\n",
       "        background-size: auto;\n",
       "    }\n",
       "    progress:not([value]), progress:not([value])::-webkit-progress-bar {\n",
       "        background: repeating-linear-gradient(45deg, #7e7e7e, #7e7e7e 10px, #5c5c5c 10px, #5c5c5c 20px);\n",
       "    }\n",
       "    .progress-bar-interrupted, .progress-bar-interrupted::-webkit-progress-bar {\n",
       "        background: #F44336;\n",
       "    }\n",
       "</style>\n"
      ],
      "text/plain": [
       "<IPython.core.display.HTML object>"
      ]
     },
     "metadata": {},
     "output_type": "display_data"
    },
    {
     "data": {
      "text/html": [
       "\n",
       "    <div>\n",
       "      <progress value='44000' class='' max='44000' style='width:300px; height:20px; vertical-align: middle;'></progress>\n",
       "      100.00% [44000/44000 00:19&lt;00:00 Sampling 4 chains, 0 divergences]\n",
       "    </div>\n",
       "    "
      ],
      "text/plain": [
       "<IPython.core.display.HTML object>"
      ]
     },
     "metadata": {},
     "output_type": "display_data"
    },
    {
     "name": "stderr",
     "output_type": "stream",
     "text": [
      "Sampling 4 chains for 1_000 tune and 10_000 draw iterations (4_000 + 40_000 draws total) took 49 seconds.\n",
      "Auto-assigning NUTS sampler...\n",
      "Initializing NUTS using jitter+adapt_diag...\n",
      "Multiprocess sampling (4 chains in 4 jobs)\n",
      "NUTS: [θ, κ, ω]\n"
     ]
    },
    {
     "data": {
      "text/html": [
       "\n",
       "<style>\n",
       "    /* Turns off some styling */\n",
       "    progress {\n",
       "        /* gets rid of default border in Firefox and Opera. */\n",
       "        border: none;\n",
       "        /* Needs to be in here for Safari polyfill so background images work as expected. */\n",
       "        background-size: auto;\n",
       "    }\n",
       "    progress:not([value]), progress:not([value])::-webkit-progress-bar {\n",
       "        background: repeating-linear-gradient(45deg, #7e7e7e, #7e7e7e 10px, #5c5c5c 10px, #5c5c5c 20px);\n",
       "    }\n",
       "    .progress-bar-interrupted, .progress-bar-interrupted::-webkit-progress-bar {\n",
       "        background: #F44336;\n",
       "    }\n",
       "</style>\n"
      ],
      "text/plain": [
       "<IPython.core.display.HTML object>"
      ]
     },
     "metadata": {},
     "output_type": "display_data"
    },
    {
     "data": {
      "text/html": [
       "\n",
       "    <div>\n",
       "      <progress value='44000' class='' max='44000' style='width:300px; height:20px; vertical-align: middle;'></progress>\n",
       "      100.00% [44000/44000 00:19&lt;00:00 Sampling 4 chains, 0 divergences]\n",
       "    </div>\n",
       "    "
      ],
      "text/plain": [
       "<IPython.core.display.HTML object>"
      ]
     },
     "metadata": {},
     "output_type": "display_data"
    },
    {
     "name": "stderr",
     "output_type": "stream",
     "text": [
      "Sampling 4 chains for 1_000 tune and 10_000 draw iterations (4_000 + 40_000 draws total) took 48 seconds.\n",
      "Auto-assigning NUTS sampler...\n",
      "Initializing NUTS using jitter+adapt_diag...\n",
      "Multiprocess sampling (4 chains in 4 jobs)\n",
      "NUTS: [θ, κ, ω]\n"
     ]
    },
    {
     "data": {
      "text/html": [
       "\n",
       "<style>\n",
       "    /* Turns off some styling */\n",
       "    progress {\n",
       "        /* gets rid of default border in Firefox and Opera. */\n",
       "        border: none;\n",
       "        /* Needs to be in here for Safari polyfill so background images work as expected. */\n",
       "        background-size: auto;\n",
       "    }\n",
       "    progress:not([value]), progress:not([value])::-webkit-progress-bar {\n",
       "        background: repeating-linear-gradient(45deg, #7e7e7e, #7e7e7e 10px, #5c5c5c 10px, #5c5c5c 20px);\n",
       "    }\n",
       "    .progress-bar-interrupted, .progress-bar-interrupted::-webkit-progress-bar {\n",
       "        background: #F44336;\n",
       "    }\n",
       "</style>\n"
      ],
      "text/plain": [
       "<IPython.core.display.HTML object>"
      ]
     },
     "metadata": {},
     "output_type": "display_data"
    },
    {
     "data": {
      "text/html": [
       "\n",
       "    <div>\n",
       "      <progress value='44000' class='' max='44000' style='width:300px; height:20px; vertical-align: middle;'></progress>\n",
       "      100.00% [44000/44000 00:22&lt;00:00 Sampling 4 chains, 0 divergences]\n",
       "    </div>\n",
       "    "
      ],
      "text/plain": [
       "<IPython.core.display.HTML object>"
      ]
     },
     "metadata": {},
     "output_type": "display_data"
    },
    {
     "name": "stderr",
     "output_type": "stream",
     "text": [
      "Sampling 4 chains for 1_000 tune and 10_000 draw iterations (4_000 + 40_000 draws total) took 52 seconds.\n"
     ]
    }
   ],
   "source": [
    "WT_F3Rev = WT_F3[['R1','R2','R3','R4']]\n",
    "WT_F3Rev_res = dict()\n",
    "for tmp_gen in range(4):\n",
    "    tmp_data = WT_F3Rev.iloc[:,tmp_gen]\n",
    "    tmp_data_no0 = tmp_data[tmp_data!=0]\n",
    "    WT_F3Rev_res[tmp_gen] = calculate_stat(tmp_data_no0.tolist(), tot=20)"
   ]
  },
  {
   "cell_type": "code",
   "execution_count": 301,
   "id": "17e1d24f",
   "metadata": {},
   "outputs": [],
   "source": [
    "mir2_F3= pd.read_csv('./tuDf9_F3Rev.csv', sep=';', index_col=0)\n",
    "mir2_F3_reformatted = pd.DataFrame()\n",
    "for i in range(8):\n",
    "    obs = np.array(mir2_F3.iloc[:,i])/20.\n",
    "    temp = pd.DataFrame.from_dict({'id': np.arange(0, len(obs), 1), 'Generation': [i+0.15 for j in range(len(obs))], 'Eu': list(obs),'Grp': 'miR0'})\n",
    "    mir2_F3_reformatted = pd.concat([mir2_F3_reformatted, temp])"
   ]
  },
  {
   "cell_type": "code",
   "execution_count": 148,
   "id": "d57d3128",
   "metadata": {},
   "outputs": [],
   "source": [
    "def calculate_stat(eu_obs, tot):\n",
    "    G_samples = eu_obs\n",
    "    N_samples = [tot for i in range(len(G_samples))]\n",
    "    n_sets = len(G_samples)\n",
    "    group_idx = np.repeat(np.arange(len(N_samples)), N_samples)\n",
    "    data = []\n",
    "     # parameters of hyperprior ω\n",
    "   # a=5 \n",
    "    #b=1\n",
    "    a=5 \n",
    "    b=2.5 ###1.2\n",
    "    for i in range(0, len(N_samples)):\n",
    "        data.extend(np.repeat([1, 0], [G_samples[i], N_samples[i]-G_samples[i]]))\n",
    "    with pm.Model() as model:\n",
    "        ω = pm.Beta('ω', a, b)\n",
    "        κ = pm.Gamma('κ', 3, 1)\n",
    "        θ = pm.Beta('θ', alpha=ω*(κ-2)+1, beta=(1-ω)*(κ-2)+1, shape=n_sets)\n",
    "        y = pm.Bernoulli('y', p=θ[group_idx], observed=data)\n",
    "        trace = pm.sample(tune=1000, draws=10000, target_accept=0.95, random_seed=RANDOM_SEED, return_inferencedata=True)\n",
    "        stat_result = az.summary(trace, round_to=3, hdi_prob=0.95)\n",
    "    return stat_result, trace"
   ]
  },
  {
   "cell_type": "code",
   "execution_count": 302,
   "id": "f7f2340c",
   "metadata": {},
   "outputs": [],
   "source": [
    "mir2_F3N = mir2_F3[['F1','F2','F3']]\n",
    "mir2_F3N_reformatted = pd.DataFrame()\n",
    "for i in range(3):\n",
    "    obs = np.array(mir2_F3N.iloc[:,i])/20.\n",
    "    temp = pd.DataFrame.from_dict({'id': np.arange(0, len(obs), 1), 'Generation': [i+1.15 for j in range(len(obs))], 'Eu': list(obs),'Grp': 'miR0'})\n",
    "    mir2_F3N_reformatted = pd.concat([mir2_F3N_reformatted, temp])"
   ]
  },
  {
   "cell_type": "code",
   "execution_count": 137,
   "id": "a117a888",
   "metadata": {},
   "outputs": [
    {
     "name": "stderr",
     "output_type": "stream",
     "text": [
      "Auto-assigning NUTS sampler...\n",
      "Initializing NUTS using jitter+adapt_diag...\n",
      "Multiprocess sampling (4 chains in 4 jobs)\n",
      "NUTS: [θ, κ, ω]\n"
     ]
    },
    {
     "data": {
      "text/html": [
       "\n",
       "<style>\n",
       "    /* Turns off some styling */\n",
       "    progress {\n",
       "        /* gets rid of default border in Firefox and Opera. */\n",
       "        border: none;\n",
       "        /* Needs to be in here for Safari polyfill so background images work as expected. */\n",
       "        background-size: auto;\n",
       "    }\n",
       "    progress:not([value]), progress:not([value])::-webkit-progress-bar {\n",
       "        background: repeating-linear-gradient(45deg, #7e7e7e, #7e7e7e 10px, #5c5c5c 10px, #5c5c5c 20px);\n",
       "    }\n",
       "    .progress-bar-interrupted, .progress-bar-interrupted::-webkit-progress-bar {\n",
       "        background: #F44336;\n",
       "    }\n",
       "</style>\n"
      ],
      "text/plain": [
       "<IPython.core.display.HTML object>"
      ]
     },
     "metadata": {},
     "output_type": "display_data"
    },
    {
     "data": {
      "text/html": [
       "\n",
       "    <div>\n",
       "      <progress value='44000' class='' max='44000' style='width:300px; height:20px; vertical-align: middle;'></progress>\n",
       "      100.00% [44000/44000 00:22&lt;00:00 Sampling 4 chains, 0 divergences]\n",
       "    </div>\n",
       "    "
      ],
      "text/plain": [
       "<IPython.core.display.HTML object>"
      ]
     },
     "metadata": {},
     "output_type": "display_data"
    },
    {
     "name": "stderr",
     "output_type": "stream",
     "text": [
      "Sampling 4 chains for 1_000 tune and 10_000 draw iterations (4_000 + 40_000 draws total) took 51 seconds.\n"
     ]
    }
   ],
   "source": [
    "mir2_F3Rev = mir2_F3[['R1']]\n",
    "mir2_F3Rev_res_1 = dict()\n",
    "for tmp_gen in range(1):\n",
    "    tmp_data = mir2_F3Rev.iloc[:,tmp_gen]\n",
    "    tmp_data_no0 = tmp_data[tmp_data!=0]\n",
    "    mir2_F3Rev_res_1[tmp_gen] = calculate_stat(tmp_data_no0.tolist(), tot=20)"
   ]
  },
  {
   "cell_type": "code",
   "execution_count": 149,
   "id": "77603cfb",
   "metadata": {
    "scrolled": true
   },
   "outputs": [
    {
     "name": "stderr",
     "output_type": "stream",
     "text": [
      "Auto-assigning NUTS sampler...\n",
      "Initializing NUTS using jitter+adapt_diag...\n",
      "Multiprocess sampling (4 chains in 4 jobs)\n",
      "NUTS: [θ, κ, ω]\n"
     ]
    },
    {
     "data": {
      "text/html": [
       "\n",
       "<style>\n",
       "    /* Turns off some styling */\n",
       "    progress {\n",
       "        /* gets rid of default border in Firefox and Opera. */\n",
       "        border: none;\n",
       "        /* Needs to be in here for Safari polyfill so background images work as expected. */\n",
       "        background-size: auto;\n",
       "    }\n",
       "    progress:not([value]), progress:not([value])::-webkit-progress-bar {\n",
       "        background: repeating-linear-gradient(45deg, #7e7e7e, #7e7e7e 10px, #5c5c5c 10px, #5c5c5c 20px);\n",
       "    }\n",
       "    .progress-bar-interrupted, .progress-bar-interrupted::-webkit-progress-bar {\n",
       "        background: #F44336;\n",
       "    }\n",
       "</style>\n"
      ],
      "text/plain": [
       "<IPython.core.display.HTML object>"
      ]
     },
     "metadata": {},
     "output_type": "display_data"
    },
    {
     "data": {
      "text/html": [
       "\n",
       "    <div>\n",
       "      <progress value='44000' class='' max='44000' style='width:300px; height:20px; vertical-align: middle;'></progress>\n",
       "      100.00% [44000/44000 00:22&lt;00:00 Sampling 4 chains, 0 divergences]\n",
       "    </div>\n",
       "    "
      ],
      "text/plain": [
       "<IPython.core.display.HTML object>"
      ]
     },
     "metadata": {},
     "output_type": "display_data"
    },
    {
     "name": "stderr",
     "output_type": "stream",
     "text": [
      "Sampling 4 chains for 1_000 tune and 10_000 draw iterations (4_000 + 40_000 draws total) took 52 seconds.\n",
      "Auto-assigning NUTS sampler...\n",
      "Initializing NUTS using jitter+adapt_diag...\n",
      "Multiprocess sampling (4 chains in 4 jobs)\n",
      "NUTS: [θ, κ, ω]\n"
     ]
    },
    {
     "data": {
      "text/html": [
       "\n",
       "<style>\n",
       "    /* Turns off some styling */\n",
       "    progress {\n",
       "        /* gets rid of default border in Firefox and Opera. */\n",
       "        border: none;\n",
       "        /* Needs to be in here for Safari polyfill so background images work as expected. */\n",
       "        background-size: auto;\n",
       "    }\n",
       "    progress:not([value]), progress:not([value])::-webkit-progress-bar {\n",
       "        background: repeating-linear-gradient(45deg, #7e7e7e, #7e7e7e 10px, #5c5c5c 10px, #5c5c5c 20px);\n",
       "    }\n",
       "    .progress-bar-interrupted, .progress-bar-interrupted::-webkit-progress-bar {\n",
       "        background: #F44336;\n",
       "    }\n",
       "</style>\n"
      ],
      "text/plain": [
       "<IPython.core.display.HTML object>"
      ]
     },
     "metadata": {},
     "output_type": "display_data"
    },
    {
     "data": {
      "text/html": [
       "\n",
       "    <div>\n",
       "      <progress value='44000' class='' max='44000' style='width:300px; height:20px; vertical-align: middle;'></progress>\n",
       "      100.00% [44000/44000 00:23&lt;00:00 Sampling 4 chains, 0 divergences]\n",
       "    </div>\n",
       "    "
      ],
      "text/plain": [
       "<IPython.core.display.HTML object>"
      ]
     },
     "metadata": {},
     "output_type": "display_data"
    },
    {
     "name": "stderr",
     "output_type": "stream",
     "text": [
      "Sampling 4 chains for 1_000 tune and 10_000 draw iterations (4_000 + 40_000 draws total) took 52 seconds.\n",
      "Auto-assigning NUTS sampler...\n",
      "Initializing NUTS using jitter+adapt_diag...\n",
      "Multiprocess sampling (4 chains in 4 jobs)\n",
      "NUTS: [θ, κ, ω]\n"
     ]
    },
    {
     "data": {
      "text/html": [
       "\n",
       "<style>\n",
       "    /* Turns off some styling */\n",
       "    progress {\n",
       "        /* gets rid of default border in Firefox and Opera. */\n",
       "        border: none;\n",
       "        /* Needs to be in here for Safari polyfill so background images work as expected. */\n",
       "        background-size: auto;\n",
       "    }\n",
       "    progress:not([value]), progress:not([value])::-webkit-progress-bar {\n",
       "        background: repeating-linear-gradient(45deg, #7e7e7e, #7e7e7e 10px, #5c5c5c 10px, #5c5c5c 20px);\n",
       "    }\n",
       "    .progress-bar-interrupted, .progress-bar-interrupted::-webkit-progress-bar {\n",
       "        background: #F44336;\n",
       "    }\n",
       "</style>\n"
      ],
      "text/plain": [
       "<IPython.core.display.HTML object>"
      ]
     },
     "metadata": {},
     "output_type": "display_data"
    },
    {
     "data": {
      "text/html": [
       "\n",
       "    <div>\n",
       "      <progress value='44000' class='' max='44000' style='width:300px; height:20px; vertical-align: middle;'></progress>\n",
       "      100.00% [44000/44000 00:19&lt;00:00 Sampling 4 chains, 0 divergences]\n",
       "    </div>\n",
       "    "
      ],
      "text/plain": [
       "<IPython.core.display.HTML object>"
      ]
     },
     "metadata": {},
     "output_type": "display_data"
    },
    {
     "name": "stderr",
     "output_type": "stream",
     "text": [
      "Sampling 4 chains for 1_000 tune and 10_000 draw iterations (4_000 + 40_000 draws total) took 48 seconds.\n"
     ]
    }
   ],
   "source": [
    "mir2_F3Rev = mir2_F3[['R2','R3','R4']]\n",
    "mir2_F3Rev_res_2 = dict()\n",
    "for tmp_gen in range(3):\n",
    "    tmp_data = mir2_F3Rev.iloc[:,tmp_gen]\n",
    "    tmp_data_no0 = tmp_data[tmp_data!=0]\n",
    "    mir2_F3Rev_res_2[tmp_gen] = calculate_stat(tmp_data_no0.tolist(), tot=20)"
   ]
  },
  {
   "cell_type": "code",
   "execution_count": null,
   "id": "78addde5",
   "metadata": {},
   "outputs": [],
   "source": []
  },
  {
   "cell_type": "code",
   "execution_count": 303,
   "id": "f4830a5f",
   "metadata": {},
   "outputs": [],
   "source": [
    "mir1_F3= pd.read_csv('./tuDf10_F3Rev.csv', sep=';', index_col=0)\n",
    "mir1_F3_reformatted = pd.DataFrame()\n",
    "for i in range(8):\n",
    "    obs = np.array(mir1_F3.iloc[:,i])/20.\n",
    "    temp = pd.DataFrame.from_dict({'id': np.arange(0, len(obs), 1), 'Generation': [i+0.30 for j in range(len(obs))], 'Eu': list(obs),'Grp': 'miR0'})\n",
    "    mir1_F3_reformatted = pd.concat([mir1_F3_reformatted, temp])"
   ]
  },
  {
   "cell_type": "code",
   "execution_count": 169,
   "id": "650fc3c4",
   "metadata": {},
   "outputs": [],
   "source": [
    "def calculate_stat(eu_obs, tot):\n",
    "    G_samples = eu_obs\n",
    "    N_samples = [tot for i in range(len(G_samples))]\n",
    "    n_sets = len(G_samples)\n",
    "    group_idx = np.repeat(np.arange(len(N_samples)), N_samples)\n",
    "    data = []\n",
    "     # parameters of hyperprior ω\n",
    "    #a=6 \n",
    "    #b=1.51 ###1.2\n",
    "    a=3 \n",
    "    b=2 ###1.2\n",
    "    for i in range(0, len(N_samples)):\n",
    "        data.extend(np.repeat([1, 0], [G_samples[i], N_samples[i]-G_samples[i]]))\n",
    "    with pm.Model() as model:\n",
    "        ω = pm.Beta('ω', a, b)\n",
    "        κ = pm.Gamma('κ', 3, 1)\n",
    "        θ = pm.Beta('θ', alpha=ω*(κ-2)+1, beta=(1-ω)*(κ-2)+1, shape=n_sets)\n",
    "        y = pm.Bernoulli('y', p=θ[group_idx], observed=data)\n",
    "        trace = pm.sample(tune=1000, draws=10000, target_accept=0.95, random_seed=RANDOM_SEED, return_inferencedata=True)\n",
    "        stat_result = az.summary(trace, round_to=3, hdi_prob=0.95)\n",
    "    return stat_result, trace"
   ]
  },
  {
   "cell_type": "code",
   "execution_count": 304,
   "id": "b3a7f4f7",
   "metadata": {},
   "outputs": [],
   "source": [
    "mir1_F3N = mir1_F3[['F1','F2','F3']]\n",
    "mir1_F3N_reformatted = pd.DataFrame()\n",
    "for i in range(3):\n",
    "    obs = np.array(mir1_F3N.iloc[:,i])/20.\n",
    "    temp = pd.DataFrame.from_dict({'id': np.arange(0, len(obs), 1), 'Generation': [i+1.30 for j in range(len(obs))], 'Eu': list(obs),'Grp': 'miR0'})\n",
    "    mir1_F3N_reformatted = pd.concat([mir1_F3N_reformatted, temp])"
   ]
  },
  {
   "cell_type": "code",
   "execution_count": 160,
   "id": "c9ca54b0",
   "metadata": {
    "scrolled": true
   },
   "outputs": [
    {
     "name": "stderr",
     "output_type": "stream",
     "text": [
      "Auto-assigning NUTS sampler...\n",
      "Initializing NUTS using jitter+adapt_diag...\n",
      "Multiprocess sampling (4 chains in 4 jobs)\n",
      "NUTS: [θ, κ, ω]\n"
     ]
    },
    {
     "data": {
      "text/html": [
       "\n",
       "<style>\n",
       "    /* Turns off some styling */\n",
       "    progress {\n",
       "        /* gets rid of default border in Firefox and Opera. */\n",
       "        border: none;\n",
       "        /* Needs to be in here for Safari polyfill so background images work as expected. */\n",
       "        background-size: auto;\n",
       "    }\n",
       "    progress:not([value]), progress:not([value])::-webkit-progress-bar {\n",
       "        background: repeating-linear-gradient(45deg, #7e7e7e, #7e7e7e 10px, #5c5c5c 10px, #5c5c5c 20px);\n",
       "    }\n",
       "    .progress-bar-interrupted, .progress-bar-interrupted::-webkit-progress-bar {\n",
       "        background: #F44336;\n",
       "    }\n",
       "</style>\n"
      ],
      "text/plain": [
       "<IPython.core.display.HTML object>"
      ]
     },
     "metadata": {},
     "output_type": "display_data"
    },
    {
     "data": {
      "text/html": [
       "\n",
       "    <div>\n",
       "      <progress value='44000' class='' max='44000' style='width:300px; height:20px; vertical-align: middle;'></progress>\n",
       "      100.00% [44000/44000 00:24&lt;00:00 Sampling 4 chains, 0 divergences]\n",
       "    </div>\n",
       "    "
      ],
      "text/plain": [
       "<IPython.core.display.HTML object>"
      ]
     },
     "metadata": {},
     "output_type": "display_data"
    },
    {
     "name": "stderr",
     "output_type": "stream",
     "text": [
      "Sampling 4 chains for 1_000 tune and 10_000 draw iterations (4_000 + 40_000 draws total) took 53 seconds.\n",
      "Auto-assigning NUTS sampler...\n",
      "Initializing NUTS using jitter+adapt_diag...\n",
      "Multiprocess sampling (4 chains in 4 jobs)\n",
      "NUTS: [θ, κ, ω]\n"
     ]
    },
    {
     "data": {
      "text/html": [
       "\n",
       "<style>\n",
       "    /* Turns off some styling */\n",
       "    progress {\n",
       "        /* gets rid of default border in Firefox and Opera. */\n",
       "        border: none;\n",
       "        /* Needs to be in here for Safari polyfill so background images work as expected. */\n",
       "        background-size: auto;\n",
       "    }\n",
       "    progress:not([value]), progress:not([value])::-webkit-progress-bar {\n",
       "        background: repeating-linear-gradient(45deg, #7e7e7e, #7e7e7e 10px, #5c5c5c 10px, #5c5c5c 20px);\n",
       "    }\n",
       "    .progress-bar-interrupted, .progress-bar-interrupted::-webkit-progress-bar {\n",
       "        background: #F44336;\n",
       "    }\n",
       "</style>\n"
      ],
      "text/plain": [
       "<IPython.core.display.HTML object>"
      ]
     },
     "metadata": {},
     "output_type": "display_data"
    },
    {
     "data": {
      "text/html": [
       "\n",
       "    <div>\n",
       "      <progress value='44000' class='' max='44000' style='width:300px; height:20px; vertical-align: middle;'></progress>\n",
       "      100.00% [44000/44000 00:23&lt;00:00 Sampling 4 chains, 0 divergences]\n",
       "    </div>\n",
       "    "
      ],
      "text/plain": [
       "<IPython.core.display.HTML object>"
      ]
     },
     "metadata": {},
     "output_type": "display_data"
    },
    {
     "name": "stderr",
     "output_type": "stream",
     "text": [
      "Sampling 4 chains for 1_000 tune and 10_000 draw iterations (4_000 + 40_000 draws total) took 52 seconds.\n"
     ]
    }
   ],
   "source": [
    "mir1_F3Rev = mir1_F3[['R1','R2']]\n",
    "mir1_F3Rev_res_1 = dict()\n",
    "for tmp_gen in range(2):\n",
    "    tmp_data = mir1_F3Rev.iloc[:,tmp_gen]\n",
    "    tmp_data_no0 = tmp_data[tmp_data!=0]\n",
    "    mir1_F3Rev_res_1[tmp_gen] = calculate_stat(tmp_data_no0.tolist(), tot=20)"
   ]
  },
  {
   "cell_type": "code",
   "execution_count": 170,
   "id": "5b7c7d01",
   "metadata": {},
   "outputs": [
    {
     "name": "stderr",
     "output_type": "stream",
     "text": [
      "Auto-assigning NUTS sampler...\n",
      "Initializing NUTS using jitter+adapt_diag...\n",
      "Multiprocess sampling (4 chains in 4 jobs)\n",
      "NUTS: [θ, κ, ω]\n"
     ]
    },
    {
     "data": {
      "text/html": [
       "\n",
       "<style>\n",
       "    /* Turns off some styling */\n",
       "    progress {\n",
       "        /* gets rid of default border in Firefox and Opera. */\n",
       "        border: none;\n",
       "        /* Needs to be in here for Safari polyfill so background images work as expected. */\n",
       "        background-size: auto;\n",
       "    }\n",
       "    progress:not([value]), progress:not([value])::-webkit-progress-bar {\n",
       "        background: repeating-linear-gradient(45deg, #7e7e7e, #7e7e7e 10px, #5c5c5c 10px, #5c5c5c 20px);\n",
       "    }\n",
       "    .progress-bar-interrupted, .progress-bar-interrupted::-webkit-progress-bar {\n",
       "        background: #F44336;\n",
       "    }\n",
       "</style>\n"
      ],
      "text/plain": [
       "<IPython.core.display.HTML object>"
      ]
     },
     "metadata": {},
     "output_type": "display_data"
    },
    {
     "data": {
      "text/html": [
       "\n",
       "    <div>\n",
       "      <progress value='44000' class='' max='44000' style='width:300px; height:20px; vertical-align: middle;'></progress>\n",
       "      100.00% [44000/44000 00:19&lt;00:00 Sampling 4 chains, 0 divergences]\n",
       "    </div>\n",
       "    "
      ],
      "text/plain": [
       "<IPython.core.display.HTML object>"
      ]
     },
     "metadata": {},
     "output_type": "display_data"
    },
    {
     "name": "stderr",
     "output_type": "stream",
     "text": [
      "Sampling 4 chains for 1_000 tune and 10_000 draw iterations (4_000 + 40_000 draws total) took 48 seconds.\n",
      "Auto-assigning NUTS sampler...\n",
      "Initializing NUTS using jitter+adapt_diag...\n",
      "Multiprocess sampling (4 chains in 4 jobs)\n",
      "NUTS: [θ, κ, ω]\n"
     ]
    },
    {
     "data": {
      "text/html": [
       "\n",
       "<style>\n",
       "    /* Turns off some styling */\n",
       "    progress {\n",
       "        /* gets rid of default border in Firefox and Opera. */\n",
       "        border: none;\n",
       "        /* Needs to be in here for Safari polyfill so background images work as expected. */\n",
       "        background-size: auto;\n",
       "    }\n",
       "    progress:not([value]), progress:not([value])::-webkit-progress-bar {\n",
       "        background: repeating-linear-gradient(45deg, #7e7e7e, #7e7e7e 10px, #5c5c5c 10px, #5c5c5c 20px);\n",
       "    }\n",
       "    .progress-bar-interrupted, .progress-bar-interrupted::-webkit-progress-bar {\n",
       "        background: #F44336;\n",
       "    }\n",
       "</style>\n"
      ],
      "text/plain": [
       "<IPython.core.display.HTML object>"
      ]
     },
     "metadata": {},
     "output_type": "display_data"
    },
    {
     "data": {
      "text/html": [
       "\n",
       "    <div>\n",
       "      <progress value='44000' class='' max='44000' style='width:300px; height:20px; vertical-align: middle;'></progress>\n",
       "      100.00% [44000/44000 00:21&lt;00:00 Sampling 4 chains, 0 divergences]\n",
       "    </div>\n",
       "    "
      ],
      "text/plain": [
       "<IPython.core.display.HTML object>"
      ]
     },
     "metadata": {},
     "output_type": "display_data"
    },
    {
     "name": "stderr",
     "output_type": "stream",
     "text": [
      "Sampling 4 chains for 1_000 tune and 10_000 draw iterations (4_000 + 40_000 draws total) took 51 seconds.\n"
     ]
    }
   ],
   "source": [
    "mir1_F3Rev = mir1_F3[['R3','R4']]\n",
    "mir1_F3Rev_res_3 = dict()\n",
    "for tmp_gen in range(2):\n",
    "    tmp_data = mir1_F3Rev.iloc[:,tmp_gen]\n",
    "    tmp_data_no0 = tmp_data[tmp_data!=0]\n",
    "    mir1_F3Rev_res_3[tmp_gen] = calculate_stat(tmp_data_no0.tolist(), tot=20)"
   ]
  },
  {
   "cell_type": "code",
   "execution_count": null,
   "id": "b3ba83ba",
   "metadata": {},
   "outputs": [],
   "source": []
  },
  {
   "cell_type": "code",
   "execution_count": 305,
   "id": "fdb87a1a",
   "metadata": {},
   "outputs": [],
   "source": [
    "mir0_F3= pd.read_csv('./tuDf11_F3Rev.csv', sep=';', index_col=0)\n",
    "mir0_F3_reformatted = pd.DataFrame()\n",
    "for i in range(8):\n",
    "    obs = np.array(mir0_F3.iloc[:,i])/20.\n",
    "    temp = pd.DataFrame.from_dict({'id': np.arange(0, len(obs), 1), 'Generation': [i+0.45 for j in range(len(obs))], 'Eu': list(obs),'Grp': 'miR0'})\n",
    "    mir0_F3_reformatted = pd.concat([mir0_F3_reformatted, temp])"
   ]
  },
  {
   "cell_type": "code",
   "execution_count": 165,
   "id": "275f9279",
   "metadata": {},
   "outputs": [],
   "source": [
    "def calculate_stat(eu_obs, tot):\n",
    "    G_samples = eu_obs\n",
    "    N_samples = [tot for i in range(len(G_samples))]\n",
    "    n_sets = len(G_samples)\n",
    "    group_idx = np.repeat(np.arange(len(N_samples)), N_samples)\n",
    "    data = []\n",
    "     # parameters of hyperprior ω\n",
    "    a=2 \n",
    "    b=2 ###1.2\n",
    "    for i in range(0, len(N_samples)):\n",
    "        data.extend(np.repeat([1, 0], [G_samples[i], N_samples[i]-G_samples[i]]))\n",
    "    with pm.Model() as model:\n",
    "        ω = pm.Beta('ω', a, b)\n",
    "        κ = pm.Gamma('κ', 3, 1)\n",
    "        θ = pm.Beta('θ', alpha=ω*(κ-2)+1, beta=(1-ω)*(κ-2)+1, shape=n_sets)\n",
    "        y = pm.Bernoulli('y', p=θ[group_idx], observed=data)\n",
    "        trace = pm.sample(tune=1000, draws=10000, target_accept=0.95, random_seed=RANDOM_SEED, return_inferencedata=True)\n",
    "        stat_result = az.summary(trace, round_to=3, hdi_prob=0.95)\n",
    "    return stat_result, trace"
   ]
  },
  {
   "cell_type": "code",
   "execution_count": 306,
   "id": "40dac8a0",
   "metadata": {},
   "outputs": [],
   "source": [
    "mir0_F3N = mir0_F3[['F1','F2','F3']]\n",
    "mir0_F3N_reformatted = pd.DataFrame()\n",
    "for i in range(3):\n",
    "    obs = np.array(mir0_F3N.iloc[:,i])/20.\n",
    "    temp = pd.DataFrame.from_dict({'id': np.arange(0, len(obs), 1), 'Generation': [i+1.45 for j in range(len(obs))], 'Eu': list(obs),'Grp': 'miR0'})\n",
    "    mir0_F3N_reformatted = pd.concat([mir0_F3N_reformatted, temp])"
   ]
  },
  {
   "cell_type": "code",
   "execution_count": 164,
   "id": "457e38da",
   "metadata": {},
   "outputs": [
    {
     "name": "stderr",
     "output_type": "stream",
     "text": [
      "Auto-assigning NUTS sampler...\n",
      "Initializing NUTS using jitter+adapt_diag...\n",
      "Multiprocess sampling (4 chains in 4 jobs)\n",
      "NUTS: [θ, κ, ω]\n"
     ]
    },
    {
     "data": {
      "text/html": [
       "\n",
       "<style>\n",
       "    /* Turns off some styling */\n",
       "    progress {\n",
       "        /* gets rid of default border in Firefox and Opera. */\n",
       "        border: none;\n",
       "        /* Needs to be in here for Safari polyfill so background images work as expected. */\n",
       "        background-size: auto;\n",
       "    }\n",
       "    progress:not([value]), progress:not([value])::-webkit-progress-bar {\n",
       "        background: repeating-linear-gradient(45deg, #7e7e7e, #7e7e7e 10px, #5c5c5c 10px, #5c5c5c 20px);\n",
       "    }\n",
       "    .progress-bar-interrupted, .progress-bar-interrupted::-webkit-progress-bar {\n",
       "        background: #F44336;\n",
       "    }\n",
       "</style>\n"
      ],
      "text/plain": [
       "<IPython.core.display.HTML object>"
      ]
     },
     "metadata": {},
     "output_type": "display_data"
    },
    {
     "data": {
      "text/html": [
       "\n",
       "    <div>\n",
       "      <progress value='44000' class='' max='44000' style='width:300px; height:20px; vertical-align: middle;'></progress>\n",
       "      100.00% [44000/44000 00:24&lt;00:00 Sampling 4 chains, 0 divergences]\n",
       "    </div>\n",
       "    "
      ],
      "text/plain": [
       "<IPython.core.display.HTML object>"
      ]
     },
     "metadata": {},
     "output_type": "display_data"
    },
    {
     "name": "stderr",
     "output_type": "stream",
     "text": [
      "Sampling 4 chains for 1_000 tune and 10_000 draw iterations (4_000 + 40_000 draws total) took 53 seconds.\n",
      "Auto-assigning NUTS sampler...\n",
      "Initializing NUTS using jitter+adapt_diag...\n",
      "Multiprocess sampling (4 chains in 4 jobs)\n",
      "NUTS: [θ, κ, ω]\n"
     ]
    },
    {
     "data": {
      "text/html": [
       "\n",
       "<style>\n",
       "    /* Turns off some styling */\n",
       "    progress {\n",
       "        /* gets rid of default border in Firefox and Opera. */\n",
       "        border: none;\n",
       "        /* Needs to be in here for Safari polyfill so background images work as expected. */\n",
       "        background-size: auto;\n",
       "    }\n",
       "    progress:not([value]), progress:not([value])::-webkit-progress-bar {\n",
       "        background: repeating-linear-gradient(45deg, #7e7e7e, #7e7e7e 10px, #5c5c5c 10px, #5c5c5c 20px);\n",
       "    }\n",
       "    .progress-bar-interrupted, .progress-bar-interrupted::-webkit-progress-bar {\n",
       "        background: #F44336;\n",
       "    }\n",
       "</style>\n"
      ],
      "text/plain": [
       "<IPython.core.display.HTML object>"
      ]
     },
     "metadata": {},
     "output_type": "display_data"
    },
    {
     "data": {
      "text/html": [
       "\n",
       "    <div>\n",
       "      <progress value='44000' class='' max='44000' style='width:300px; height:20px; vertical-align: middle;'></progress>\n",
       "      100.00% [44000/44000 00:23&lt;00:00 Sampling 4 chains, 0 divergences]\n",
       "    </div>\n",
       "    "
      ],
      "text/plain": [
       "<IPython.core.display.HTML object>"
      ]
     },
     "metadata": {},
     "output_type": "display_data"
    },
    {
     "name": "stderr",
     "output_type": "stream",
     "text": [
      "Sampling 4 chains for 1_000 tune and 10_000 draw iterations (4_000 + 40_000 draws total) took 52 seconds.\n"
     ]
    }
   ],
   "source": [
    "mir0_F3Rev = mir0_F3[['R1','R2']]\n",
    "mir0_F3Rev_res_1 = dict()\n",
    "for tmp_gen in range(2):\n",
    "    tmp_data = mir0_F3Rev.iloc[:,tmp_gen]\n",
    "    tmp_data_no0 = tmp_data[tmp_data!=0]\n",
    "    mir0_F3Rev_res_1[tmp_gen] = calculate_stat(tmp_data_no0.tolist(), tot=20)"
   ]
  },
  {
   "cell_type": "code",
   "execution_count": 232,
   "id": "3f47639c",
   "metadata": {},
   "outputs": [
    {
     "ename": "KeyError",
     "evalue": "2",
     "output_type": "error",
     "traceback": [
      "\u001b[0;31m---------------------------------------------------------------------------\u001b[0m",
      "\u001b[0;31mKeyError\u001b[0m                                  Traceback (most recent call last)",
      "Input \u001b[0;32mIn [232]\u001b[0m, in \u001b[0;36m<cell line: 1>\u001b[0;34m()\u001b[0m\n\u001b[0;32m----> 1\u001b[0m mir0_F1R_HDI\u001b[38;5;241m=\u001b[39maz\u001b[38;5;241m.\u001b[39msummary(\u001b[43mmir0_F3Rev_res_1\u001b[49m\u001b[43m[\u001b[49m\u001b[38;5;241;43m2\u001b[39;49m\u001b[43m]\u001b[49m[\u001b[38;5;241m1\u001b[39m], round_to\u001b[38;5;241m=\u001b[39m\u001b[38;5;241m2\u001b[39m, hdi_prob\u001b[38;5;241m=\u001b[39m\u001b[38;5;241m0.95\u001b[39m)\n\u001b[1;32m      2\u001b[0m mir0_F1R_HDI\n",
      "\u001b[0;31mKeyError\u001b[0m: 2"
     ]
    }
   ],
   "source": [
    "mir0_F1R_HDI=az.summary(mir0_F3Rev_res_1[1][1], round_to=2, hdi_prob=0.95)\n",
    "mir0_F1R_HDI"
   ]
  },
  {
   "cell_type": "code",
   "execution_count": 231,
   "id": "9be0e3a8",
   "metadata": {},
   "outputs": [
    {
     "data": {
      "text/plain": [
       "hdi_97.5%    0.941\n",
       "dtype: float64"
      ]
     },
     "execution_count": 231,
     "metadata": {},
     "output_type": "execute_result"
    }
   ],
   "source": [
    "mir0_F1R_HDI.iloc[2:12,[3]].mean()"
   ]
  },
  {
   "cell_type": "code",
   "execution_count": 166,
   "id": "70d6d9b6",
   "metadata": {},
   "outputs": [
    {
     "name": "stderr",
     "output_type": "stream",
     "text": [
      "Auto-assigning NUTS sampler...\n",
      "Initializing NUTS using jitter+adapt_diag...\n",
      "Multiprocess sampling (4 chains in 4 jobs)\n",
      "NUTS: [θ, κ, ω]\n"
     ]
    },
    {
     "data": {
      "text/html": [
       "\n",
       "<style>\n",
       "    /* Turns off some styling */\n",
       "    progress {\n",
       "        /* gets rid of default border in Firefox and Opera. */\n",
       "        border: none;\n",
       "        /* Needs to be in here for Safari polyfill so background images work as expected. */\n",
       "        background-size: auto;\n",
       "    }\n",
       "    progress:not([value]), progress:not([value])::-webkit-progress-bar {\n",
       "        background: repeating-linear-gradient(45deg, #7e7e7e, #7e7e7e 10px, #5c5c5c 10px, #5c5c5c 20px);\n",
       "    }\n",
       "    .progress-bar-interrupted, .progress-bar-interrupted::-webkit-progress-bar {\n",
       "        background: #F44336;\n",
       "    }\n",
       "</style>\n"
      ],
      "text/plain": [
       "<IPython.core.display.HTML object>"
      ]
     },
     "metadata": {},
     "output_type": "display_data"
    },
    {
     "data": {
      "text/html": [
       "\n",
       "    <div>\n",
       "      <progress value='44000' class='' max='44000' style='width:300px; height:20px; vertical-align: middle;'></progress>\n",
       "      100.00% [44000/44000 00:21&lt;00:00 Sampling 4 chains, 0 divergences]\n",
       "    </div>\n",
       "    "
      ],
      "text/plain": [
       "<IPython.core.display.HTML object>"
      ]
     },
     "metadata": {},
     "output_type": "display_data"
    },
    {
     "name": "stderr",
     "output_type": "stream",
     "text": [
      "Sampling 4 chains for 1_000 tune and 10_000 draw iterations (4_000 + 40_000 draws total) took 50 seconds.\n",
      "Auto-assigning NUTS sampler...\n",
      "Initializing NUTS using jitter+adapt_diag...\n",
      "Multiprocess sampling (4 chains in 4 jobs)\n",
      "NUTS: [θ, κ, ω]\n"
     ]
    },
    {
     "data": {
      "text/html": [
       "\n",
       "<style>\n",
       "    /* Turns off some styling */\n",
       "    progress {\n",
       "        /* gets rid of default border in Firefox and Opera. */\n",
       "        border: none;\n",
       "        /* Needs to be in here for Safari polyfill so background images work as expected. */\n",
       "        background-size: auto;\n",
       "    }\n",
       "    progress:not([value]), progress:not([value])::-webkit-progress-bar {\n",
       "        background: repeating-linear-gradient(45deg, #7e7e7e, #7e7e7e 10px, #5c5c5c 10px, #5c5c5c 20px);\n",
       "    }\n",
       "    .progress-bar-interrupted, .progress-bar-interrupted::-webkit-progress-bar {\n",
       "        background: #F44336;\n",
       "    }\n",
       "</style>\n"
      ],
      "text/plain": [
       "<IPython.core.display.HTML object>"
      ]
     },
     "metadata": {},
     "output_type": "display_data"
    },
    {
     "data": {
      "text/html": [
       "\n",
       "    <div>\n",
       "      <progress value='44000' class='' max='44000' style='width:300px; height:20px; vertical-align: middle;'></progress>\n",
       "      100.00% [44000/44000 00:23&lt;00:00 Sampling 4 chains, 0 divergences]\n",
       "    </div>\n",
       "    "
      ],
      "text/plain": [
       "<IPython.core.display.HTML object>"
      ]
     },
     "metadata": {},
     "output_type": "display_data"
    },
    {
     "name": "stderr",
     "output_type": "stream",
     "text": [
      "Sampling 4 chains for 1_000 tune and 10_000 draw iterations (4_000 + 40_000 draws total) took 54 seconds.\n"
     ]
    }
   ],
   "source": [
    "mir0_F3Rev = mir0_F3[['R3','R4']]\n",
    "mir0_F3Rev_res_2 = dict()\n",
    "for tmp_gen in range(2):\n",
    "    tmp_data = mir0_F3Rev.iloc[:,tmp_gen]\n",
    "    tmp_data_no0 = tmp_data[tmp_data!=0]\n",
    "    mir0_F3Rev_res_2[tmp_gen] = calculate_stat(tmp_data_no0.tolist(), tot=20)"
   ]
  },
  {
   "cell_type": "code",
   "execution_count": 242,
   "id": "4ff0aefa",
   "metadata": {},
   "outputs": [
    {
     "data": {
      "text/html": [
       "<div>\n",
       "<style scoped>\n",
       "    .dataframe tbody tr th:only-of-type {\n",
       "        vertical-align: middle;\n",
       "    }\n",
       "\n",
       "    .dataframe tbody tr th {\n",
       "        vertical-align: top;\n",
       "    }\n",
       "\n",
       "    .dataframe thead th {\n",
       "        text-align: right;\n",
       "    }\n",
       "</style>\n",
       "<table border=\"1\" class=\"dataframe\">\n",
       "  <thead>\n",
       "    <tr style=\"text-align: right;\">\n",
       "      <th></th>\n",
       "      <th>mean</th>\n",
       "      <th>sd</th>\n",
       "      <th>hdi_2.5%</th>\n",
       "      <th>hdi_97.5%</th>\n",
       "      <th>mcse_mean</th>\n",
       "      <th>mcse_sd</th>\n",
       "      <th>ess_bulk</th>\n",
       "      <th>ess_tail</th>\n",
       "      <th>r_hat</th>\n",
       "    </tr>\n",
       "  </thead>\n",
       "  <tbody>\n",
       "    <tr>\n",
       "      <th>ω</th>\n",
       "      <td>0.73</td>\n",
       "      <td>0.10</td>\n",
       "      <td>0.55</td>\n",
       "      <td>0.91</td>\n",
       "      <td>0.00</td>\n",
       "      <td>0.00</td>\n",
       "      <td>29427.19</td>\n",
       "      <td>21912.17</td>\n",
       "      <td>1.0</td>\n",
       "    </tr>\n",
       "    <tr>\n",
       "      <th>κ</th>\n",
       "      <td>6.49</td>\n",
       "      <td>2.29</td>\n",
       "      <td>2.51</td>\n",
       "      <td>11.09</td>\n",
       "      <td>0.01</td>\n",
       "      <td>0.01</td>\n",
       "      <td>33301.16</td>\n",
       "      <td>24886.70</td>\n",
       "      <td>1.0</td>\n",
       "    </tr>\n",
       "    <tr>\n",
       "      <th>θ[0]</th>\n",
       "      <td>0.73</td>\n",
       "      <td>0.09</td>\n",
       "      <td>0.55</td>\n",
       "      <td>0.88</td>\n",
       "      <td>0.00</td>\n",
       "      <td>0.00</td>\n",
       "      <td>42648.20</td>\n",
       "      <td>27260.39</td>\n",
       "      <td>1.0</td>\n",
       "    </tr>\n",
       "    <tr>\n",
       "      <th>θ[1]</th>\n",
       "      <td>0.65</td>\n",
       "      <td>0.09</td>\n",
       "      <td>0.47</td>\n",
       "      <td>0.83</td>\n",
       "      <td>0.00</td>\n",
       "      <td>0.00</td>\n",
       "      <td>41403.28</td>\n",
       "      <td>29253.16</td>\n",
       "      <td>1.0</td>\n",
       "    </tr>\n",
       "    <tr>\n",
       "      <th>θ[2]</th>\n",
       "      <td>0.65</td>\n",
       "      <td>0.09</td>\n",
       "      <td>0.47</td>\n",
       "      <td>0.82</td>\n",
       "      <td>0.00</td>\n",
       "      <td>0.00</td>\n",
       "      <td>43987.65</td>\n",
       "      <td>28749.59</td>\n",
       "      <td>1.0</td>\n",
       "    </tr>\n",
       "    <tr>\n",
       "      <th>θ[3]</th>\n",
       "      <td>0.65</td>\n",
       "      <td>0.09</td>\n",
       "      <td>0.47</td>\n",
       "      <td>0.82</td>\n",
       "      <td>0.00</td>\n",
       "      <td>0.00</td>\n",
       "      <td>41001.76</td>\n",
       "      <td>29977.40</td>\n",
       "      <td>1.0</td>\n",
       "    </tr>\n",
       "    <tr>\n",
       "      <th>θ[4]</th>\n",
       "      <td>0.77</td>\n",
       "      <td>0.08</td>\n",
       "      <td>0.60</td>\n",
       "      <td>0.91</td>\n",
       "      <td>0.00</td>\n",
       "      <td>0.00</td>\n",
       "      <td>42848.14</td>\n",
       "      <td>27491.08</td>\n",
       "      <td>1.0</td>\n",
       "    </tr>\n",
       "    <tr>\n",
       "      <th>θ[5]</th>\n",
       "      <td>0.73</td>\n",
       "      <td>0.09</td>\n",
       "      <td>0.56</td>\n",
       "      <td>0.89</td>\n",
       "      <td>0.00</td>\n",
       "      <td>0.00</td>\n",
       "      <td>40378.14</td>\n",
       "      <td>27783.01</td>\n",
       "      <td>1.0</td>\n",
       "    </tr>\n",
       "    <tr>\n",
       "      <th>θ[6]</th>\n",
       "      <td>0.69</td>\n",
       "      <td>0.09</td>\n",
       "      <td>0.51</td>\n",
       "      <td>0.86</td>\n",
       "      <td>0.00</td>\n",
       "      <td>0.00</td>\n",
       "      <td>39757.98</td>\n",
       "      <td>27447.04</td>\n",
       "      <td>1.0</td>\n",
       "    </tr>\n",
       "    <tr>\n",
       "      <th>θ[7]</th>\n",
       "      <td>0.73</td>\n",
       "      <td>0.09</td>\n",
       "      <td>0.56</td>\n",
       "      <td>0.89</td>\n",
       "      <td>0.00</td>\n",
       "      <td>0.00</td>\n",
       "      <td>44246.87</td>\n",
       "      <td>28043.69</td>\n",
       "      <td>1.0</td>\n",
       "    </tr>\n",
       "    <tr>\n",
       "      <th>θ[8]</th>\n",
       "      <td>0.65</td>\n",
       "      <td>0.09</td>\n",
       "      <td>0.47</td>\n",
       "      <td>0.82</td>\n",
       "      <td>0.00</td>\n",
       "      <td>0.00</td>\n",
       "      <td>44673.31</td>\n",
       "      <td>28706.24</td>\n",
       "      <td>1.0</td>\n",
       "    </tr>\n",
       "    <tr>\n",
       "      <th>θ[9]</th>\n",
       "      <td>0.69</td>\n",
       "      <td>0.09</td>\n",
       "      <td>0.51</td>\n",
       "      <td>0.86</td>\n",
       "      <td>0.00</td>\n",
       "      <td>0.00</td>\n",
       "      <td>43217.70</td>\n",
       "      <td>29266.95</td>\n",
       "      <td>1.0</td>\n",
       "    </tr>\n",
       "  </tbody>\n",
       "</table>\n",
       "</div>"
      ],
      "text/plain": [
       "      mean    sd  hdi_2.5%  hdi_97.5%  mcse_mean  mcse_sd  ess_bulk  ess_tail  \\\n",
       "ω     0.73  0.10      0.55       0.91       0.00     0.00  29427.19  21912.17   \n",
       "κ     6.49  2.29      2.51      11.09       0.01     0.01  33301.16  24886.70   \n",
       "θ[0]  0.73  0.09      0.55       0.88       0.00     0.00  42648.20  27260.39   \n",
       "θ[1]  0.65  0.09      0.47       0.83       0.00     0.00  41403.28  29253.16   \n",
       "θ[2]  0.65  0.09      0.47       0.82       0.00     0.00  43987.65  28749.59   \n",
       "θ[3]  0.65  0.09      0.47       0.82       0.00     0.00  41001.76  29977.40   \n",
       "θ[4]  0.77  0.08      0.60       0.91       0.00     0.00  42848.14  27491.08   \n",
       "θ[5]  0.73  0.09      0.56       0.89       0.00     0.00  40378.14  27783.01   \n",
       "θ[6]  0.69  0.09      0.51       0.86       0.00     0.00  39757.98  27447.04   \n",
       "θ[7]  0.73  0.09      0.56       0.89       0.00     0.00  44246.87  28043.69   \n",
       "θ[8]  0.65  0.09      0.47       0.82       0.00     0.00  44673.31  28706.24   \n",
       "θ[9]  0.69  0.09      0.51       0.86       0.00     0.00  43217.70  29266.95   \n",
       "\n",
       "      r_hat  \n",
       "ω       1.0  \n",
       "κ       1.0  \n",
       "θ[0]    1.0  \n",
       "θ[1]    1.0  \n",
       "θ[2]    1.0  \n",
       "θ[3]    1.0  \n",
       "θ[4]    1.0  \n",
       "θ[5]    1.0  \n",
       "θ[6]    1.0  \n",
       "θ[7]    1.0  \n",
       "θ[8]    1.0  \n",
       "θ[9]    1.0  "
      ]
     },
     "execution_count": 242,
     "metadata": {},
     "output_type": "execute_result"
    }
   ],
   "source": [
    "mir0_F1R_HDI=az.summary(mir0_F3Rev_res_2[0][1], round_to=2, hdi_prob=0.95)\n",
    "mir0_F1R_HDI"
   ]
  },
  {
   "cell_type": "code",
   "execution_count": 244,
   "id": "9d8bbf83",
   "metadata": {},
   "outputs": [
    {
     "data": {
      "text/plain": [
       "hdi_97.5%    0.858\n",
       "dtype: float64"
      ]
     },
     "execution_count": 244,
     "metadata": {},
     "output_type": "execute_result"
    }
   ],
   "source": [
    "mir0_F1R_HDI.iloc[2:12,[3]].mean()\n",
    "\n"
   ]
  },
  {
   "cell_type": "code",
   "execution_count": 308,
   "id": "8d577dc1",
   "metadata": {},
   "outputs": [
    {
     "data": {
      "image/png": "[encoded data removed]",
      "text/plain": [
       "<Figure size 648x432 with 1 Axes>"
      ]
     },
     "metadata": {
      "needs_background": "light"
     },
     "output_type": "display_data"
    }
   ],
   "source": [
    "fig, ax = plt.subplots(\n",
    "    nrows=1,\n",
    "    ncols=1,\n",
    "    figsize=(9,6),\n",
    "    constrained_layout=True)\n",
    "\n",
    "\n",
    "\n",
    "import seaborn as sns\n",
    "\n",
    "#            \n",
    "col3=sns.color_palette(\"pastel\")[7]\n",
    "sns.stripplot(data= WT_F3_reformatted, x='Generation', y='Eu', ax=ax, s=13, edgecolors='silver', color='silver', alpha=0.4, linewidths=2, zorder=2, jitter=False)\n",
    "plt.scatter(data= WT_F3N_reformatted, x='Generation', y='Eu', s=200, edgecolors=col3, color='white', linewidths=4, zorder=2)\n",
    "\n",
    "for i in range(1):\n",
    "    inf_summ = az.summary(WT_F0_res[i][1], hdi_prob=0.95)\n",
    "    inf_mean = np.array(inf_summ['mean'][2:])\n",
    "    l_hdi =  np.array(inf_summ['hdi_2.5%'][2:])\n",
    "    h_hdi = np.array(inf_summ['hdi_97.5%'][2:])\n",
    "    plt.vlines(i, np.mean(l_hdi), np.mean(h_hdi),  colors=col3, linestyles='-', linewidth=4, capstyle='round', label='95% HDI',clip_on=False, zorder=4)\n",
    "    plt.scatter(i, np.mean(inf_mean), s=200, edgecolors=col3, color='white', linewidths=4, zorder=4)\n",
    "\n",
    "for i in range(4):\n",
    "    inf_summ = az.summary(WT_F3Rev_res[i][1], hdi_prob=0.95)\n",
    "    inf_mean = np.array(inf_summ['mean'][2:])\n",
    "    l_hdi =  np.array(inf_summ['hdi_2.5%'][2:])\n",
    "    h_hdi = np.array(inf_summ['hdi_97.5%'][2:])\n",
    "    plt.vlines(i+4, np.mean(l_hdi), np.mean(h_hdi),  colors=col3, linestyles='-', linewidth=4, capstyle='round', label='95% HDI',clip_on=False, zorder=4)\n",
    "    plt.scatter(i+4, np.mean(inf_mean), s=200, edgecolors=col3, color='white', linewidths=4, zorder=4)\n",
    "\n",
    "\n",
    "##\n",
    "col1= sns.color_palette(\"muted\")[7]\n",
    "\n",
    "plt.scatter(data= mir2_F3_reformatted, x='Generation', y='Eu', s=115, edgecolors='silver', color='silver', linewidths=2, zorder=2)\n",
    "plt.scatter(data= mir2_F3N_reformatted, x='Generation', y='Eu', s=200, edgecolors='#3498DB', color='white', linewidths=4, zorder=2)\n",
    "\n",
    "for i in range(1):\n",
    "    inf_summ = az.summary(mir2_F0_res[i][1], hdi_prob=0.95)\n",
    "    inf_mean = np.array(inf_summ['mean'][2:])\n",
    "    l_hdi =  np.array(inf_summ['hdi_2.5%'][2:])\n",
    "    h_hdi = np.array(inf_summ['hdi_97.5%'][2:])\n",
    "    plt.vlines(i+0.15, np.mean(l_hdi), np.mean(h_hdi),  colors='#3498DB', linestyles='-', linewidth=4, capstyle='round', label='95% HDI',clip_on=False, zorder=4)\n",
    "    plt.scatter(i+0.15, np.mean(inf_mean), s=200, edgecolors='#3498DB', color='white', linewidths=4, zorder=4)\n",
    "\n",
    "for i in range(1):\n",
    "    inf_summ = az.summary(mir2_F3Rev_res_1[i][1], hdi_prob=0.95)\n",
    "    inf_mean = np.array(inf_summ['mean'][2:])\n",
    "    l_hdi =  np.array(inf_summ['hdi_2.5%'][2:])\n",
    "    h_hdi = np.array(inf_summ['hdi_97.5%'][2:])\n",
    "    plt.vlines(i+4.15, np.mean(l_hdi), np.mean(h_hdi),  colors='#3498DB', linestyles='-', linewidth=4, capstyle='round', label='95% HDI',clip_on=False, zorder=3)\n",
    "    plt.scatter(i+4.15, np.mean(inf_mean), s=200, edgecolors='#3498DB', color='white', linewidths=4, zorder=4)\n",
    "\n",
    "for i in range(3):\n",
    "    inf_summ = az.summary(mir2_F3Rev_res_2[i][1], hdi_prob=0.95)\n",
    "    inf_mean = np.array(inf_summ['mean'][2:])\n",
    "    l_hdi =  np.array(inf_summ['hdi_2.5%'][2:])\n",
    "    h_hdi = np.array(inf_summ['hdi_97.5%'][2:])\n",
    "    plt.vlines(i+5.15, np.mean(l_hdi), np.mean(h_hdi),  colors='#3498DB', linestyles='-', linewidth=4, capstyle='round', label='95% HDI',clip_on=False, zorder=3)\n",
    "    plt.scatter(i+5.15, np.mean(inf_mean), s=200, edgecolors='#3498DB', color='white', linewidths=4, zorder=4)\n",
    "\n",
    "##\n",
    "col2=sns.color_palette(\"muted\")[8]\n",
    "\n",
    "plt.scatter(data= mir1_F3_reformatted, x='Generation', y='Eu', s=115, edgecolors='silver', color='silver', linewidths=2, zorder=2)\n",
    "plt.scatter(data= mir1_F3N_reformatted, x='Generation', y='Eu', s=200, edgecolors='#2ECC71', color='white', linewidths=4, zorder=2)\n",
    "\n",
    "for i in range(1):\n",
    "    inf_summ = az.summary(mir1_F0_res[i][1], hdi_prob=0.95)\n",
    "    inf_mean = np.array(inf_summ['mean'][2:])\n",
    "    l_hdi =  np.array(inf_summ['hdi_2.5%'][2:])\n",
    "    h_hdi = np.array(inf_summ['hdi_97.5%'][2:])\n",
    "    plt.vlines(i+0.3, np.mean(l_hdi), np.mean(h_hdi),  colors='#2ECC71', linestyles='-', linewidth=4, capstyle='round', label='95% HDI',clip_on=False, zorder=4)\n",
    "    plt.scatter(i+0.3, np.mean(inf_mean), s=200, edgecolors='#2ECC71', color='white', linewidths=4, zorder=4)\n",
    "\n",
    "for i in range(2):\n",
    "    inf_summ = az.summary(mir1_F3Rev_res_1[i][1], hdi_prob=0.95)\n",
    "    inf_mean = np.array(inf_summ['mean'][2:])\n",
    "    l_hdi =  np.array(inf_summ['hdi_2.5%'][2:])\n",
    "    h_hdi = np.array(inf_summ['hdi_97.5%'][2:])\n",
    "    plt.vlines(i+4.3, np.mean(l_hdi), np.mean(h_hdi),  colors='#2ECC71', linestyles='-', linewidth=4, capstyle='round', label='95% HDI',clip_on=False, zorder=3)\n",
    "    plt.scatter(i+4.3, np.mean(inf_mean), s=200, edgecolors='#2ECC71', color='white', linewidths=4, zorder=4)\n",
    "\n",
    "#for i in range(1):\n",
    " #   inf_summ = az.summary(mir1_F3Rev_res_2[i][1], hdi_prob=0.95)\n",
    "  #  inf_mean = np.array(inf_summ['mean'][2:])\n",
    "   # l_hdi =  np.array(inf_summ['hdi_2.5%'][2:])\n",
    "    #h_hdi = np.array(inf_summ['hdi_97.5%'][2:])\n",
    "    #plt.vlines(i+4.3, np.mean(l_hdi), np.mean(h_hdi),  colors='#2ECC71', linestyles='-', linewidth=4, capstyle='round', label='95% HDI',clip_on=False, zorder=3)\n",
    "    #plt.scatter(i+4.3, np.mean(inf_mean), s=200, edgecolors='#2ECC71', color='white', linewidths=4, zorder=4)\n",
    "\n",
    "for i in range(2):\n",
    "    inf_summ = az.summary(mir1_F3Rev_res_3[i][1], hdi_prob=0.95)\n",
    "    inf_mean = np.array(inf_summ['mean'][2:])\n",
    "    l_hdi =  np.array(inf_summ['hdi_2.5%'][2:])\n",
    "    h_hdi = np.array(inf_summ['hdi_97.5%'][2:])\n",
    "    plt.vlines(i+6.3, np.mean(l_hdi), np.mean(h_hdi),  colors='#2ECC71', linestyles='-', linewidth=4, capstyle='round', label='95% HDI',clip_on=False, zorder=3)\n",
    "    plt.scatter(i+6.3, np.mean(inf_mean), s=200, edgecolors='#2ECC71', color='white', linewidths=4, zorder=4)\n",
    "\n",
    "\n",
    "##\n",
    "col=sns.color_palette(\"muted\")[9]\n",
    "plt.scatter(data= mir0_F3_reformatted, x='Generation', y='Eu', s=115, edgecolors='silver', color='silver', linewidths=2, zorder=2)\n",
    "plt.scatter(data= mir0_F3N_reformatted, x='Generation', y='Eu', s=200, edgecolors='#D35400', color='white', linewidths=4, zorder=2)\n",
    "\n",
    "for i in range(1):\n",
    "    inf_summ = az.summary(mir0_F0_res[i][1], hdi_prob=0.95)\n",
    "    inf_mean = np.array(inf_summ['mean'][2:])\n",
    "    l_hdi =  np.array(inf_summ['hdi_2.5%'][2:])\n",
    "    h_hdi = np.array(inf_summ['hdi_97.5%'][2:])\n",
    "    plt.vlines(i+0.45, np.mean(l_hdi), np.mean(h_hdi),  colors='#D35400', linestyles='-', linewidth=4, capstyle='round', label='95% HDI',clip_on=False, zorder=4)\n",
    "    plt.scatter(i+0.45, np.mean(inf_mean), s=200, edgecolors='#D35400', color='white', linewidths=4, zorder=4)\n",
    "\n",
    "for i in range(2):\n",
    "    inf_summ = az.summary(mir0_F3Rev_res_1[i][1], hdi_prob=0.95)\n",
    "    inf_mean = np.array(inf_summ['mean'][2:])\n",
    "    l_hdi =  np.array(inf_summ['hdi_2.5%'][2:])\n",
    "    h_hdi = np.array(inf_summ['hdi_97.5%'][2:])\n",
    "    plt.vlines(i+4.45, np.mean(l_hdi), np.mean(h_hdi),  colors='#D35400', linestyles='-', linewidth=4, capstyle='round', label='95% HDI',clip_on=False, zorder=4)\n",
    "    plt.scatter(i+4.45, np.mean(inf_mean), s=200, edgecolors='#D35400', color='white', linewidths=4, zorder=4)\n",
    "\n",
    "for i in range(2):\n",
    "    inf_summ = az.summary(mir0_F3Rev_res_2[i][1], hdi_prob=0.95)\n",
    "    inf_mean = np.array(inf_summ['mean'][2:])\n",
    "    l_hdi =  np.array(inf_summ['hdi_2.5%'][2:])\n",
    "    h_hdi = np.array(inf_summ['hdi_97.5%'][2:])\n",
    "    plt.vlines(i+6.45, np.mean(l_hdi), np.mean(h_hdi),  colors='#D35400', linestyles='-', linewidth=4, capstyle='round', label='95% HDI',clip_on=False, zorder=4)\n",
    "    plt.scatter(i+6.45, np.mean(inf_mean), s=200, edgecolors='#D35400', color='white', linewidths=4, zorder=4)\n",
    "\n",
    "\n",
    "plt.ylabel(r'$\\%$Predatory adults (Eu)', fontsize=25)\n",
    "plt.xlabel('Generation', fontsize=25)\n",
    "plt.xticks(fontsize=25)\n",
    "plt.yticks(fontsize=25)\n",
    "\n",
    "ax.set(ylabel=r'$\\%$Predatory adults (Eu)', xlabel='Generations', ylim=(-0.05, 1.05), xlim=(-0.5, 8), xticklabels=[0,1,2,3,'R1', 'R2', 'R3','R4'], yticks=np.linspace(0,1,5), yticklabels=[0, 0.25, 0.5, 0.75, 1]);\n",
    "\n",
    "col = 'moccasin'\n",
    "x = np.linspace(-0.5, 8)\n",
    "ax.fill_between(x, [0.1111 for i in x], [0.438 for i in x], color=col, alpha=1, edgecolor=col, zorder=1)\n",
    "\n",
    "plt.savefig('miR_F3Rev.pdf',  bbox_inches='tight',\n",
    "           dpi=600, transparent=True)"
   ]
  },
  {
   "cell_type": "code",
   "execution_count": 7,
   "id": "a824c598",
   "metadata": {},
   "outputs": [],
   "source": [
    "WT_F5= pd.read_csv('./WT_F5Rev.csv', sep=';', index_col=0)\n",
    "WT_F5_reformatted = pd.DataFrame()\n",
    "for i in range(12):\n",
    "    obs = np.array(WT_F5.iloc[:,i])/20.\n",
    "    temp = pd.DataFrame.from_dict({'id': np.arange(0, len(obs), 1), 'Generation': [i+1 for j in range(len(obs))], 'Eu': list(obs),'Grp': 'miR0'})\n",
    "    WT_F5_reformatted = pd.concat([WT_F5_reformatted, temp])"
   ]
  },
  {
   "cell_type": "code",
   "execution_count": 8,
   "id": "4108ea4c",
   "metadata": {},
   "outputs": [],
   "source": [
    "def calculate_stat(eu_obs, tot):\n",
    "    G_samples = eu_obs\n",
    "    N_samples = [tot for i in range(len(G_samples))]\n",
    "    n_sets = len(G_samples)\n",
    "    group_idx = np.repeat(np.arange(len(N_samples)), N_samples)\n",
    "    data = []\n",
    "     # parameters of hyperprior ω\n",
    "    a=5 \n",
    "    b=1 ###1.2\n",
    "    for i in range(0, len(N_samples)):\n",
    "        data.extend(np.repeat([1, 0], [G_samples[i], N_samples[i]-G_samples[i]]))\n",
    "    with pm.Model() as model:\n",
    "        ω = pm.Beta('ω', a, b)\n",
    "        κ = pm.Gamma('κ', 3, 1)\n",
    "        θ = pm.Beta('θ', alpha=ω*(κ-2)+1, beta=(1-ω)*(κ-2)+1, shape=n_sets)\n",
    "        y = pm.Bernoulli('y', p=θ[group_idx], observed=data)\n",
    "        trace = pm.sample(tune=1000, draws=10000, target_accept=0.95, random_seed=RANDOM_SEED, return_inferencedata=True)\n",
    "        stat_result = az.summary(trace, round_to=3, hdi_prob=0.95)\n",
    "    return stat_result, trace"
   ]
  },
  {
   "cell_type": "code",
   "execution_count": null,
   "id": "83175d57",
   "metadata": {},
   "outputs": [],
   "source": []
  },
  {
   "cell_type": "code",
   "execution_count": 15,
   "id": "2e31adbd",
   "metadata": {},
   "outputs": [],
   "source": [
    "WT_F5N = WT_F5[['F1','F2','F3','F4','F5']]\n",
    "WT_F5N_reformatted = pd.DataFrame()\n",
    "for i in range(5):\n",
    "    obs = np.array(WT_F5N.iloc[:,i])/20.\n",
    "    temp = pd.DataFrame.from_dict({'id': np.arange(0, len(obs), 1), 'Generation': [i+1 for j in range(len(obs))], 'Eu': list(obs),'Grp': 'miR0'})\n",
    "    WT_F5N_reformatted = pd.concat([WT_F5N_reformatted, temp])"
   ]
  },
  {
   "cell_type": "code",
   "execution_count": 16,
   "id": "db1f1830",
   "metadata": {
    "scrolled": true
   },
   "outputs": [
    {
     "name": "stderr",
     "output_type": "stream",
     "text": [
      "Auto-assigning NUTS sampler...\n",
      "Initializing NUTS using jitter+adapt_diag...\n",
      "Multiprocess sampling (4 chains in 4 jobs)\n",
      "NUTS: [θ, κ, ω]\n"
     ]
    },
    {
     "data": {
      "text/html": [
       "\n",
       "<style>\n",
       "    /* Turns off some styling */\n",
       "    progress {\n",
       "        /* gets rid of default border in Firefox and Opera. */\n",
       "        border: none;\n",
       "        /* Needs to be in here for Safari polyfill so background images work as expected. */\n",
       "        background-size: auto;\n",
       "    }\n",
       "    progress:not([value]), progress:not([value])::-webkit-progress-bar {\n",
       "        background: repeating-linear-gradient(45deg, #7e7e7e, #7e7e7e 10px, #5c5c5c 10px, #5c5c5c 20px);\n",
       "    }\n",
       "    .progress-bar-interrupted, .progress-bar-interrupted::-webkit-progress-bar {\n",
       "        background: #F44336;\n",
       "    }\n",
       "</style>\n"
      ],
      "text/plain": [
       "<IPython.core.display.HTML object>"
      ]
     },
     "metadata": {},
     "output_type": "display_data"
    },
    {
     "data": {
      "text/html": [
       "\n",
       "    <div>\n",
       "      <progress value='44000' class='' max='44000' style='width:300px; height:20px; vertical-align: middle;'></progress>\n",
       "      100.00% [44000/44000 00:24&lt;00:00 Sampling 4 chains, 0 divergences]\n",
       "    </div>\n",
       "    "
      ],
      "text/plain": [
       "<IPython.core.display.HTML object>"
      ]
     },
     "metadata": {},
     "output_type": "display_data"
    },
    {
     "name": "stderr",
     "output_type": "stream",
     "text": [
      "Sampling 4 chains for 1_000 tune and 10_000 draw iterations (4_000 + 40_000 draws total) took 55 seconds.\n",
      "Auto-assigning NUTS sampler...\n",
      "Initializing NUTS using jitter+adapt_diag...\n",
      "Multiprocess sampling (4 chains in 4 jobs)\n",
      "NUTS: [θ, κ, ω]\n"
     ]
    },
    {
     "data": {
      "text/html": [
       "\n",
       "<style>\n",
       "    /* Turns off some styling */\n",
       "    progress {\n",
       "        /* gets rid of default border in Firefox and Opera. */\n",
       "        border: none;\n",
       "        /* Needs to be in here for Safari polyfill so background images work as expected. */\n",
       "        background-size: auto;\n",
       "    }\n",
       "    progress:not([value]), progress:not([value])::-webkit-progress-bar {\n",
       "        background: repeating-linear-gradient(45deg, #7e7e7e, #7e7e7e 10px, #5c5c5c 10px, #5c5c5c 20px);\n",
       "    }\n",
       "    .progress-bar-interrupted, .progress-bar-interrupted::-webkit-progress-bar {\n",
       "        background: #F44336;\n",
       "    }\n",
       "</style>\n"
      ],
      "text/plain": [
       "<IPython.core.display.HTML object>"
      ]
     },
     "metadata": {},
     "output_type": "display_data"
    },
    {
     "data": {
      "text/html": [
       "\n",
       "    <div>\n",
       "      <progress value='44000' class='' max='44000' style='width:300px; height:20px; vertical-align: middle;'></progress>\n",
       "      100.00% [44000/44000 00:24&lt;00:00 Sampling 4 chains, 0 divergences]\n",
       "    </div>\n",
       "    "
      ],
      "text/plain": [
       "<IPython.core.display.HTML object>"
      ]
     },
     "metadata": {},
     "output_type": "display_data"
    },
    {
     "name": "stderr",
     "output_type": "stream",
     "text": [
      "Sampling 4 chains for 1_000 tune and 10_000 draw iterations (4_000 + 40_000 draws total) took 55 seconds.\n",
      "Auto-assigning NUTS sampler...\n",
      "Initializing NUTS using jitter+adapt_diag...\n",
      "Multiprocess sampling (4 chains in 4 jobs)\n",
      "NUTS: [θ, κ, ω]\n"
     ]
    },
    {
     "data": {
      "text/html": [
       "\n",
       "<style>\n",
       "    /* Turns off some styling */\n",
       "    progress {\n",
       "        /* gets rid of default border in Firefox and Opera. */\n",
       "        border: none;\n",
       "        /* Needs to be in here for Safari polyfill so background images work as expected. */\n",
       "        background-size: auto;\n",
       "    }\n",
       "    progress:not([value]), progress:not([value])::-webkit-progress-bar {\n",
       "        background: repeating-linear-gradient(45deg, #7e7e7e, #7e7e7e 10px, #5c5c5c 10px, #5c5c5c 20px);\n",
       "    }\n",
       "    .progress-bar-interrupted, .progress-bar-interrupted::-webkit-progress-bar {\n",
       "        background: #F44336;\n",
       "    }\n",
       "</style>\n"
      ],
      "text/plain": [
       "<IPython.core.display.HTML object>"
      ]
     },
     "metadata": {},
     "output_type": "display_data"
    },
    {
     "data": {
      "text/html": [
       "\n",
       "    <div>\n",
       "      <progress value='44000' class='' max='44000' style='width:300px; height:20px; vertical-align: middle;'></progress>\n",
       "      100.00% [44000/44000 00:26&lt;00:00 Sampling 4 chains, 0 divergences]\n",
       "    </div>\n",
       "    "
      ],
      "text/plain": [
       "<IPython.core.display.HTML object>"
      ]
     },
     "metadata": {},
     "output_type": "display_data"
    },
    {
     "name": "stderr",
     "output_type": "stream",
     "text": [
      "Sampling 4 chains for 1_000 tune and 10_000 draw iterations (4_000 + 40_000 draws total) took 58 seconds.\n",
      "Auto-assigning NUTS sampler...\n",
      "Initializing NUTS using jitter+adapt_diag...\n",
      "Multiprocess sampling (4 chains in 4 jobs)\n",
      "NUTS: [θ, κ, ω]\n"
     ]
    },
    {
     "data": {
      "text/html": [
       "\n",
       "<style>\n",
       "    /* Turns off some styling */\n",
       "    progress {\n",
       "        /* gets rid of default border in Firefox and Opera. */\n",
       "        border: none;\n",
       "        /* Needs to be in here for Safari polyfill so background images work as expected. */\n",
       "        background-size: auto;\n",
       "    }\n",
       "    progress:not([value]), progress:not([value])::-webkit-progress-bar {\n",
       "        background: repeating-linear-gradient(45deg, #7e7e7e, #7e7e7e 10px, #5c5c5c 10px, #5c5c5c 20px);\n",
       "    }\n",
       "    .progress-bar-interrupted, .progress-bar-interrupted::-webkit-progress-bar {\n",
       "        background: #F44336;\n",
       "    }\n",
       "</style>\n"
      ],
      "text/plain": [
       "<IPython.core.display.HTML object>"
      ]
     },
     "metadata": {},
     "output_type": "display_data"
    },
    {
     "data": {
      "text/html": [
       "\n",
       "    <div>\n",
       "      <progress value='44000' class='' max='44000' style='width:300px; height:20px; vertical-align: middle;'></progress>\n",
       "      100.00% [44000/44000 00:29&lt;00:00 Sampling 4 chains, 0 divergences]\n",
       "    </div>\n",
       "    "
      ],
      "text/plain": [
       "<IPython.core.display.HTML object>"
      ]
     },
     "metadata": {},
     "output_type": "display_data"
    },
    {
     "name": "stderr",
     "output_type": "stream",
     "text": [
      "Sampling 4 chains for 1_000 tune and 10_000 draw iterations (4_000 + 40_000 draws total) took 61 seconds.\n",
      "Auto-assigning NUTS sampler...\n",
      "Initializing NUTS using jitter+adapt_diag...\n",
      "Multiprocess sampling (4 chains in 4 jobs)\n",
      "NUTS: [θ, κ, ω]\n"
     ]
    },
    {
     "data": {
      "text/html": [
       "\n",
       "<style>\n",
       "    /* Turns off some styling */\n",
       "    progress {\n",
       "        /* gets rid of default border in Firefox and Opera. */\n",
       "        border: none;\n",
       "        /* Needs to be in here for Safari polyfill so background images work as expected. */\n",
       "        background-size: auto;\n",
       "    }\n",
       "    progress:not([value]), progress:not([value])::-webkit-progress-bar {\n",
       "        background: repeating-linear-gradient(45deg, #7e7e7e, #7e7e7e 10px, #5c5c5c 10px, #5c5c5c 20px);\n",
       "    }\n",
       "    .progress-bar-interrupted, .progress-bar-interrupted::-webkit-progress-bar {\n",
       "        background: #F44336;\n",
       "    }\n",
       "</style>\n"
      ],
      "text/plain": [
       "<IPython.core.display.HTML object>"
      ]
     },
     "metadata": {},
     "output_type": "display_data"
    },
    {
     "data": {
      "text/html": [
       "\n",
       "    <div>\n",
       "      <progress value='44000' class='' max='44000' style='width:300px; height:20px; vertical-align: middle;'></progress>\n",
       "      100.00% [44000/44000 00:29&lt;00:00 Sampling 4 chains, 0 divergences]\n",
       "    </div>\n",
       "    "
      ],
      "text/plain": [
       "<IPython.core.display.HTML object>"
      ]
     },
     "metadata": {},
     "output_type": "display_data"
    },
    {
     "name": "stderr",
     "output_type": "stream",
     "text": [
      "Sampling 4 chains for 1_000 tune and 10_000 draw iterations (4_000 + 40_000 draws total) took 60 seconds.\n",
      "Auto-assigning NUTS sampler...\n",
      "Initializing NUTS using jitter+adapt_diag...\n",
      "Multiprocess sampling (4 chains in 4 jobs)\n",
      "NUTS: [θ, κ, ω]\n"
     ]
    },
    {
     "data": {
      "text/html": [
       "\n",
       "<style>\n",
       "    /* Turns off some styling */\n",
       "    progress {\n",
       "        /* gets rid of default border in Firefox and Opera. */\n",
       "        border: none;\n",
       "        /* Needs to be in here for Safari polyfill so background images work as expected. */\n",
       "        background-size: auto;\n",
       "    }\n",
       "    progress:not([value]), progress:not([value])::-webkit-progress-bar {\n",
       "        background: repeating-linear-gradient(45deg, #7e7e7e, #7e7e7e 10px, #5c5c5c 10px, #5c5c5c 20px);\n",
       "    }\n",
       "    .progress-bar-interrupted, .progress-bar-interrupted::-webkit-progress-bar {\n",
       "        background: #F44336;\n",
       "    }\n",
       "</style>\n"
      ],
      "text/plain": [
       "<IPython.core.display.HTML object>"
      ]
     },
     "metadata": {},
     "output_type": "display_data"
    },
    {
     "data": {
      "text/html": [
       "\n",
       "    <div>\n",
       "      <progress value='44000' class='' max='44000' style='width:300px; height:20px; vertical-align: middle;'></progress>\n",
       "      100.00% [44000/44000 00:25&lt;00:00 Sampling 4 chains, 0 divergences]\n",
       "    </div>\n",
       "    "
      ],
      "text/plain": [
       "<IPython.core.display.HTML object>"
      ]
     },
     "metadata": {},
     "output_type": "display_data"
    },
    {
     "name": "stderr",
     "output_type": "stream",
     "text": [
      "Sampling 4 chains for 1_000 tune and 10_000 draw iterations (4_000 + 40_000 draws total) took 58 seconds.\n"
     ]
    }
   ],
   "source": [
    "WT_F5Rev = WT_F5[['R1','R2','R3','R4','R5','R6']]\n",
    "WT_F5Rev_res = dict()\n",
    "for tmp_gen in range(6):\n",
    "    tmp_data = WT_F5Rev.iloc[:,tmp_gen]\n",
    "    tmp_data_no0 = tmp_data[tmp_data!=0]\n",
    "    WT_F5Rev_res[tmp_gen] = calculate_stat(tmp_data_no0.tolist(), tot=20)"
   ]
  },
  {
   "cell_type": "code",
   "execution_count": 252,
   "id": "b7978a11",
   "metadata": {},
   "outputs": [
    {
     "data": {
      "text/html": [
       "<div>\n",
       "<style scoped>\n",
       "    .dataframe tbody tr th:only-of-type {\n",
       "        vertical-align: middle;\n",
       "    }\n",
       "\n",
       "    .dataframe tbody tr th {\n",
       "        vertical-align: top;\n",
       "    }\n",
       "\n",
       "    .dataframe thead th {\n",
       "        text-align: right;\n",
       "    }\n",
       "</style>\n",
       "<table border=\"1\" class=\"dataframe\">\n",
       "  <thead>\n",
       "    <tr style=\"text-align: right;\">\n",
       "      <th></th>\n",
       "      <th>mean</th>\n",
       "      <th>sd</th>\n",
       "      <th>hdi_2.5%</th>\n",
       "      <th>hdi_97.5%</th>\n",
       "      <th>mcse_mean</th>\n",
       "      <th>mcse_sd</th>\n",
       "      <th>ess_bulk</th>\n",
       "      <th>ess_tail</th>\n",
       "      <th>r_hat</th>\n",
       "    </tr>\n",
       "  </thead>\n",
       "  <tbody>\n",
       "    <tr>\n",
       "      <th>ω</th>\n",
       "      <td>0.70</td>\n",
       "      <td>0.12</td>\n",
       "      <td>0.51</td>\n",
       "      <td>0.98</td>\n",
       "      <td>0.00</td>\n",
       "      <td>0.00</td>\n",
       "      <td>22940.54</td>\n",
       "      <td>12627.75</td>\n",
       "      <td>1.0</td>\n",
       "    </tr>\n",
       "    <tr>\n",
       "      <th>κ</th>\n",
       "      <td>5.66</td>\n",
       "      <td>2.25</td>\n",
       "      <td>2.01</td>\n",
       "      <td>10.00</td>\n",
       "      <td>0.01</td>\n",
       "      <td>0.01</td>\n",
       "      <td>26392.77</td>\n",
       "      <td>29515.52</td>\n",
       "      <td>1.0</td>\n",
       "    </tr>\n",
       "    <tr>\n",
       "      <th>θ[0]</th>\n",
       "      <td>0.60</td>\n",
       "      <td>0.10</td>\n",
       "      <td>0.41</td>\n",
       "      <td>0.78</td>\n",
       "      <td>0.00</td>\n",
       "      <td>0.00</td>\n",
       "      <td>59198.60</td>\n",
       "      <td>29359.99</td>\n",
       "      <td>1.0</td>\n",
       "    </tr>\n",
       "    <tr>\n",
       "      <th>θ[1]</th>\n",
       "      <td>0.60</td>\n",
       "      <td>0.10</td>\n",
       "      <td>0.42</td>\n",
       "      <td>0.79</td>\n",
       "      <td>0.00</td>\n",
       "      <td>0.00</td>\n",
       "      <td>49073.02</td>\n",
       "      <td>28223.71</td>\n",
       "      <td>1.0</td>\n",
       "    </tr>\n",
       "    <tr>\n",
       "      <th>θ[2]</th>\n",
       "      <td>0.56</td>\n",
       "      <td>0.10</td>\n",
       "      <td>0.37</td>\n",
       "      <td>0.75</td>\n",
       "      <td>0.00</td>\n",
       "      <td>0.00</td>\n",
       "      <td>58236.82</td>\n",
       "      <td>28454.52</td>\n",
       "      <td>1.0</td>\n",
       "    </tr>\n",
       "    <tr>\n",
       "      <th>θ[3]</th>\n",
       "      <td>0.60</td>\n",
       "      <td>0.10</td>\n",
       "      <td>0.42</td>\n",
       "      <td>0.78</td>\n",
       "      <td>0.00</td>\n",
       "      <td>0.00</td>\n",
       "      <td>56387.33</td>\n",
       "      <td>29642.46</td>\n",
       "      <td>1.0</td>\n",
       "    </tr>\n",
       "    <tr>\n",
       "      <th>θ[4]</th>\n",
       "      <td>0.52</td>\n",
       "      <td>0.10</td>\n",
       "      <td>0.33</td>\n",
       "      <td>0.72</td>\n",
       "      <td>0.00</td>\n",
       "      <td>0.00</td>\n",
       "      <td>53817.69</td>\n",
       "      <td>28521.33</td>\n",
       "      <td>1.0</td>\n",
       "    </tr>\n",
       "    <tr>\n",
       "      <th>θ[5]</th>\n",
       "      <td>0.52</td>\n",
       "      <td>0.10</td>\n",
       "      <td>0.34</td>\n",
       "      <td>0.71</td>\n",
       "      <td>0.00</td>\n",
       "      <td>0.00</td>\n",
       "      <td>58253.24</td>\n",
       "      <td>28153.41</td>\n",
       "      <td>1.0</td>\n",
       "    </tr>\n",
       "    <tr>\n",
       "      <th>θ[6]</th>\n",
       "      <td>0.72</td>\n",
       "      <td>0.09</td>\n",
       "      <td>0.54</td>\n",
       "      <td>0.88</td>\n",
       "      <td>0.00</td>\n",
       "      <td>0.00</td>\n",
       "      <td>52613.58</td>\n",
       "      <td>27079.40</td>\n",
       "      <td>1.0</td>\n",
       "    </tr>\n",
       "    <tr>\n",
       "      <th>θ[7]</th>\n",
       "      <td>0.56</td>\n",
       "      <td>0.10</td>\n",
       "      <td>0.38</td>\n",
       "      <td>0.76</td>\n",
       "      <td>0.00</td>\n",
       "      <td>0.00</td>\n",
       "      <td>54837.34</td>\n",
       "      <td>29728.50</td>\n",
       "      <td>1.0</td>\n",
       "    </tr>\n",
       "    <tr>\n",
       "      <th>θ[8]</th>\n",
       "      <td>0.60</td>\n",
       "      <td>0.10</td>\n",
       "      <td>0.42</td>\n",
       "      <td>0.79</td>\n",
       "      <td>0.00</td>\n",
       "      <td>0.00</td>\n",
       "      <td>51575.38</td>\n",
       "      <td>27529.59</td>\n",
       "      <td>1.0</td>\n",
       "    </tr>\n",
       "    <tr>\n",
       "      <th>θ[9]</th>\n",
       "      <td>0.64</td>\n",
       "      <td>0.09</td>\n",
       "      <td>0.46</td>\n",
       "      <td>0.82</td>\n",
       "      <td>0.00</td>\n",
       "      <td>0.00</td>\n",
       "      <td>57063.62</td>\n",
       "      <td>27942.71</td>\n",
       "      <td>1.0</td>\n",
       "    </tr>\n",
       "  </tbody>\n",
       "</table>\n",
       "</div>"
      ],
      "text/plain": [
       "      mean    sd  hdi_2.5%  hdi_97.5%  mcse_mean  mcse_sd  ess_bulk  ess_tail  \\\n",
       "ω     0.70  0.12      0.51       0.98       0.00     0.00  22940.54  12627.75   \n",
       "κ     5.66  2.25      2.01      10.00       0.01     0.01  26392.77  29515.52   \n",
       "θ[0]  0.60  0.10      0.41       0.78       0.00     0.00  59198.60  29359.99   \n",
       "θ[1]  0.60  0.10      0.42       0.79       0.00     0.00  49073.02  28223.71   \n",
       "θ[2]  0.56  0.10      0.37       0.75       0.00     0.00  58236.82  28454.52   \n",
       "θ[3]  0.60  0.10      0.42       0.78       0.00     0.00  56387.33  29642.46   \n",
       "θ[4]  0.52  0.10      0.33       0.72       0.00     0.00  53817.69  28521.33   \n",
       "θ[5]  0.52  0.10      0.34       0.71       0.00     0.00  58253.24  28153.41   \n",
       "θ[6]  0.72  0.09      0.54       0.88       0.00     0.00  52613.58  27079.40   \n",
       "θ[7]  0.56  0.10      0.38       0.76       0.00     0.00  54837.34  29728.50   \n",
       "θ[8]  0.60  0.10      0.42       0.79       0.00     0.00  51575.38  27529.59   \n",
       "θ[9]  0.64  0.09      0.46       0.82       0.00     0.00  57063.62  27942.71   \n",
       "\n",
       "      r_hat  \n",
       "ω       1.0  \n",
       "κ       1.0  \n",
       "θ[0]    1.0  \n",
       "θ[1]    1.0  \n",
       "θ[2]    1.0  \n",
       "θ[3]    1.0  \n",
       "θ[4]    1.0  \n",
       "θ[5]    1.0  \n",
       "θ[6]    1.0  \n",
       "θ[7]    1.0  \n",
       "θ[8]    1.0  \n",
       "θ[9]    1.0  "
      ]
     },
     "execution_count": 252,
     "metadata": {},
     "output_type": "execute_result"
    }
   ],
   "source": [
    "mir0_F1R_HDI=az.summary(WT_F5Rev_res[3][1], round_to=2, hdi_prob=0.95)\n",
    "mir0_F1R_HDI"
   ]
  },
  {
   "cell_type": "code",
   "execution_count": 254,
   "id": "748db61b",
   "metadata": {},
   "outputs": [
    {
     "data": {
      "text/plain": [
       "hdi_2.5%    0.409\n",
       "dtype: float64"
      ]
     },
     "execution_count": 254,
     "metadata": {},
     "output_type": "execute_result"
    }
   ],
   "source": [
    "mir0_F1R_HDI.iloc[2:12,[2]].mean()"
   ]
  },
  {
   "cell_type": "code",
   "execution_count": 17,
   "id": "57fd5078",
   "metadata": {},
   "outputs": [],
   "source": [
    "mir2_F5= pd.read_csv('./tuDf9_F5Rev.csv', sep=';', index_col=0)\n",
    "mir2_F5_reformatted = pd.DataFrame()\n",
    "for i in range(12):\n",
    "    obs = np.array(mir2_F5.iloc[:,i])/20.\n",
    "    temp = pd.DataFrame.from_dict({'id': np.arange(0, len(obs), 1), 'Generation': [i+0.15 for j in range(len(obs))], 'Eu': list(obs),'Grp': 'miR0'})\n",
    "    mir2_F5_reformatted = pd.concat([mir2_F5_reformatted, temp])"
   ]
  },
  {
   "cell_type": "code",
   "execution_count": 18,
   "id": "0dda3fb9",
   "metadata": {},
   "outputs": [],
   "source": [
    "mir2_F5N = mir2_F5[['F1','F2','F3','F4','F5']]\n",
    "mir2_F5N_reformatted = pd.DataFrame()\n",
    "for i in range(5):\n",
    "    obs = np.array(mir2_F5N.iloc[:,i])/20.\n",
    "    temp = pd.DataFrame.from_dict({'id': np.arange(0, len(obs), 1), 'Generation': [i+1.15 for j in range(len(obs))], 'Eu': list(obs),'Grp': 'miR0'})\n",
    "    mir2_F5N_reformatted = pd.concat([mir2_F5N_reformatted, temp])"
   ]
  },
  {
   "cell_type": "code",
   "execution_count": 19,
   "id": "2a35133a",
   "metadata": {},
   "outputs": [],
   "source": [
    "def calculate_stat(eu_obs, tot):\n",
    "    G_samples = eu_obs\n",
    "    N_samples = [tot for i in range(len(G_samples))]\n",
    "    n_sets = len(G_samples)\n",
    "    group_idx = np.repeat(np.arange(len(N_samples)), N_samples)\n",
    "    data = []\n",
    "     # parameters of hyperprior ω\n",
    "    a=5 \n",
    "    b=1.2 ###1.2\n",
    "    for i in range(0, len(N_samples)):\n",
    "        data.extend(np.repeat([1, 0], [G_samples[i], N_samples[i]-G_samples[i]]))\n",
    "    with pm.Model() as model:\n",
    "        ω = pm.Beta('ω', a, b)\n",
    "        κ = pm.Gamma('κ', 3, 1)\n",
    "        θ = pm.Beta('θ', alpha=ω*(κ-2)+1, beta=(1-ω)*(κ-2)+1, shape=n_sets)\n",
    "        y = pm.Bernoulli('y', p=θ[group_idx], observed=data)\n",
    "        trace = pm.sample(tune=1000, draws=10000, target_accept=0.95, random_seed=RANDOM_SEED, return_inferencedata=True)\n",
    "        stat_result = az.summary(trace, round_to=3, hdi_prob=0.95)\n",
    "    return stat_result, trace"
   ]
  },
  {
   "cell_type": "code",
   "execution_count": 21,
   "id": "3aa9d93e",
   "metadata": {},
   "outputs": [
    {
     "name": "stderr",
     "output_type": "stream",
     "text": [
      "Auto-assigning NUTS sampler...\n",
      "Initializing NUTS using jitter+adapt_diag...\n",
      "Multiprocess sampling (4 chains in 4 jobs)\n",
      "NUTS: [θ, κ, ω]\n"
     ]
    },
    {
     "data": {
      "text/html": [
       "\n",
       "<style>\n",
       "    /* Turns off some styling */\n",
       "    progress {\n",
       "        /* gets rid of default border in Firefox and Opera. */\n",
       "        border: none;\n",
       "        /* Needs to be in here for Safari polyfill so background images work as expected. */\n",
       "        background-size: auto;\n",
       "    }\n",
       "    progress:not([value]), progress:not([value])::-webkit-progress-bar {\n",
       "        background: repeating-linear-gradient(45deg, #7e7e7e, #7e7e7e 10px, #5c5c5c 10px, #5c5c5c 20px);\n",
       "    }\n",
       "    .progress-bar-interrupted, .progress-bar-interrupted::-webkit-progress-bar {\n",
       "        background: #F44336;\n",
       "    }\n",
       "</style>\n"
      ],
      "text/plain": [
       "<IPython.core.display.HTML object>"
      ]
     },
     "metadata": {},
     "output_type": "display_data"
    },
    {
     "data": {
      "text/html": [
       "\n",
       "    <div>\n",
       "      <progress value='44000' class='' max='44000' style='width:300px; height:20px; vertical-align: middle;'></progress>\n",
       "      100.00% [44000/44000 00:24&lt;00:00 Sampling 4 chains, 0 divergences]\n",
       "    </div>\n",
       "    "
      ],
      "text/plain": [
       "<IPython.core.display.HTML object>"
      ]
     },
     "metadata": {},
     "output_type": "display_data"
    },
    {
     "name": "stderr",
     "output_type": "stream",
     "text": [
      "Sampling 4 chains for 1_000 tune and 10_000 draw iterations (4_000 + 40_000 draws total) took 54 seconds.\n",
      "Auto-assigning NUTS sampler...\n",
      "Initializing NUTS using jitter+adapt_diag...\n",
      "Multiprocess sampling (4 chains in 4 jobs)\n",
      "NUTS: [θ, κ, ω]\n"
     ]
    },
    {
     "data": {
      "text/html": [
       "\n",
       "<style>\n",
       "    /* Turns off some styling */\n",
       "    progress {\n",
       "        /* gets rid of default border in Firefox and Opera. */\n",
       "        border: none;\n",
       "        /* Needs to be in here for Safari polyfill so background images work as expected. */\n",
       "        background-size: auto;\n",
       "    }\n",
       "    progress:not([value]), progress:not([value])::-webkit-progress-bar {\n",
       "        background: repeating-linear-gradient(45deg, #7e7e7e, #7e7e7e 10px, #5c5c5c 10px, #5c5c5c 20px);\n",
       "    }\n",
       "    .progress-bar-interrupted, .progress-bar-interrupted::-webkit-progress-bar {\n",
       "        background: #F44336;\n",
       "    }\n",
       "</style>\n"
      ],
      "text/plain": [
       "<IPython.core.display.HTML object>"
      ]
     },
     "metadata": {},
     "output_type": "display_data"
    },
    {
     "data": {
      "text/html": [
       "\n",
       "    <div>\n",
       "      <progress value='44000' class='' max='44000' style='width:300px; height:20px; vertical-align: middle;'></progress>\n",
       "      100.00% [44000/44000 00:24&lt;00:00 Sampling 4 chains, 0 divergences]\n",
       "    </div>\n",
       "    "
      ],
      "text/plain": [
       "<IPython.core.display.HTML object>"
      ]
     },
     "metadata": {},
     "output_type": "display_data"
    },
    {
     "name": "stderr",
     "output_type": "stream",
     "text": [
      "Sampling 4 chains for 1_000 tune and 10_000 draw iterations (4_000 + 40_000 draws total) took 55 seconds.\n",
      "Auto-assigning NUTS sampler...\n",
      "Initializing NUTS using jitter+adapt_diag...\n",
      "Multiprocess sampling (4 chains in 4 jobs)\n",
      "NUTS: [θ, κ, ω]\n"
     ]
    },
    {
     "data": {
      "text/html": [
       "\n",
       "<style>\n",
       "    /* Turns off some styling */\n",
       "    progress {\n",
       "        /* gets rid of default border in Firefox and Opera. */\n",
       "        border: none;\n",
       "        /* Needs to be in here for Safari polyfill so background images work as expected. */\n",
       "        background-size: auto;\n",
       "    }\n",
       "    progress:not([value]), progress:not([value])::-webkit-progress-bar {\n",
       "        background: repeating-linear-gradient(45deg, #7e7e7e, #7e7e7e 10px, #5c5c5c 10px, #5c5c5c 20px);\n",
       "    }\n",
       "    .progress-bar-interrupted, .progress-bar-interrupted::-webkit-progress-bar {\n",
       "        background: #F44336;\n",
       "    }\n",
       "</style>\n"
      ],
      "text/plain": [
       "<IPython.core.display.HTML object>"
      ]
     },
     "metadata": {},
     "output_type": "display_data"
    },
    {
     "data": {
      "text/html": [
       "\n",
       "    <div>\n",
       "      <progress value='44000' class='' max='44000' style='width:300px; height:20px; vertical-align: middle;'></progress>\n",
       "      100.00% [44000/44000 00:23&lt;00:00 Sampling 4 chains, 0 divergences]\n",
       "    </div>\n",
       "    "
      ],
      "text/plain": [
       "<IPython.core.display.HTML object>"
      ]
     },
     "metadata": {},
     "output_type": "display_data"
    },
    {
     "name": "stderr",
     "output_type": "stream",
     "text": [
      "Sampling 4 chains for 1_000 tune and 10_000 draw iterations (4_000 + 40_000 draws total) took 53 seconds.\n",
      "Auto-assigning NUTS sampler...\n",
      "Initializing NUTS using jitter+adapt_diag...\n",
      "Multiprocess sampling (4 chains in 4 jobs)\n",
      "NUTS: [θ, κ, ω]\n"
     ]
    },
    {
     "data": {
      "text/html": [
       "\n",
       "<style>\n",
       "    /* Turns off some styling */\n",
       "    progress {\n",
       "        /* gets rid of default border in Firefox and Opera. */\n",
       "        border: none;\n",
       "        /* Needs to be in here for Safari polyfill so background images work as expected. */\n",
       "        background-size: auto;\n",
       "    }\n",
       "    progress:not([value]), progress:not([value])::-webkit-progress-bar {\n",
       "        background: repeating-linear-gradient(45deg, #7e7e7e, #7e7e7e 10px, #5c5c5c 10px, #5c5c5c 20px);\n",
       "    }\n",
       "    .progress-bar-interrupted, .progress-bar-interrupted::-webkit-progress-bar {\n",
       "        background: #F44336;\n",
       "    }\n",
       "</style>\n"
      ],
      "text/plain": [
       "<IPython.core.display.HTML object>"
      ]
     },
     "metadata": {},
     "output_type": "display_data"
    },
    {
     "data": {
      "text/html": [
       "\n",
       "    <div>\n",
       "      <progress value='44000' class='' max='44000' style='width:300px; height:20px; vertical-align: middle;'></progress>\n",
       "      100.00% [44000/44000 00:20&lt;00:00 Sampling 4 chains, 0 divergences]\n",
       "    </div>\n",
       "    "
      ],
      "text/plain": [
       "<IPython.core.display.HTML object>"
      ]
     },
     "metadata": {},
     "output_type": "display_data"
    },
    {
     "name": "stderr",
     "output_type": "stream",
     "text": [
      "Sampling 4 chains for 1_000 tune and 10_000 draw iterations (4_000 + 40_000 draws total) took 51 seconds.\n",
      "Auto-assigning NUTS sampler...\n",
      "Initializing NUTS using jitter+adapt_diag...\n",
      "Multiprocess sampling (4 chains in 4 jobs)\n",
      "NUTS: [θ, κ, ω]\n"
     ]
    },
    {
     "data": {
      "text/html": [
       "\n",
       "<style>\n",
       "    /* Turns off some styling */\n",
       "    progress {\n",
       "        /* gets rid of default border in Firefox and Opera. */\n",
       "        border: none;\n",
       "        /* Needs to be in here for Safari polyfill so background images work as expected. */\n",
       "        background-size: auto;\n",
       "    }\n",
       "    progress:not([value]), progress:not([value])::-webkit-progress-bar {\n",
       "        background: repeating-linear-gradient(45deg, #7e7e7e, #7e7e7e 10px, #5c5c5c 10px, #5c5c5c 20px);\n",
       "    }\n",
       "    .progress-bar-interrupted, .progress-bar-interrupted::-webkit-progress-bar {\n",
       "        background: #F44336;\n",
       "    }\n",
       "</style>\n"
      ],
      "text/plain": [
       "<IPython.core.display.HTML object>"
      ]
     },
     "metadata": {},
     "output_type": "display_data"
    },
    {
     "data": {
      "text/html": [
       "\n",
       "    <div>\n",
       "      <progress value='44000' class='' max='44000' style='width:300px; height:20px; vertical-align: middle;'></progress>\n",
       "      100.00% [44000/44000 00:22&lt;00:00 Sampling 4 chains, 0 divergences]\n",
       "    </div>\n",
       "    "
      ],
      "text/plain": [
       "<IPython.core.display.HTML object>"
      ]
     },
     "metadata": {},
     "output_type": "display_data"
    },
    {
     "name": "stderr",
     "output_type": "stream",
     "text": [
      "Sampling 4 chains for 1_000 tune and 10_000 draw iterations (4_000 + 40_000 draws total) took 52 seconds.\n",
      "Auto-assigning NUTS sampler...\n",
      "Initializing NUTS using jitter+adapt_diag...\n",
      "Multiprocess sampling (4 chains in 4 jobs)\n",
      "NUTS: [θ, κ, ω]\n"
     ]
    },
    {
     "data": {
      "text/html": [
       "\n",
       "<style>\n",
       "    /* Turns off some styling */\n",
       "    progress {\n",
       "        /* gets rid of default border in Firefox and Opera. */\n",
       "        border: none;\n",
       "        /* Needs to be in here for Safari polyfill so background images work as expected. */\n",
       "        background-size: auto;\n",
       "    }\n",
       "    progress:not([value]), progress:not([value])::-webkit-progress-bar {\n",
       "        background: repeating-linear-gradient(45deg, #7e7e7e, #7e7e7e 10px, #5c5c5c 10px, #5c5c5c 20px);\n",
       "    }\n",
       "    .progress-bar-interrupted, .progress-bar-interrupted::-webkit-progress-bar {\n",
       "        background: #F44336;\n",
       "    }\n",
       "</style>\n"
      ],
      "text/plain": [
       "<IPython.core.display.HTML object>"
      ]
     },
     "metadata": {},
     "output_type": "display_data"
    },
    {
     "data": {
      "text/html": [
       "\n",
       "    <div>\n",
       "      <progress value='44000' class='' max='44000' style='width:300px; height:20px; vertical-align: middle;'></progress>\n",
       "      100.00% [44000/44000 00:30&lt;00:00 Sampling 4 chains, 0 divergences]\n",
       "    </div>\n",
       "    "
      ],
      "text/plain": [
       "<IPython.core.display.HTML object>"
      ]
     },
     "metadata": {},
     "output_type": "display_data"
    },
    {
     "name": "stderr",
     "output_type": "stream",
     "text": [
      "Sampling 4 chains for 1_000 tune and 10_000 draw iterations (4_000 + 40_000 draws total) took 61 seconds.\n"
     ]
    }
   ],
   "source": [
    "mir2_F5Rev = mir2_F5[['R1','R2','R3','R4','R5','R6']]\n",
    "mir2_F5Rev_res = dict()\n",
    "for tmp_gen in range(6):\n",
    "    tmp_data = mir2_F5Rev.iloc[:,tmp_gen]\n",
    "    tmp_data_no0 = tmp_data[tmp_data!=0]\n",
    "    mir2_F5Rev_res[tmp_gen] = calculate_stat(tmp_data_no0.tolist(), tot=20)"
   ]
  },
  {
   "cell_type": "code",
   "execution_count": null,
   "id": "9597211d",
   "metadata": {},
   "outputs": [],
   "source": []
  },
  {
   "cell_type": "code",
   "execution_count": 27,
   "id": "7189899b",
   "metadata": {},
   "outputs": [],
   "source": [
    "mir1_F5= pd.read_csv('./tuDf10_F5Rev.csv', sep=';', index_col=0)\n",
    "mir1_F5_reformatted = pd.DataFrame()\n",
    "for i in range(12):\n",
    "    obs = np.array(mir1_F5.iloc[:,i])/20.\n",
    "    temp = pd.DataFrame.from_dict({'id': np.arange(0, len(obs), 1), 'Generation': [i+0.30 for j in range(len(obs))], 'Eu': list(obs),'Grp': 'miR0'})\n",
    "    mir1_F5_reformatted = pd.concat([mir1_F5_reformatted, temp])"
   ]
  },
  {
   "cell_type": "code",
   "execution_count": 28,
   "id": "a40d1aff",
   "metadata": {},
   "outputs": [],
   "source": [
    "mir1_F5N = mir1_F5[['F1','F2','F3','F4','F5']]\n",
    "mir1_F5N_reformatted = pd.DataFrame()\n",
    "for i in range(5):\n",
    "    obs = np.array(mir1_F5N.iloc[:,i])/20.\n",
    "    temp = pd.DataFrame.from_dict({'id': np.arange(0, len(obs), 1), 'Generation': [i+1.30 for j in range(len(obs))], 'Eu': list(obs),'Grp': 'miR0'})\n",
    "    mir1_F5N_reformatted = pd.concat([mir1_F5N_reformatted, temp])"
   ]
  },
  {
   "cell_type": "code",
   "execution_count": 29,
   "id": "61c35f86",
   "metadata": {},
   "outputs": [],
   "source": [
    "def calculate_stat(eu_obs, tot):\n",
    "    G_samples = eu_obs\n",
    "    N_samples = [tot for i in range(len(G_samples))]\n",
    "    n_sets = len(G_samples)\n",
    "    group_idx = np.repeat(np.arange(len(N_samples)), N_samples)\n",
    "    data = []\n",
    "     # parameters of hyperprior ω\n",
    "    a=5 \n",
    "    b=1 ###1.2\n",
    "    for i in range(0, len(N_samples)):\n",
    "        data.extend(np.repeat([1, 0], [G_samples[i], N_samples[i]-G_samples[i]]))\n",
    "    with pm.Model() as model:\n",
    "        ω = pm.Beta('ω', a, b)\n",
    "        κ = pm.Gamma('κ', 3, 1)\n",
    "        θ = pm.Beta('θ', alpha=ω*(κ-2)+1, beta=(1-ω)*(κ-2)+1, shape=n_sets)\n",
    "        y = pm.Bernoulli('y', p=θ[group_idx], observed=data)\n",
    "        trace = pm.sample(tune=1000, draws=10000, target_accept=0.95, random_seed=RANDOM_SEED, return_inferencedata=True)\n",
    "        stat_result = az.summary(trace, round_to=3, hdi_prob=0.95)\n",
    "    return stat_result, trace"
   ]
  },
  {
   "cell_type": "code",
   "execution_count": 31,
   "id": "816884ff",
   "metadata": {},
   "outputs": [
    {
     "name": "stderr",
     "output_type": "stream",
     "text": [
      "Auto-assigning NUTS sampler...\n",
      "Initializing NUTS using jitter+adapt_diag...\n",
      "Multiprocess sampling (4 chains in 4 jobs)\n",
      "NUTS: [θ, κ, ω]\n"
     ]
    },
    {
     "data": {
      "text/html": [
       "\n",
       "<style>\n",
       "    /* Turns off some styling */\n",
       "    progress {\n",
       "        /* gets rid of default border in Firefox and Opera. */\n",
       "        border: none;\n",
       "        /* Needs to be in here for Safari polyfill so background images work as expected. */\n",
       "        background-size: auto;\n",
       "    }\n",
       "    progress:not([value]), progress:not([value])::-webkit-progress-bar {\n",
       "        background: repeating-linear-gradient(45deg, #7e7e7e, #7e7e7e 10px, #5c5c5c 10px, #5c5c5c 20px);\n",
       "    }\n",
       "    .progress-bar-interrupted, .progress-bar-interrupted::-webkit-progress-bar {\n",
       "        background: #F44336;\n",
       "    }\n",
       "</style>\n"
      ],
      "text/plain": [
       "<IPython.core.display.HTML object>"
      ]
     },
     "metadata": {},
     "output_type": "display_data"
    },
    {
     "data": {
      "text/html": [
       "\n",
       "    <div>\n",
       "      <progress value='44000' class='' max='44000' style='width:300px; height:20px; vertical-align: middle;'></progress>\n",
       "      100.00% [44000/44000 00:23&lt;00:00 Sampling 4 chains, 0 divergences]\n",
       "    </div>\n",
       "    "
      ],
      "text/plain": [
       "<IPython.core.display.HTML object>"
      ]
     },
     "metadata": {},
     "output_type": "display_data"
    },
    {
     "name": "stderr",
     "output_type": "stream",
     "text": [
      "Sampling 4 chains for 1_000 tune and 10_000 draw iterations (4_000 + 40_000 draws total) took 53 seconds.\n",
      "Auto-assigning NUTS sampler...\n",
      "Initializing NUTS using jitter+adapt_diag...\n",
      "Multiprocess sampling (4 chains in 4 jobs)\n",
      "NUTS: [θ, κ, ω]\n"
     ]
    },
    {
     "data": {
      "text/html": [
       "\n",
       "<style>\n",
       "    /* Turns off some styling */\n",
       "    progress {\n",
       "        /* gets rid of default border in Firefox and Opera. */\n",
       "        border: none;\n",
       "        /* Needs to be in here for Safari polyfill so background images work as expected. */\n",
       "        background-size: auto;\n",
       "    }\n",
       "    progress:not([value]), progress:not([value])::-webkit-progress-bar {\n",
       "        background: repeating-linear-gradient(45deg, #7e7e7e, #7e7e7e 10px, #5c5c5c 10px, #5c5c5c 20px);\n",
       "    }\n",
       "    .progress-bar-interrupted, .progress-bar-interrupted::-webkit-progress-bar {\n",
       "        background: #F44336;\n",
       "    }\n",
       "</style>\n"
      ],
      "text/plain": [
       "<IPython.core.display.HTML object>"
      ]
     },
     "metadata": {},
     "output_type": "display_data"
    },
    {
     "data": {
      "text/html": [
       "\n",
       "    <div>\n",
       "      <progress value='44000' class='' max='44000' style='width:300px; height:20px; vertical-align: middle;'></progress>\n",
       "      100.00% [44000/44000 00:24&lt;00:00 Sampling 4 chains, 0 divergences]\n",
       "    </div>\n",
       "    "
      ],
      "text/plain": [
       "<IPython.core.display.HTML object>"
      ]
     },
     "metadata": {},
     "output_type": "display_data"
    },
    {
     "name": "stderr",
     "output_type": "stream",
     "text": [
      "Sampling 4 chains for 1_000 tune and 10_000 draw iterations (4_000 + 40_000 draws total) took 54 seconds.\n",
      "Auto-assigning NUTS sampler...\n",
      "Initializing NUTS using jitter+adapt_diag...\n",
      "Multiprocess sampling (4 chains in 4 jobs)\n",
      "NUTS: [θ, κ, ω]\n"
     ]
    },
    {
     "data": {
      "text/html": [
       "\n",
       "<style>\n",
       "    /* Turns off some styling */\n",
       "    progress {\n",
       "        /* gets rid of default border in Firefox and Opera. */\n",
       "        border: none;\n",
       "        /* Needs to be in here for Safari polyfill so background images work as expected. */\n",
       "        background-size: auto;\n",
       "    }\n",
       "    progress:not([value]), progress:not([value])::-webkit-progress-bar {\n",
       "        background: repeating-linear-gradient(45deg, #7e7e7e, #7e7e7e 10px, #5c5c5c 10px, #5c5c5c 20px);\n",
       "    }\n",
       "    .progress-bar-interrupted, .progress-bar-interrupted::-webkit-progress-bar {\n",
       "        background: #F44336;\n",
       "    }\n",
       "</style>\n"
      ],
      "text/plain": [
       "<IPython.core.display.HTML object>"
      ]
     },
     "metadata": {},
     "output_type": "display_data"
    },
    {
     "data": {
      "text/html": [
       "\n",
       "    <div>\n",
       "      <progress value='44000' class='' max='44000' style='width:300px; height:20px; vertical-align: middle;'></progress>\n",
       "      100.00% [44000/44000 00:25&lt;00:00 Sampling 4 chains, 0 divergences]\n",
       "    </div>\n",
       "    "
      ],
      "text/plain": [
       "<IPython.core.display.HTML object>"
      ]
     },
     "metadata": {},
     "output_type": "display_data"
    },
    {
     "name": "stderr",
     "output_type": "stream",
     "text": [
      "Sampling 4 chains for 1_000 tune and 10_000 draw iterations (4_000 + 40_000 draws total) took 54 seconds.\n",
      "Auto-assigning NUTS sampler...\n",
      "Initializing NUTS using jitter+adapt_diag...\n",
      "Multiprocess sampling (4 chains in 4 jobs)\n",
      "NUTS: [θ, κ, ω]\n"
     ]
    },
    {
     "data": {
      "text/html": [
       "\n",
       "<style>\n",
       "    /* Turns off some styling */\n",
       "    progress {\n",
       "        /* gets rid of default border in Firefox and Opera. */\n",
       "        border: none;\n",
       "        /* Needs to be in here for Safari polyfill so background images work as expected. */\n",
       "        background-size: auto;\n",
       "    }\n",
       "    progress:not([value]), progress:not([value])::-webkit-progress-bar {\n",
       "        background: repeating-linear-gradient(45deg, #7e7e7e, #7e7e7e 10px, #5c5c5c 10px, #5c5c5c 20px);\n",
       "    }\n",
       "    .progress-bar-interrupted, .progress-bar-interrupted::-webkit-progress-bar {\n",
       "        background: #F44336;\n",
       "    }\n",
       "</style>\n"
      ],
      "text/plain": [
       "<IPython.core.display.HTML object>"
      ]
     },
     "metadata": {},
     "output_type": "display_data"
    },
    {
     "data": {
      "text/html": [
       "\n",
       "    <div>\n",
       "      <progress value='44000' class='' max='44000' style='width:300px; height:20px; vertical-align: middle;'></progress>\n",
       "      100.00% [44000/44000 00:25&lt;00:00 Sampling 4 chains, 0 divergences]\n",
       "    </div>\n",
       "    "
      ],
      "text/plain": [
       "<IPython.core.display.HTML object>"
      ]
     },
     "metadata": {},
     "output_type": "display_data"
    },
    {
     "name": "stderr",
     "output_type": "stream",
     "text": [
      "Sampling 4 chains for 1_000 tune and 10_000 draw iterations (4_000 + 40_000 draws total) took 55 seconds.\n",
      "Auto-assigning NUTS sampler...\n",
      "Initializing NUTS using jitter+adapt_diag...\n",
      "Multiprocess sampling (4 chains in 4 jobs)\n",
      "NUTS: [θ, κ, ω]\n"
     ]
    },
    {
     "data": {
      "text/html": [
       "\n",
       "<style>\n",
       "    /* Turns off some styling */\n",
       "    progress {\n",
       "        /* gets rid of default border in Firefox and Opera. */\n",
       "        border: none;\n",
       "        /* Needs to be in here for Safari polyfill so background images work as expected. */\n",
       "        background-size: auto;\n",
       "    }\n",
       "    progress:not([value]), progress:not([value])::-webkit-progress-bar {\n",
       "        background: repeating-linear-gradient(45deg, #7e7e7e, #7e7e7e 10px, #5c5c5c 10px, #5c5c5c 20px);\n",
       "    }\n",
       "    .progress-bar-interrupted, .progress-bar-interrupted::-webkit-progress-bar {\n",
       "        background: #F44336;\n",
       "    }\n",
       "</style>\n"
      ],
      "text/plain": [
       "<IPython.core.display.HTML object>"
      ]
     },
     "metadata": {},
     "output_type": "display_data"
    },
    {
     "data": {
      "text/html": [
       "\n",
       "    <div>\n",
       "      <progress value='44000' class='' max='44000' style='width:300px; height:20px; vertical-align: middle;'></progress>\n",
       "      100.00% [44000/44000 00:25&lt;00:00 Sampling 4 chains, 0 divergences]\n",
       "    </div>\n",
       "    "
      ],
      "text/plain": [
       "<IPython.core.display.HTML object>"
      ]
     },
     "metadata": {},
     "output_type": "display_data"
    },
    {
     "name": "stderr",
     "output_type": "stream",
     "text": [
      "Sampling 4 chains for 1_000 tune and 10_000 draw iterations (4_000 + 40_000 draws total) took 57 seconds.\n",
      "Auto-assigning NUTS sampler...\n",
      "Initializing NUTS using jitter+adapt_diag...\n",
      "Multiprocess sampling (4 chains in 4 jobs)\n",
      "NUTS: [θ, κ, ω]\n"
     ]
    },
    {
     "data": {
      "text/html": [
       "\n",
       "<style>\n",
       "    /* Turns off some styling */\n",
       "    progress {\n",
       "        /* gets rid of default border in Firefox and Opera. */\n",
       "        border: none;\n",
       "        /* Needs to be in here for Safari polyfill so background images work as expected. */\n",
       "        background-size: auto;\n",
       "    }\n",
       "    progress:not([value]), progress:not([value])::-webkit-progress-bar {\n",
       "        background: repeating-linear-gradient(45deg, #7e7e7e, #7e7e7e 10px, #5c5c5c 10px, #5c5c5c 20px);\n",
       "    }\n",
       "    .progress-bar-interrupted, .progress-bar-interrupted::-webkit-progress-bar {\n",
       "        background: #F44336;\n",
       "    }\n",
       "</style>\n"
      ],
      "text/plain": [
       "<IPython.core.display.HTML object>"
      ]
     },
     "metadata": {},
     "output_type": "display_data"
    },
    {
     "data": {
      "text/html": [
       "\n",
       "    <div>\n",
       "      <progress value='44000' class='' max='44000' style='width:300px; height:20px; vertical-align: middle;'></progress>\n",
       "      100.00% [44000/44000 00:27&lt;00:00 Sampling 4 chains, 0 divergences]\n",
       "    </div>\n",
       "    "
      ],
      "text/plain": [
       "<IPython.core.display.HTML object>"
      ]
     },
     "metadata": {},
     "output_type": "display_data"
    },
    {
     "name": "stderr",
     "output_type": "stream",
     "text": [
      "Sampling 4 chains for 1_000 tune and 10_000 draw iterations (4_000 + 40_000 draws total) took 57 seconds.\n"
     ]
    }
   ],
   "source": [
    "mir1_F5Rev = mir1_F5[['R1','R2','R3','R4','R5', 'R6']]\n",
    "mir1_F5Rev_res = dict()\n",
    "for tmp_gen in range(6):\n",
    "    tmp_data = mir1_F5Rev.iloc[:,tmp_gen]\n",
    "    tmp_data_no0 = tmp_data[tmp_data!=0]\n",
    "    mir1_F5Rev_res[tmp_gen] = calculate_stat(tmp_data_no0.tolist(), tot=20)"
   ]
  },
  {
   "cell_type": "code",
   "execution_count": null,
   "id": "a12de194",
   "metadata": {},
   "outputs": [],
   "source": []
  },
  {
   "cell_type": "code",
   "execution_count": 32,
   "id": "cc4dde74",
   "metadata": {},
   "outputs": [],
   "source": [
    "mir0_F5= pd.read_csv('./tuDf11_F5Rev.csv', sep=';', index_col=0)\n",
    "mir0_F5_reformatted = pd.DataFrame()\n",
    "for i in range(12):\n",
    "    obs = np.array(mir0_F5.iloc[:,i])/20.\n",
    "    temp = pd.DataFrame.from_dict({'id': np.arange(0, len(obs), 1), 'Generation': [i+0.45 for j in range(len(obs))], 'Eu': list(obs),'Grp': 'miR0'})\n",
    "    mir0_F5_reformatted = pd.concat([mir0_F5_reformatted, temp])"
   ]
  },
  {
   "cell_type": "code",
   "execution_count": 33,
   "id": "00398699",
   "metadata": {},
   "outputs": [],
   "source": [
    "mir0_F5N = mir0_F5[['F1','F2','F3','F4','F5']]\n",
    "mir0_F5N_reformatted = pd.DataFrame()\n",
    "for i in range(5):\n",
    "    obs = np.array(mir0_F5N.iloc[:,i])/20.\n",
    "    temp = pd.DataFrame.from_dict({'id': np.arange(0, len(obs), 1), 'Generation': [i+1.45 for j in range(len(obs))], 'Eu': list(obs),'Grp': 'miR0'})\n",
    "    mir0_F5N_reformatted = pd.concat([mir0_F5N_reformatted, temp])"
   ]
  },
  {
   "cell_type": "code",
   "execution_count": 37,
   "id": "4c705d3b",
   "metadata": {},
   "outputs": [],
   "source": [
    "def calculate_stat(eu_obs, tot):\n",
    "    G_samples = eu_obs\n",
    "    N_samples = [tot for i in range(len(G_samples))]\n",
    "    n_sets = len(G_samples)\n",
    "    group_idx = np.repeat(np.arange(len(N_samples)), N_samples)\n",
    "    data = []\n",
    "     # parameters of hyperprior ω\n",
    "    a=5 \n",
    "    b=1.2 ###1.2\n",
    "    for i in range(0, len(N_samples)):\n",
    "        data.extend(np.repeat([1, 0], [G_samples[i], N_samples[i]-G_samples[i]]))\n",
    "    with pm.Model() as model:\n",
    "        ω = pm.Beta('ω', a, b)\n",
    "        κ = pm.Gamma('κ', 3, 1)\n",
    "        θ = pm.Beta('θ', alpha=ω*(κ-2)+1, beta=(1-ω)*(κ-2)+1, shape=n_sets)\n",
    "        y = pm.Bernoulli('y', p=θ[group_idx], observed=data)\n",
    "        trace = pm.sample(tune=1000, draws=10000, target_accept=0.95, random_seed=RANDOM_SEED, return_inferencedata=True)\n",
    "        stat_result = az.summary(trace, round_to=3, hdi_prob=0.95)\n",
    "    return stat_result, trace"
   ]
  },
  {
   "cell_type": "code",
   "execution_count": 39,
   "id": "95316a81",
   "metadata": {},
   "outputs": [
    {
     "name": "stderr",
     "output_type": "stream",
     "text": [
      "Auto-assigning NUTS sampler...\n",
      "Initializing NUTS using jitter+adapt_diag...\n",
      "Multiprocess sampling (4 chains in 4 jobs)\n",
      "NUTS: [θ, κ, ω]\n"
     ]
    },
    {
     "data": {
      "text/html": [
       "\n",
       "<style>\n",
       "    /* Turns off some styling */\n",
       "    progress {\n",
       "        /* gets rid of default border in Firefox and Opera. */\n",
       "        border: none;\n",
       "        /* Needs to be in here for Safari polyfill so background images work as expected. */\n",
       "        background-size: auto;\n",
       "    }\n",
       "    progress:not([value]), progress:not([value])::-webkit-progress-bar {\n",
       "        background: repeating-linear-gradient(45deg, #7e7e7e, #7e7e7e 10px, #5c5c5c 10px, #5c5c5c 20px);\n",
       "    }\n",
       "    .progress-bar-interrupted, .progress-bar-interrupted::-webkit-progress-bar {\n",
       "        background: #F44336;\n",
       "    }\n",
       "</style>\n"
      ],
      "text/plain": [
       "<IPython.core.display.HTML object>"
      ]
     },
     "metadata": {},
     "output_type": "display_data"
    },
    {
     "data": {
      "text/html": [
       "\n",
       "    <div>\n",
       "      <progress value='44000' class='' max='44000' style='width:300px; height:20px; vertical-align: middle;'></progress>\n",
       "      100.00% [44000/44000 00:21&lt;00:00 Sampling 4 chains, 0 divergences]\n",
       "    </div>\n",
       "    "
      ],
      "text/plain": [
       "<IPython.core.display.HTML object>"
      ]
     },
     "metadata": {},
     "output_type": "display_data"
    },
    {
     "name": "stderr",
     "output_type": "stream",
     "text": [
      "Sampling 4 chains for 1_000 tune and 10_000 draw iterations (4_000 + 40_000 draws total) took 53 seconds.\n",
      "Auto-assigning NUTS sampler...\n",
      "Initializing NUTS using jitter+adapt_diag...\n",
      "Multiprocess sampling (4 chains in 4 jobs)\n",
      "NUTS: [θ, κ, ω]\n"
     ]
    },
    {
     "data": {
      "text/html": [
       "\n",
       "<style>\n",
       "    /* Turns off some styling */\n",
       "    progress {\n",
       "        /* gets rid of default border in Firefox and Opera. */\n",
       "        border: none;\n",
       "        /* Needs to be in here for Safari polyfill so background images work as expected. */\n",
       "        background-size: auto;\n",
       "    }\n",
       "    progress:not([value]), progress:not([value])::-webkit-progress-bar {\n",
       "        background: repeating-linear-gradient(45deg, #7e7e7e, #7e7e7e 10px, #5c5c5c 10px, #5c5c5c 20px);\n",
       "    }\n",
       "    .progress-bar-interrupted, .progress-bar-interrupted::-webkit-progress-bar {\n",
       "        background: #F44336;\n",
       "    }\n",
       "</style>\n"
      ],
      "text/plain": [
       "<IPython.core.display.HTML object>"
      ]
     },
     "metadata": {},
     "output_type": "display_data"
    },
    {
     "data": {
      "text/html": [
       "\n",
       "    <div>\n",
       "      <progress value='44000' class='' max='44000' style='width:300px; height:20px; vertical-align: middle;'></progress>\n",
       "      100.00% [44000/44000 00:29&lt;00:00 Sampling 4 chains, 0 divergences]\n",
       "    </div>\n",
       "    "
      ],
      "text/plain": [
       "<IPython.core.display.HTML object>"
      ]
     },
     "metadata": {},
     "output_type": "display_data"
    },
    {
     "name": "stderr",
     "output_type": "stream",
     "text": [
      "Sampling 4 chains for 1_000 tune and 10_000 draw iterations (4_000 + 40_000 draws total) took 59 seconds.\n",
      "Auto-assigning NUTS sampler...\n",
      "Initializing NUTS using jitter+adapt_diag...\n",
      "Multiprocess sampling (4 chains in 4 jobs)\n",
      "NUTS: [θ, κ, ω]\n"
     ]
    },
    {
     "data": {
      "text/html": [
       "\n",
       "<style>\n",
       "    /* Turns off some styling */\n",
       "    progress {\n",
       "        /* gets rid of default border in Firefox and Opera. */\n",
       "        border: none;\n",
       "        /* Needs to be in here for Safari polyfill so background images work as expected. */\n",
       "        background-size: auto;\n",
       "    }\n",
       "    progress:not([value]), progress:not([value])::-webkit-progress-bar {\n",
       "        background: repeating-linear-gradient(45deg, #7e7e7e, #7e7e7e 10px, #5c5c5c 10px, #5c5c5c 20px);\n",
       "    }\n",
       "    .progress-bar-interrupted, .progress-bar-interrupted::-webkit-progress-bar {\n",
       "        background: #F44336;\n",
       "    }\n",
       "</style>\n"
      ],
      "text/plain": [
       "<IPython.core.display.HTML object>"
      ]
     },
     "metadata": {},
     "output_type": "display_data"
    },
    {
     "data": {
      "text/html": [
       "\n",
       "    <div>\n",
       "      <progress value='44000' class='' max='44000' style='width:300px; height:20px; vertical-align: middle;'></progress>\n",
       "      100.00% [44000/44000 00:21&lt;00:00 Sampling 4 chains, 0 divergences]\n",
       "    </div>\n",
       "    "
      ],
      "text/plain": [
       "<IPython.core.display.HTML object>"
      ]
     },
     "metadata": {},
     "output_type": "display_data"
    },
    {
     "name": "stderr",
     "output_type": "stream",
     "text": [
      "Sampling 4 chains for 1_000 tune and 10_000 draw iterations (4_000 + 40_000 draws total) took 52 seconds.\n",
      "Auto-assigning NUTS sampler...\n",
      "Initializing NUTS using jitter+adapt_diag...\n",
      "Multiprocess sampling (4 chains in 4 jobs)\n",
      "NUTS: [θ, κ, ω]\n"
     ]
    },
    {
     "data": {
      "text/html": [
       "\n",
       "<style>\n",
       "    /* Turns off some styling */\n",
       "    progress {\n",
       "        /* gets rid of default border in Firefox and Opera. */\n",
       "        border: none;\n",
       "        /* Needs to be in here for Safari polyfill so background images work as expected. */\n",
       "        background-size: auto;\n",
       "    }\n",
       "    progress:not([value]), progress:not([value])::-webkit-progress-bar {\n",
       "        background: repeating-linear-gradient(45deg, #7e7e7e, #7e7e7e 10px, #5c5c5c 10px, #5c5c5c 20px);\n",
       "    }\n",
       "    .progress-bar-interrupted, .progress-bar-interrupted::-webkit-progress-bar {\n",
       "        background: #F44336;\n",
       "    }\n",
       "</style>\n"
      ],
      "text/plain": [
       "<IPython.core.display.HTML object>"
      ]
     },
     "metadata": {},
     "output_type": "display_data"
    },
    {
     "data": {
      "text/html": [
       "\n",
       "    <div>\n",
       "      <progress value='44000' class='' max='44000' style='width:300px; height:20px; vertical-align: middle;'></progress>\n",
       "      100.00% [44000/44000 00:22&lt;00:00 Sampling 4 chains, 0 divergences]\n",
       "    </div>\n",
       "    "
      ],
      "text/plain": [
       "<IPython.core.display.HTML object>"
      ]
     },
     "metadata": {},
     "output_type": "display_data"
    },
    {
     "name": "stderr",
     "output_type": "stream",
     "text": [
      "Sampling 4 chains for 1_000 tune and 10_000 draw iterations (4_000 + 40_000 draws total) took 51 seconds.\n",
      "Auto-assigning NUTS sampler...\n",
      "Initializing NUTS using jitter+adapt_diag...\n",
      "Multiprocess sampling (4 chains in 4 jobs)\n",
      "NUTS: [θ, κ, ω]\n"
     ]
    },
    {
     "data": {
      "text/html": [
       "\n",
       "<style>\n",
       "    /* Turns off some styling */\n",
       "    progress {\n",
       "        /* gets rid of default border in Firefox and Opera. */\n",
       "        border: none;\n",
       "        /* Needs to be in here for Safari polyfill so background images work as expected. */\n",
       "        background-size: auto;\n",
       "    }\n",
       "    progress:not([value]), progress:not([value])::-webkit-progress-bar {\n",
       "        background: repeating-linear-gradient(45deg, #7e7e7e, #7e7e7e 10px, #5c5c5c 10px, #5c5c5c 20px);\n",
       "    }\n",
       "    .progress-bar-interrupted, .progress-bar-interrupted::-webkit-progress-bar {\n",
       "        background: #F44336;\n",
       "    }\n",
       "</style>\n"
      ],
      "text/plain": [
       "<IPython.core.display.HTML object>"
      ]
     },
     "metadata": {},
     "output_type": "display_data"
    },
    {
     "data": {
      "text/html": [
       "\n",
       "    <div>\n",
       "      <progress value='44000' class='' max='44000' style='width:300px; height:20px; vertical-align: middle;'></progress>\n",
       "      100.00% [44000/44000 00:23&lt;00:00 Sampling 4 chains, 0 divergences]\n",
       "    </div>\n",
       "    "
      ],
      "text/plain": [
       "<IPython.core.display.HTML object>"
      ]
     },
     "metadata": {},
     "output_type": "display_data"
    },
    {
     "name": "stderr",
     "output_type": "stream",
     "text": [
      "Sampling 4 chains for 1_000 tune and 10_000 draw iterations (4_000 + 40_000 draws total) took 53 seconds.\n"
     ]
    }
   ],
   "source": [
    "mir0_F5Rev = mir0_F5[['R1','R2','R3','R4','R5','R6']]\n",
    "mir0_F5Rev_res = dict()\n",
    "for tmp_gen in range(5):\n",
    "    tmp_data = mir0_F5Rev.iloc[:,tmp_gen]\n",
    "    tmp_data_no0 = tmp_data[tmp_data!=0]\n",
    "    mir0_F5Rev_res[tmp_gen] = calculate_stat(tmp_data_no0.tolist(), tot=20)"
   ]
  },
  {
   "cell_type": "code",
   "execution_count": 40,
   "id": "4c6d9673",
   "metadata": {},
   "outputs": [],
   "source": [
    "def calculate_stat(eu_obs, tot):\n",
    "    G_samples = eu_obs\n",
    "    N_samples = [tot for i in range(len(G_samples))]\n",
    "    n_sets = len(G_samples)\n",
    "    group_idx = np.repeat(np.arange(len(N_samples)), N_samples)\n",
    "    data = []\n",
    "     # parameters of hyperprior ω\n",
    "    a=2 \n",
    "    b=2 ###1.2\n",
    "    for i in range(0, len(N_samples)):\n",
    "        data.extend(np.repeat([1, 0], [G_samples[i], N_samples[i]-G_samples[i]]))\n",
    "    with pm.Model() as model:\n",
    "        ω = pm.Beta('ω', a, b)\n",
    "        κ = pm.Gamma('κ', 3, 1)\n",
    "        θ = pm.Beta('θ', alpha=ω*(κ-2)+1, beta=(1-ω)*(κ-2)+1, shape=n_sets)\n",
    "        y = pm.Bernoulli('y', p=θ[group_idx], observed=data)\n",
    "        trace = pm.sample(tune=1000, draws=10000, target_accept=0.95, random_seed=RANDOM_SEED, return_inferencedata=True)\n",
    "        stat_result = az.summary(trace, round_to=3, hdi_prob=0.95)\n",
    "    return stat_result, trace"
   ]
  },
  {
   "cell_type": "code",
   "execution_count": 41,
   "id": "e05cbebc",
   "metadata": {},
   "outputs": [
    {
     "name": "stderr",
     "output_type": "stream",
     "text": [
      "Auto-assigning NUTS sampler...\n",
      "Initializing NUTS using jitter+adapt_diag...\n",
      "Multiprocess sampling (4 chains in 4 jobs)\n",
      "NUTS: [θ, κ, ω]\n"
     ]
    },
    {
     "data": {
      "text/html": [
       "\n",
       "<style>\n",
       "    /* Turns off some styling */\n",
       "    progress {\n",
       "        /* gets rid of default border in Firefox and Opera. */\n",
       "        border: none;\n",
       "        /* Needs to be in here for Safari polyfill so background images work as expected. */\n",
       "        background-size: auto;\n",
       "    }\n",
       "    progress:not([value]), progress:not([value])::-webkit-progress-bar {\n",
       "        background: repeating-linear-gradient(45deg, #7e7e7e, #7e7e7e 10px, #5c5c5c 10px, #5c5c5c 20px);\n",
       "    }\n",
       "    .progress-bar-interrupted, .progress-bar-interrupted::-webkit-progress-bar {\n",
       "        background: #F44336;\n",
       "    }\n",
       "</style>\n"
      ],
      "text/plain": [
       "<IPython.core.display.HTML object>"
      ]
     },
     "metadata": {},
     "output_type": "display_data"
    },
    {
     "data": {
      "text/html": [
       "\n",
       "    <div>\n",
       "      <progress value='44000' class='' max='44000' style='width:300px; height:20px; vertical-align: middle;'></progress>\n",
       "      100.00% [44000/44000 00:20&lt;00:00 Sampling 4 chains, 0 divergences]\n",
       "    </div>\n",
       "    "
      ],
      "text/plain": [
       "<IPython.core.display.HTML object>"
      ]
     },
     "metadata": {},
     "output_type": "display_data"
    },
    {
     "name": "stderr",
     "output_type": "stream",
     "text": [
      "Sampling 4 chains for 1_000 tune and 10_000 draw iterations (4_000 + 40_000 draws total) took 49 seconds.\n"
     ]
    }
   ],
   "source": [
    "mir0_F5Rev_2 = mir0_F5[['R6']]\n",
    "mir0_F5Rev_res_2 = dict()\n",
    "for tmp_gen in range(1):\n",
    "    tmp_data = mir0_F5Rev_2.iloc[:,tmp_gen]\n",
    "    tmp_data_no0 = tmp_data[tmp_data!=0]\n",
    "    mir0_F5Rev_res_2[tmp_gen] = calculate_stat(tmp_data_no0.tolist(), tot=20)"
   ]
  },
  {
   "cell_type": "code",
   "execution_count": 42,
   "id": "069007e7",
   "metadata": {},
   "outputs": [
    {
     "data": {
      "text/html": [
       "<div>\n",
       "<style scoped>\n",
       "    .dataframe tbody tr th:only-of-type {\n",
       "        vertical-align: middle;\n",
       "    }\n",
       "\n",
       "    .dataframe tbody tr th {\n",
       "        vertical-align: top;\n",
       "    }\n",
       "\n",
       "    .dataframe thead th {\n",
       "        text-align: right;\n",
       "    }\n",
       "</style>\n",
       "<table border=\"1\" class=\"dataframe\">\n",
       "  <thead>\n",
       "    <tr style=\"text-align: right;\">\n",
       "      <th></th>\n",
       "      <th>mean</th>\n",
       "      <th>sd</th>\n",
       "      <th>hdi_2.5%</th>\n",
       "      <th>hdi_97.5%</th>\n",
       "      <th>mcse_mean</th>\n",
       "      <th>mcse_sd</th>\n",
       "      <th>ess_bulk</th>\n",
       "      <th>ess_tail</th>\n",
       "      <th>r_hat</th>\n",
       "    </tr>\n",
       "  </thead>\n",
       "  <tbody>\n",
       "    <tr>\n",
       "      <th>ω</th>\n",
       "      <td>0.81</td>\n",
       "      <td>0.09</td>\n",
       "      <td>0.65</td>\n",
       "      <td>0.99</td>\n",
       "      <td>0.00</td>\n",
       "      <td>0.00</td>\n",
       "      <td>27078.79</td>\n",
       "      <td>15908.33</td>\n",
       "      <td>1.0</td>\n",
       "    </tr>\n",
       "    <tr>\n",
       "      <th>κ</th>\n",
       "      <td>5.81</td>\n",
       "      <td>2.07</td>\n",
       "      <td>2.48</td>\n",
       "      <td>10.02</td>\n",
       "      <td>0.01</td>\n",
       "      <td>0.01</td>\n",
       "      <td>32768.91</td>\n",
       "      <td>31576.10</td>\n",
       "      <td>1.0</td>\n",
       "    </tr>\n",
       "    <tr>\n",
       "      <th>θ[0]</th>\n",
       "      <td>0.66</td>\n",
       "      <td>0.09</td>\n",
       "      <td>0.48</td>\n",
       "      <td>0.83</td>\n",
       "      <td>0.00</td>\n",
       "      <td>0.00</td>\n",
       "      <td>51864.59</td>\n",
       "      <td>29542.90</td>\n",
       "      <td>1.0</td>\n",
       "    </tr>\n",
       "    <tr>\n",
       "      <th>θ[1]</th>\n",
       "      <td>0.78</td>\n",
       "      <td>0.08</td>\n",
       "      <td>0.61</td>\n",
       "      <td>0.92</td>\n",
       "      <td>0.00</td>\n",
       "      <td>0.00</td>\n",
       "      <td>47203.32</td>\n",
       "      <td>27002.57</td>\n",
       "      <td>1.0</td>\n",
       "    </tr>\n",
       "    <tr>\n",
       "      <th>θ[2]</th>\n",
       "      <td>0.78</td>\n",
       "      <td>0.08</td>\n",
       "      <td>0.62</td>\n",
       "      <td>0.92</td>\n",
       "      <td>0.00</td>\n",
       "      <td>0.00</td>\n",
       "      <td>43226.61</td>\n",
       "      <td>26688.04</td>\n",
       "      <td>1.0</td>\n",
       "    </tr>\n",
       "    <tr>\n",
       "      <th>θ[3]</th>\n",
       "      <td>0.74</td>\n",
       "      <td>0.09</td>\n",
       "      <td>0.57</td>\n",
       "      <td>0.90</td>\n",
       "      <td>0.00</td>\n",
       "      <td>0.00</td>\n",
       "      <td>47382.86</td>\n",
       "      <td>27809.21</td>\n",
       "      <td>1.0</td>\n",
       "    </tr>\n",
       "    <tr>\n",
       "      <th>θ[4]</th>\n",
       "      <td>0.78</td>\n",
       "      <td>0.08</td>\n",
       "      <td>0.62</td>\n",
       "      <td>0.92</td>\n",
       "      <td>0.00</td>\n",
       "      <td>0.00</td>\n",
       "      <td>49121.65</td>\n",
       "      <td>26939.59</td>\n",
       "      <td>1.0</td>\n",
       "    </tr>\n",
       "    <tr>\n",
       "      <th>θ[5]</th>\n",
       "      <td>0.78</td>\n",
       "      <td>0.08</td>\n",
       "      <td>0.61</td>\n",
       "      <td>0.92</td>\n",
       "      <td>0.00</td>\n",
       "      <td>0.00</td>\n",
       "      <td>49756.06</td>\n",
       "      <td>27335.47</td>\n",
       "      <td>1.0</td>\n",
       "    </tr>\n",
       "    <tr>\n",
       "      <th>θ[6]</th>\n",
       "      <td>0.66</td>\n",
       "      <td>0.09</td>\n",
       "      <td>0.48</td>\n",
       "      <td>0.84</td>\n",
       "      <td>0.00</td>\n",
       "      <td>0.00</td>\n",
       "      <td>47717.97</td>\n",
       "      <td>27838.54</td>\n",
       "      <td>1.0</td>\n",
       "    </tr>\n",
       "    <tr>\n",
       "      <th>θ[7]</th>\n",
       "      <td>0.70</td>\n",
       "      <td>0.09</td>\n",
       "      <td>0.52</td>\n",
       "      <td>0.87</td>\n",
       "      <td>0.00</td>\n",
       "      <td>0.00</td>\n",
       "      <td>48530.98</td>\n",
       "      <td>26722.17</td>\n",
       "      <td>1.0</td>\n",
       "    </tr>\n",
       "    <tr>\n",
       "      <th>θ[8]</th>\n",
       "      <td>0.62</td>\n",
       "      <td>0.10</td>\n",
       "      <td>0.43</td>\n",
       "      <td>0.80</td>\n",
       "      <td>0.00</td>\n",
       "      <td>0.00</td>\n",
       "      <td>43657.63</td>\n",
       "      <td>27831.65</td>\n",
       "      <td>1.0</td>\n",
       "    </tr>\n",
       "    <tr>\n",
       "      <th>θ[9]</th>\n",
       "      <td>0.58</td>\n",
       "      <td>0.10</td>\n",
       "      <td>0.39</td>\n",
       "      <td>0.77</td>\n",
       "      <td>0.00</td>\n",
       "      <td>0.00</td>\n",
       "      <td>46360.60</td>\n",
       "      <td>29897.31</td>\n",
       "      <td>1.0</td>\n",
       "    </tr>\n",
       "  </tbody>\n",
       "</table>\n",
       "</div>"
      ],
      "text/plain": [
       "      mean    sd  hdi_2.5%  hdi_97.5%  mcse_mean  mcse_sd  ess_bulk  ess_tail  \\\n",
       "ω     0.81  0.09      0.65       0.99       0.00     0.00  27078.79  15908.33   \n",
       "κ     5.81  2.07      2.48      10.02       0.01     0.01  32768.91  31576.10   \n",
       "θ[0]  0.66  0.09      0.48       0.83       0.00     0.00  51864.59  29542.90   \n",
       "θ[1]  0.78  0.08      0.61       0.92       0.00     0.00  47203.32  27002.57   \n",
       "θ[2]  0.78  0.08      0.62       0.92       0.00     0.00  43226.61  26688.04   \n",
       "θ[3]  0.74  0.09      0.57       0.90       0.00     0.00  47382.86  27809.21   \n",
       "θ[4]  0.78  0.08      0.62       0.92       0.00     0.00  49121.65  26939.59   \n",
       "θ[5]  0.78  0.08      0.61       0.92       0.00     0.00  49756.06  27335.47   \n",
       "θ[6]  0.66  0.09      0.48       0.84       0.00     0.00  47717.97  27838.54   \n",
       "θ[7]  0.70  0.09      0.52       0.87       0.00     0.00  48530.98  26722.17   \n",
       "θ[8]  0.62  0.10      0.43       0.80       0.00     0.00  43657.63  27831.65   \n",
       "θ[9]  0.58  0.10      0.39       0.77       0.00     0.00  46360.60  29897.31   \n",
       "\n",
       "      r_hat  \n",
       "ω       1.0  \n",
       "κ       1.0  \n",
       "θ[0]    1.0  \n",
       "θ[1]    1.0  \n",
       "θ[2]    1.0  \n",
       "θ[3]    1.0  \n",
       "θ[4]    1.0  \n",
       "θ[5]    1.0  \n",
       "θ[6]    1.0  \n",
       "θ[7]    1.0  \n",
       "θ[8]    1.0  \n",
       "θ[9]    1.0  "
      ]
     },
     "execution_count": 42,
     "metadata": {},
     "output_type": "execute_result"
    }
   ],
   "source": [
    "mir0_F1R_HDI=az.summary(mir0_F5Rev_res[4][1], round_to=2, hdi_prob=0.95)\n",
    "mir0_F1R_HDI"
   ]
  },
  {
   "cell_type": "code",
   "execution_count": 43,
   "id": "ce1ae5b2",
   "metadata": {},
   "outputs": [
    {
     "data": {
      "text/plain": [
       "hdi_2.5%    0.533\n",
       "dtype: float64"
      ]
     },
     "execution_count": 43,
     "metadata": {},
     "output_type": "execute_result"
    }
   ],
   "source": [
    "mir0_F1R_HDI.iloc[2:12,[2]].mean()"
   ]
  },
  {
   "cell_type": "code",
   "execution_count": 68,
   "id": "5325eedb",
   "metadata": {},
   "outputs": [
    {
     "data": {
      "image/png": "[encoded data removed]",
      "text/plain": [
       "<Figure size 792x432 with 1 Axes>"
      ]
     },
     "metadata": {
      "needs_background": "light"
     },
     "output_type": "display_data"
    }
   ],
   "source": [
    "fig, ax = plt.subplots(\n",
    "    nrows=1,\n",
    "    ncols=1,\n",
    "    figsize=(11,6),\n",
    "    constrained_layout=True)\n",
    "\n",
    "\n",
    "\n",
    "import seaborn as sns\n",
    "\n",
    "#            \n",
    "col3=sns.color_palette(\"pastel\")[7]\n",
    "sns.stripplot(data= WT_F5_reformatted, x='Generation', y='Eu', ax=ax, s=10, edgecolors='silver', color='silver', alpha=0.4, linewidths=2, zorder=2, jitter=False)\n",
    "plt.scatter(data= WT_F5N_reformatted, x='Generation', y='Eu', s=200, edgecolors=col3, color='white', linewidths=4, zorder=2)\n",
    "\n",
    "for i in range(1):\n",
    "    inf_summ = az.summary(WT_F0_res[i][1], hdi_prob=0.95)\n",
    "    inf_mean = np.array(inf_summ['mean'][2:])\n",
    "    l_hdi =  np.array(inf_summ['hdi_2.5%'][2:])\n",
    "    h_hdi = np.array(inf_summ['hdi_97.5%'][2:])\n",
    "    plt.vlines(i, np.mean(l_hdi), np.mean(h_hdi),  colors=col3, linestyles='-', linewidth=4, capstyle='round', label='95% HDI',clip_on=False, zorder=4)\n",
    "    plt.scatter(i, np.mean(inf_mean), s=200, edgecolors=col3, color='white', linewidths=4, zorder=4)\n",
    "\n",
    "for i in range(6):\n",
    "    inf_summ = az.summary(WT_F5Rev_res[i][1], hdi_prob=0.95)\n",
    "    inf_mean = np.array(inf_summ['mean'][2:])\n",
    "    l_hdi =  np.array(inf_summ['hdi_2.5%'][2:])\n",
    "    h_hdi = np.array(inf_summ['hdi_97.5%'][2:])\n",
    "    plt.vlines(i+6, np.mean(l_hdi), np.mean(h_hdi),  colors=col3, linestyles='-', linewidth=4, capstyle='round', label='95% HDI',clip_on=False, zorder=4)\n",
    "    plt.scatter(i+6, np.mean(inf_mean), s=200, edgecolors=col3, color='white', linewidths=4, zorder=4)\n",
    "\n",
    "##\n",
    "col1= sns.color_palette(\"muted\")[7]\n",
    "\n",
    "plt.scatter(data= mir2_F5_reformatted, x='Generation', y='Eu', s=60, edgecolors='silver', color='silver', linewidths=2, zorder=2)\n",
    "plt.scatter(data= mir2_F5N_reformatted, x='Generation', y='Eu', s=200, edgecolors='#3498DB', color='white', linewidths=4, zorder=2)\n",
    "\n",
    "for i in range(1):\n",
    "    inf_summ = az.summary(mir2_F0_res[i][1], hdi_prob=0.95)\n",
    "    inf_mean = np.array(inf_summ['mean'][2:])\n",
    "    l_hdi =  np.array(inf_summ['hdi_2.5%'][2:])\n",
    "    h_hdi = np.array(inf_summ['hdi_97.5%'][2:])\n",
    "    plt.vlines(i+0.15, np.mean(l_hdi), np.mean(h_hdi),  colors='#3498DB', linestyles='-', linewidth=4, capstyle='round', label='95% HDI',clip_on=False, zorder=4)\n",
    "    plt.scatter(i+0.15, np.mean(inf_mean), s=200, edgecolors='#3498DB', color='white', linewidths=4, zorder=4)\n",
    "\n",
    "for i in range(6):\n",
    "    inf_summ = az.summary(mir2_F5Rev_res[i][1], hdi_prob=0.95)\n",
    "    inf_mean = np.array(inf_summ['mean'][2:])\n",
    "    l_hdi =  np.array(inf_summ['hdi_2.5%'][2:])\n",
    "    h_hdi = np.array(inf_summ['hdi_97.5%'][2:])\n",
    "    plt.vlines(i+6.15, np.mean(l_hdi), np.mean(h_hdi),  colors='#3498DB', linestyles='-', linewidth=4, capstyle='round', label='95% HDI',clip_on=False, zorder=3)\n",
    "    plt.scatter(i+6.15, np.mean(inf_mean), s=200, edgecolors='#3498DB', color='white', linewidths=4, zorder=4)\n",
    "\n",
    "##\n",
    "col2=sns.color_palette(\"muted\")[8]\n",
    "\n",
    "plt.scatter(data= mir1_F5_reformatted, x='Generation', y='Eu', s=60, edgecolors='silver', color='silver', linewidths=2, zorder=2)\n",
    "plt.scatter(data= mir1_F5N_reformatted, x='Generation', y='Eu', s=200, edgecolors='#2ECC71', color='white', linewidths=4, zorder=2)\n",
    "\n",
    "for i in range(1):\n",
    "    inf_summ = az.summary(mir1_F0_res[i][1], hdi_prob=0.95)\n",
    "    inf_mean = np.array(inf_summ['mean'][2:])\n",
    "    l_hdi =  np.array(inf_summ['hdi_2.5%'][2:])\n",
    "    h_hdi = np.array(inf_summ['hdi_97.5%'][2:])\n",
    "    plt.vlines(i+0.3, np.mean(l_hdi), np.mean(h_hdi),  colors='#2ECC71', linestyles='-', linewidth=4, capstyle='round', label='95% HDI',clip_on=False, zorder=4)\n",
    "    plt.scatter(i+0.3, np.mean(inf_mean), s=200, edgecolors='#2ECC71', color='white', linewidths=4, zorder=4)\n",
    "\n",
    "for i in range(6):\n",
    "    inf_summ = az.summary(mir1_F5Rev_res[i][1], hdi_prob=0.95)\n",
    "    inf_mean = np.array(inf_summ['mean'][2:])\n",
    "    l_hdi =  np.array(inf_summ['hdi_2.5%'][2:])\n",
    "    h_hdi = np.array(inf_summ['hdi_97.5%'][2:])\n",
    "    plt.vlines(i+6.3, np.mean(l_hdi), np.mean(h_hdi),  colors='#2ECC71', linestyles='-', linewidth=4, capstyle='round', label='95% HDI',clip_on=False, zorder=3)\n",
    "    plt.scatter(i+6.3, np.mean(inf_mean), s=200, edgecolors='#2ECC71', color='white', linewidths=4, zorder=4)\n",
    "\n",
    "#for i in range(1):\n",
    " #   inf_summ = az.summary(mir1_F3Rev_res_2[i][1], hdi_prob=0.95)\n",
    "  #  inf_mean = np.array(inf_summ['mean'][2:])\n",
    "   # l_hdi =  np.array(inf_summ['hdi_2.5%'][2:])\n",
    "    #h_hdi = np.array(inf_summ['hdi_97.5%'][2:])\n",
    "    #plt.vlines(i+4.3, np.mean(l_hdi), np.mean(h_hdi),  colors='#2ECC71', linestyles='-', linewidth=4, capstyle='round', label='95% HDI',clip_on=False, zorder=3)\n",
    "    #plt.scatter(i+4.3, np.mean(inf_mean), s=200, edgecolors='#2ECC71', color='white', linewidths=4, zorder=4)\n",
    "\n",
    "\n",
    "\n",
    "##\n",
    "col=sns.color_palette(\"muted\")[9]\n",
    "plt.scatter(data= mir0_F5_reformatted, x='Generation', y='Eu', s=60, edgecolors='silver', color='silver', linewidths=2, zorder=2)\n",
    "plt.scatter(data= mir0_F5N_reformatted, x='Generation', y='Eu', s=200, edgecolors='#D35400', color='white', linewidths=4, zorder=2)\n",
    "\n",
    "for i in range(1):\n",
    "    inf_summ = az.summary(mir0_F0_res[i][1], hdi_prob=0.95)\n",
    "    inf_mean = np.array(inf_summ['mean'][2:])\n",
    "    l_hdi =  np.array(inf_summ['hdi_2.5%'][2:])\n",
    "    h_hdi = np.array(inf_summ['hdi_97.5%'][2:])\n",
    "    plt.vlines(i+0.45, np.mean(l_hdi), np.mean(h_hdi),  colors='#D35400', linestyles='-', linewidth=4, capstyle='round', label='95% HDI',clip_on=False, zorder=4)\n",
    "    plt.scatter(i+0.45, np.mean(inf_mean), s=200, edgecolors='#D35400', color='white', linewidths=4, zorder=4)\n",
    "\n",
    "for i in range(5):\n",
    "    inf_summ = az.summary(mir0_F5Rev_res[i][1], hdi_prob=0.95)\n",
    "    inf_mean = np.array(inf_summ['mean'][2:])\n",
    "    l_hdi =  np.array(inf_summ['hdi_2.5%'][2:])\n",
    "    h_hdi = np.array(inf_summ['hdi_97.5%'][2:])\n",
    "    plt.vlines(i+6.45, np.mean(l_hdi), np.mean(h_hdi),  colors='#D35400', linestyles='-', linewidth=4, capstyle='round', label='95% HDI',clip_on=False, zorder=4)\n",
    "    plt.scatter(i+6.45, np.mean(inf_mean), s=200, edgecolors='#D35400', color='white', linewidths=4, zorder=4)\n",
    "\n",
    "for i in range(1):\n",
    "    inf_summ = az.summary(mir0_F5Rev_res_2[i][1], hdi_prob=0.95)\n",
    "    inf_mean = np.array(inf_summ['mean'][2:])\n",
    "    l_hdi =  np.array(inf_summ['hdi_2.5%'][2:])\n",
    "    h_hdi = np.array(inf_summ['hdi_97.5%'][2:])\n",
    "    plt.vlines(i+11.45, np.mean(l_hdi), np.mean(h_hdi),  colors='#D35400', linestyles='-', linewidth=4, capstyle='round', label='95% HDI',clip_on=False, zorder=4)\n",
    "    plt.scatter(i+11.45, np.mean(inf_mean), s=200, edgecolors='#D35400', color='white', linewidths=4, zorder=4)\n",
    "\n",
    "\n",
    "plt.ylabel(r'$\\%$Predatory adults (Eu)', fontsize=25)\n",
    "plt.xlabel('Generation', fontsize=25)\n",
    "plt.xticks(fontsize=25)\n",
    "plt.yticks(fontsize=25)\n",
    "\n",
    "ax.set(ylabel=r'$\\%$Predatory adults (Eu)', xlabel='Generations', ylim=(-0.05, 1.05), xlim=(-0.5, 12), xticklabels=[0,1,2,3,4,5,'R1','R2','R3', 'R4','R5','R6'], yticks=np.linspace(0,1,5), yticklabels=[0, 0.25, 0.5, 0.75, 1]);\n",
    "\n",
    "col = 'moccasin'\n",
    "x = np.linspace(-0.5, 12)\n",
    "ax.fill_between(x, [0.1111 for i in x], [0.438 for i in x], color=col, alpha=1, edgecolor=col, zorder=1)\n",
    "\n",
    "plt.savefig('miR_F5Rev.pdf',  bbox_inches='tight',\n",
    "           dpi=600, transparent=True)"
   ]
  },
  {
   "cell_type": "code",
   "execution_count": null,
   "id": "05846a38",
   "metadata": {},
   "outputs": [],
   "source": []
  }
 ],
 "metadata": {
  "kernelspec": {
   "display_name": "Python 3 (ipykernel)",
   "language": "python",
   "name": "python3"
  },
  "language_info": {
   "codemirror_mode": {
    "name": "ipython",
    "version": 3
   },
   "file_extension": ".py",
   "mimetype": "text/x-python",
   "name": "python",
   "nbconvert_exporter": "python",
   "pygments_lexer": "ipython3",
   "version": "3.11.5"
  }
 },
 "nbformat": 4,
 "nbformat_minor": 5
}
